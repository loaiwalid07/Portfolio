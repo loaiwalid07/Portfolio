{
  "metadata": {
    "kernelspec": {
      "language": "python",
      "display_name": "Python 3",
      "name": "python3"
    },
    "language_info": {
      "name": "python",
      "version": "3.7.12",
      "mimetype": "text/x-python",
      "codemirror_mode": {
        "name": "ipython",
        "version": 3
      },
      "pygments_lexer": "ipython3",
      "nbconvert_exporter": "python",
      "file_extension": ".py"
    },
    "colab": {
      "name": "Intrusion Detection on UNSBW-NB15 by using Machine Learning Techniques.ipynb",
      "provenance": [],
      "collapsed_sections": [
        "6uXtwVzPDwjb",
        "qUrBo1mqbYSv"
      ],
      "include_colab_link": true
    }
  },
  "nbformat_minor": 0,
  "nbformat": 4,
  "cells": [
    {
      "cell_type": "markdown",
      "metadata": {
        "id": "view-in-github",
        "colab_type": "text"
      },
      "source": [
        "<a href=\"https://colab.research.google.com/github/loaiwalid07/main/blob/main/Intrusion_Detection_on_UNSBW_NB15_by_using_Machine_Learning_Techniques.ipynb\" target=\"_parent\"><img src=\"https://colab.research.google.com/assets/colab-badge.svg\" alt=\"Open In Colab\"/></a>"
      ]
    },
    {
      "cell_type": "markdown",
      "source": [
        "# <h1 style=' border:1;'><center>Intrusion Detection on UNSBW-NB15 by using Machine Learning Techniques</center></h1>\n",
        "\n",
        "\n",
        "\n",
        "\n",
        "\n",
        "----"
      ],
      "metadata": {
        "id": "258cb14e"
      }
    },
    {
      "cell_type": "markdown",
      "source": [
        "#Import Important Pacages"
      ],
      "metadata": {
        "id": "6uXtwVzPDwjb"
      }
    },
    {
      "cell_type": "code",
      "source": [
        "!pip install -q sklearn_som \n",
        "!pip install -q git+https://github.com/giuliano-oliveira/gdown_folder.git"
      ],
      "metadata": {
        "colab": {
          "base_uri": "https://localhost:8080/"
        },
        "id": "AzsVAwXvDwXE",
        "outputId": "9b58a1d5-4c35-4d4e-8810-157341f12a2c"
      },
      "execution_count": null,
      "outputs": [
        {
          "output_type": "stream",
          "name": "stdout",
          "text": [
            "  Installing build dependencies ... \u001b[?25l\u001b[?25hdone\n",
            "  Getting requirements to build wheel ... \u001b[?25l\u001b[?25hdone\n",
            "    Preparing wheel metadata ... \u001b[?25l\u001b[?25hdone\n"
          ]
        }
      ]
    },
    {
      "cell_type": "code",
      "source": [
        "import pandas as pd\n",
        "import numpy as np\n",
        "import random\n",
        "import gdown\n",
        "import os\n",
        "from collections import Counter\n",
        "from sklearn.model_selection import train_test_split\n",
        "from sklearn.preprocessing import MinMaxScaler,StandardScaler,LabelEncoder,normalize,OneHotEncoder\n",
        "import plotly.graph_objects as go\n",
        "import matplotlib.pyplot as plt\n",
        "import seaborn as sns\n",
        "from sklearn import svm\n",
        "from sklearn.ensemble import StackingClassifier,RandomForestClassifier,BaggingClassifier\n",
        "from sklearn.tree import DecisionTreeClassifier\n",
        "from sklearn.inspection import permutation_importance\n",
        "from sklearn import preprocessing\n",
        "from sklearn.model_selection import cross_val_score,cross_validate, train_test_split, GridSearchCV, StratifiedKFold\n",
        "from sklearn import metrics\n",
        "from sklearn.metrics import plot_confusion_matrix, classification_report,roc_curve, roc_auc_score\n",
        "from sklearn.manifold import TSNE\n",
        "from sklearn_som.som import SOM\n",
        "from sklearn.pipeline import make_pipeline\n",
        "from xgboost import XGBClassifier\n",
        "from tqdm import trange"
      ],
      "metadata": {
        "id": "YfQCih75te38",
        "execution": {
          "iopub.status.busy": "2021-12-11T01:16:22.849574Z",
          "iopub.execute_input": "2021-12-11T01:16:22.850520Z",
          "iopub.status.idle": "2021-12-11T01:16:52.029019Z",
          "shell.execute_reply.started": "2021-12-11T01:16:22.850480Z",
          "shell.execute_reply": "2021-12-11T01:16:52.027809Z"
        },
        "trusted": true
      },
      "execution_count": null,
      "outputs": []
    },
    {
      "cell_type": "markdown",
      "source": [
        "# **Load the dataset**"
      ],
      "metadata": {
        "id": "oleywlFYY5aP"
      }
    },
    {
      "cell_type": "code",
      "source": [
        "for i in trange(1):\n",
        "  !gdown --id 1yafPDtNnSxCcYqhE5VhCMTUPk8PGfTXm\n",
        "  !gdown --id 19EBDKZ1WrFDSqEiIpmgUL3h84jqC2CbQ"
      ],
      "metadata": {
        "id": "MbJc2K6buSv_",
        "outputId": "8edb882c-8145-43b1-de3d-5c66cfcb72ac",
        "execution": {
          "iopub.status.busy": "2021-12-11T01:04:55.517759Z",
          "iopub.execute_input": "2021-12-11T01:04:55.518061Z",
          "iopub.status.idle": "2021-12-11T01:04:59.279652Z",
          "shell.execute_reply.started": "2021-12-11T01:04:55.518031Z",
          "shell.execute_reply": "2021-12-11T01:04:59.278638Z"
        },
        "trusted": true,
        "colab": {
          "base_uri": "https://localhost:8080/"
        }
      },
      "execution_count": null,
      "outputs": [
        {
          "output_type": "stream",
          "name": "stderr",
          "text": [
            "\r  0%|          | 0/1 [00:00<?, ?it/s]"
          ]
        },
        {
          "output_type": "stream",
          "name": "stdout",
          "text": [
            "Downloading...\n",
            "From: https://drive.google.com/uc?id=1yafPDtNnSxCcYqhE5VhCMTUPk8PGfTXm\n",
            "To: /content/UNSW_NB15_.csv\n",
            "100% 15.4M/15.4M [00:00<00:00, 263MB/s]\n",
            "Downloading...\n",
            "From: https://drive.google.com/uc?id=19EBDKZ1WrFDSqEiIpmgUL3h84jqC2CbQ\n",
            "To: /content/train-set_UNSW_NB15_.csv\n",
            "100% 32.3M/32.3M [00:00<00:00, 199MB/s]\n"
          ]
        },
        {
          "output_type": "stream",
          "name": "stderr",
          "text": [
            "100%|██████████| 1/1 [00:04<00:00,  4.48s/it]\n"
          ]
        }
      ]
    },
    {
      "cell_type": "code",
      "source": [
        "train_set = pd.read_csv(\"./train-set_UNSW_NB15_.csv\") #, header = None\n",
        "test_set = pd.read_csv(\"./UNSW_NB15_.csv\") "
      ],
      "metadata": {
        "id": "fJuVGK1YCvts"
      },
      "execution_count": null,
      "outputs": []
    },
    {
      "cell_type": "markdown",
      "source": [
        "# **Data Cleaning & Prepocessing**"
      ],
      "metadata": {
        "id": "7uD1nQl4DW4t"
      }
    },
    {
      "cell_type": "code",
      "metadata": {
        "id": "wQMuZMDNY7x0",
        "colab": {
          "base_uri": "https://localhost:8080/"
        },
        "outputId": "810014e7-3594-43ac-8a06-2ffb50f35b76"
      },
      "source": [
        "'''\n",
        "Checkng for nulls and drop duplicated values \n",
        "'''\n",
        "(train_set =='-').sum()\n",
        "\n",
        "test_set.isnull().sum().sum()\n",
        "\n",
        "print(Counter(train_set.attack_cat))\n",
        "\n",
        "bin_labels = pd.value_counts(train_set['label'], sort = True)\n",
        "bin_labels.rename(index={0:'Normal',1:'Attack'})\n",
        "multi_labels = pd.value_counts(train_set['attack_cat'], sort = True)\n",
        "\n",
        "train_set.duplicated().sum()\n",
        "\n",
        "train_set['service'].replace('-',np.nan,inplace=True)\n",
        "train_set.dropna(inplace=True)\n",
        "\n",
        "test_set['service'].replace('-',np.nan,inplace=True)\n",
        "test_set.dropna(inplace=True)\n",
        "\n",
        "train_set.isnull().sum().sum()"
      ],
      "execution_count": null,
      "outputs": [
        {
          "output_type": "stream",
          "name": "stdout",
          "text": [
            "Counter({'Normal': 56000, 'Generic': 40000, 'Exploits': 33393, 'Fuzzers': 18184, 'DoS': 12264, 'Reconnaissance': 10491, 'Analysis': 2000, 'Backdoor': 1746, 'Shellcode': 1133, 'Worms': 130})\n"
          ]
        },
        {
          "output_type": "execute_result",
          "data": {
            "text/plain": [
              "0"
            ]
          },
          "metadata": {},
          "execution_count": 93
        }
      ]
    },
    {
      "cell_type": "code",
      "source": [
        "duplicate = test_set[test_set.duplicated()]\n",
        "duplicate\n",
        "print(\"Duplicate Rows :\")\n",
        "  \n",
        "# Print the resultant Dataframe\n",
        "duplicate"
      ],
      "metadata": {
        "colab": {
          "base_uri": "https://localhost:8080/",
          "height": 87
        },
        "id": "oZrqCNIeEBly",
        "outputId": "cfadf245-96ff-4179-fbda-0c45dc99abcc"
      },
      "execution_count": null,
      "outputs": [
        {
          "output_type": "stream",
          "name": "stdout",
          "text": [
            "Duplicate Rows :\n"
          ]
        },
        {
          "output_type": "execute_result",
          "data": {
            "text/html": [
              "<div>\n",
              "<style scoped>\n",
              "    .dataframe tbody tr th:only-of-type {\n",
              "        vertical-align: middle;\n",
              "    }\n",
              "\n",
              "    .dataframe tbody tr th {\n",
              "        vertical-align: top;\n",
              "    }\n",
              "\n",
              "    .dataframe thead th {\n",
              "        text-align: right;\n",
              "    }\n",
              "</style>\n",
              "<table border=\"1\" class=\"dataframe\">\n",
              "  <thead>\n",
              "    <tr style=\"text-align: right;\">\n",
              "      <th></th>\n",
              "      <th>id</th>\n",
              "      <th>dur</th>\n",
              "      <th>proto</th>\n",
              "      <th>service</th>\n",
              "      <th>state</th>\n",
              "      <th>spkts</th>\n",
              "      <th>dpkts</th>\n",
              "      <th>sbytes</th>\n",
              "      <th>dbytes</th>\n",
              "      <th>rate</th>\n",
              "      <th>sttl</th>\n",
              "      <th>dttl</th>\n",
              "      <th>sload</th>\n",
              "      <th>dload</th>\n",
              "      <th>sloss</th>\n",
              "      <th>dloss</th>\n",
              "      <th>sinpkt</th>\n",
              "      <th>dinpkt</th>\n",
              "      <th>sjit</th>\n",
              "      <th>djit</th>\n",
              "      <th>swin</th>\n",
              "      <th>stcpb</th>\n",
              "      <th>dtcpb</th>\n",
              "      <th>dwin</th>\n",
              "      <th>tcprtt</th>\n",
              "      <th>synack</th>\n",
              "      <th>ackdat</th>\n",
              "      <th>smean</th>\n",
              "      <th>dmean</th>\n",
              "      <th>trans_depth</th>\n",
              "      <th>response_body_len</th>\n",
              "      <th>ct_srv_src</th>\n",
              "      <th>ct_state_ttl</th>\n",
              "      <th>ct_dst_ltm</th>\n",
              "      <th>ct_src_dport_ltm</th>\n",
              "      <th>ct_dst_sport_ltm</th>\n",
              "      <th>ct_dst_src_ltm</th>\n",
              "      <th>is_ftp_login</th>\n",
              "      <th>ct_ftp_cmd</th>\n",
              "      <th>ct_flw_http_mthd</th>\n",
              "      <th>ct_src_ltm</th>\n",
              "      <th>ct_srv_dst</th>\n",
              "      <th>is_sm_ips_ports</th>\n",
              "      <th>attack_cat</th>\n",
              "      <th>label</th>\n",
              "    </tr>\n",
              "  </thead>\n",
              "  <tbody>\n",
              "  </tbody>\n",
              "</table>\n",
              "</div>"
            ],
            "text/plain": [
              "Empty DataFrame\n",
              "Columns: [id, dur, proto, service, state, spkts, dpkts, sbytes, dbytes, rate, sttl, dttl, sload, dload, sloss, dloss, sinpkt, dinpkt, sjit, djit, swin, stcpb, dtcpb, dwin, tcprtt, synack, ackdat, smean, dmean, trans_depth, response_body_len, ct_srv_src, ct_state_ttl, ct_dst_ltm, ct_src_dport_ltm, ct_dst_sport_ltm, ct_dst_src_ltm, is_ftp_login, ct_ftp_cmd, ct_flw_http_mthd, ct_src_ltm, ct_srv_dst, is_sm_ips_ports, attack_cat, label]\n",
              "Index: []"
            ]
          },
          "metadata": {},
          "execution_count": 94
        }
      ]
    },
    {
      "cell_type": "code",
      "source": [
        "train_set = train_set.drop([ 'stcpb', 'dtcpb', 'is_sm_ips_ports', 'ct_state_ttl', 'ct_flw_http_mthd', 'is_ftp_login', 'ct_ftp_cmd','id'], axis=1) # droped label\n",
        "test_set = test_set.drop([ 'stcpb', 'dtcpb', 'is_sm_ips_ports', 'ct_state_ttl', 'ct_flw_http_mthd', 'is_ftp_login', 'ct_ftp_cmd','id'], axis=1) # droped label\n",
        "\n",
        "\n",
        "# train_set.info()"
      ],
      "metadata": {
        "id": "5oLBEITYEv0B"
      },
      "execution_count": null,
      "outputs": []
    },
    {
      "cell_type": "markdown",
      "source": [
        "**Data Insights**"
      ],
      "metadata": {
        "id": "Br_HG53OFDEY"
      }
    },
    {
      "cell_type": "code",
      "source": [
        "# Mutli Plot\n",
        "\n",
        "labels = ['NonAttacks','Attack']\n",
        "my_explode = [0.1,0,0,0,0,0,0,0,0,0]\n",
        "plt.subplot(1, 2, 1)\n",
        "multi_labels.plot(kind = 'pie', rot=0,figsize=(11, 6), explode=my_explode, autopct='%1.1f%%', startangle=15,)\n",
        "plt.title(\"Multi class distribution\")\n",
        "plt.xticks(range(2), labels)\n",
        "plt.xlabel(\"Class\")\n",
        "plt.ylabel(\"Frequency\")\n",
        "print('/n')\n",
        "\n",
        "# Binary Plot\n",
        "plt.subplot(1, 2, 2)\n",
        "bin_labels.plot(kind = 'pie', rot=0,figsize=(11, 6),autopct='%1.1f%%', startangle=15,)\n",
        "plt.title(\"Binary class distribution\")\n",
        "plt.xticks(range(2), labels)\n",
        "plt.xlabel(\"Class\")\n",
        "plt.ylabel(\"Frequency\")\n"
      ],
      "metadata": {
        "colab": {
          "base_uri": "https://localhost:8080/",
          "height": 396
        },
        "id": "HKQtn4zDE-YX",
        "outputId": "92ee63d8-69ec-4806-9c4f-57912fc2a178"
      },
      "execution_count": null,
      "outputs": [
        {
          "output_type": "stream",
          "name": "stdout",
          "text": [
            "/n\n"
          ]
        },
        {
          "output_type": "execute_result",
          "data": {
            "text/plain": [
              "Text(0, 0.5, 'Frequency')"
            ]
          },
          "metadata": {},
          "execution_count": 96
        },
        {
          "output_type": "display_data",
          "data": {
            "image/png": "[encoded data removed]",
            "text/plain": [
              "<Figure size 792x432 with 2 Axes>"
            ]
          },
          "metadata": {}
        }
      ]
    },
    {
      "cell_type": "code",
      "source": [
        "train_set.attack_cat.value_counts().plot.barh()"
      ],
      "metadata": {
        "colab": {
          "base_uri": "https://localhost:8080/",
          "height": 285
        },
        "id": "nZnq6E67GUoF",
        "outputId": "57dc4ca3-c078-4f2c-9e76-159c69a7b0d0"
      },
      "execution_count": null,
      "outputs": [
        {
          "output_type": "execute_result",
          "data": {
            "text/plain": [
              "<matplotlib.axes._subplots.AxesSubplot at 0x7ff94090ad90>"
            ]
          },
          "metadata": {},
          "execution_count": 97
        },
        {
          "output_type": "display_data",
          "data": {
            "image/png": "[encoded data removed]",
            "text/plain": [
              "<Figure size 432x288 with 1 Axes>"
            ]
          },
          "metadata": {}
        }
      ]
    },
    {
      "cell_type": "code",
      "source": [
        "train_set.attack_cat.value_counts()"
      ],
      "metadata": {
        "colab": {
          "base_uri": "https://localhost:8080/"
        },
        "id": "jDmc04YvGkQl",
        "outputId": "71813d04-4698-488c-9d2c-eee09952de30"
      },
      "execution_count": null,
      "outputs": [
        {
          "output_type": "execute_result",
          "data": {
            "text/plain": [
              "Generic           39496\n",
              "Normal            19488\n",
              "Exploits          16187\n",
              "DoS                1791\n",
              "Fuzzers            1731\n",
              "Reconnaissance     1703\n",
              "Analysis            564\n",
              "Worms               114\n",
              "Backdoor             99\n",
              "Name: attack_cat, dtype: int64"
            ]
          },
          "metadata": {},
          "execution_count": 98
        }
      ]
    },
    {
      "cell_type": "code",
      "source": [
        "import seaborn as sns\n",
        "corr = train_set.corr()\n",
        "\n",
        "sns.set_theme('notebook')\n",
        "\n",
        "mask = np.triu(np.ones_like(corr, dtype=bool))\n",
        "cmap = sns.diverging_palette(230, 20, as_cmap=True)\n",
        "\n",
        "plt.figure(figsize=(12,8))\n",
        "sns.heatmap(corr, mask=mask, cmap=cmap, center=0, square=True, linewidths=1.)\n"
      ],
      "metadata": {
        "colab": {
          "base_uri": "https://localhost:8080/",
          "height": 602
        },
        "id": "a6lt3xKzGZvf",
        "outputId": "3b555942-e214-4304-ecf7-a6fd02bd4bea"
      },
      "execution_count": null,
      "outputs": [
        {
          "output_type": "execute_result",
          "data": {
            "text/plain": [
              "<matplotlib.axes._subplots.AxesSubplot at 0x7ff940be01d0>"
            ]
          },
          "metadata": {},
          "execution_count": 73
        },
        {
          "output_type": "display_data",
          "data": {
            "image/png": "[encoded data removed]",
            "text/plain": [
              "<Figure size 864x576 with 2 Axes>"
            ]
          },
          "metadata": {}
        }
      ]
    },
    {
      "cell_type": "markdown",
      "source": [
        ""
      ],
      "metadata": {
        "id": "2cZrUS44T7vd"
      }
    },
    {
      "cell_type": "code",
      "source": [
        "#drop Normal Cat from train set\n",
        "remove = train_set[train_set['attack_cat']=='Normal'].index\n",
        "train_set = train_set.drop(remove)"
      ],
      "metadata": {
        "id": "EDifJngEGh_N"
      },
      "execution_count": null,
      "outputs": []
    },
    {
      "cell_type": "code",
      "source": [
        "#drop Normal Cat from test set\n",
        "\n",
        "remove = test_set[test_set['attack_cat']=='Normal'].index\n",
        "test_set = test_set.drop(remove)\n",
        "\n",
        "Y_test = test_set.attack_cat\n",
        "\n",
        "X_test = test_set.drop(['label'], axis=1) #, 'attack_cat'\n",
        "\n",
        "# transfer with label encoding\n",
        "X_test = X_test.apply(LabelEncoder().fit_transform)"
      ],
      "metadata": {
        "id": "ac1UgTNgG5Km"
      },
      "execution_count": null,
      "outputs": []
    },
    {
      "cell_type": "markdown",
      "source": [
        ""
      ],
      "metadata": {
        "id": "tSrp6EjjMtzr"
      }
    },
    {
      "cell_type": "code",
      "source": [
        "pd.set_option('display.max_columns', None)\n",
        "\n",
        "isna = pd.DataFrame(train_set.isna().sum().values.reshape(1, 37), columns=train_set.columns, index=['NA'])\n",
        "isnull = pd.DataFrame(train_set.isnull().sum().values.reshape(1, 37), columns=train_set.columns, index=['Null'])\n",
        "\n",
        "print(pd.concat([isna, isnull]).sum().sum())\n",
        "pd.concat([isna, isnull])"
      ],
      "metadata": {
        "colab": {
          "base_uri": "https://localhost:8080/",
          "height": 150
        },
        "id": "DZyaNgMeHIa9",
        "outputId": "5171c29a-6f59-4909-bf0f-140b8fbec844"
      },
      "execution_count": null,
      "outputs": [
        {
          "output_type": "stream",
          "name": "stdout",
          "text": [
            "0\n"
          ]
        },
        {
          "output_type": "execute_result",
          "data": {
            "text/html": [
              "<div>\n",
              "<style scoped>\n",
              "    .dataframe tbody tr th:only-of-type {\n",
              "        vertical-align: middle;\n",
              "    }\n",
              "\n",
              "    .dataframe tbody tr th {\n",
              "        vertical-align: top;\n",
              "    }\n",
              "\n",
              "    .dataframe thead th {\n",
              "        text-align: right;\n",
              "    }\n",
              "</style>\n",
              "<table border=\"1\" class=\"dataframe\">\n",
              "  <thead>\n",
              "    <tr style=\"text-align: right;\">\n",
              "      <th></th>\n",
              "      <th>dur</th>\n",
              "      <th>proto</th>\n",
              "      <th>service</th>\n",
              "      <th>state</th>\n",
              "      <th>spkts</th>\n",
              "      <th>dpkts</th>\n",
              "      <th>sbytes</th>\n",
              "      <th>dbytes</th>\n",
              "      <th>rate</th>\n",
              "      <th>sttl</th>\n",
              "      <th>dttl</th>\n",
              "      <th>sload</th>\n",
              "      <th>dload</th>\n",
              "      <th>sloss</th>\n",
              "      <th>dloss</th>\n",
              "      <th>sinpkt</th>\n",
              "      <th>dinpkt</th>\n",
              "      <th>sjit</th>\n",
              "      <th>djit</th>\n",
              "      <th>swin</th>\n",
              "      <th>dwin</th>\n",
              "      <th>tcprtt</th>\n",
              "      <th>synack</th>\n",
              "      <th>ackdat</th>\n",
              "      <th>smean</th>\n",
              "      <th>dmean</th>\n",
              "      <th>trans_depth</th>\n",
              "      <th>response_body_len</th>\n",
              "      <th>ct_srv_src</th>\n",
              "      <th>ct_dst_ltm</th>\n",
              "      <th>ct_src_dport_ltm</th>\n",
              "      <th>ct_dst_sport_ltm</th>\n",
              "      <th>ct_dst_src_ltm</th>\n",
              "      <th>ct_src_ltm</th>\n",
              "      <th>ct_srv_dst</th>\n",
              "      <th>attack_cat</th>\n",
              "      <th>label</th>\n",
              "    </tr>\n",
              "  </thead>\n",
              "  <tbody>\n",
              "    <tr>\n",
              "      <th>NA</th>\n",
              "      <td>0</td>\n",
              "      <td>0</td>\n",
              "      <td>0</td>\n",
              "      <td>0</td>\n",
              "      <td>0</td>\n",
              "      <td>0</td>\n",
              "      <td>0</td>\n",
              "      <td>0</td>\n",
              "      <td>0</td>\n",
              "      <td>0</td>\n",
              "      <td>0</td>\n",
              "      <td>0</td>\n",
              "      <td>0</td>\n",
              "      <td>0</td>\n",
              "      <td>0</td>\n",
              "      <td>0</td>\n",
              "      <td>0</td>\n",
              "      <td>0</td>\n",
              "      <td>0</td>\n",
              "      <td>0</td>\n",
              "      <td>0</td>\n",
              "      <td>0</td>\n",
              "      <td>0</td>\n",
              "      <td>0</td>\n",
              "      <td>0</td>\n",
              "      <td>0</td>\n",
              "      <td>0</td>\n",
              "      <td>0</td>\n",
              "      <td>0</td>\n",
              "      <td>0</td>\n",
              "      <td>0</td>\n",
              "      <td>0</td>\n",
              "      <td>0</td>\n",
              "      <td>0</td>\n",
              "      <td>0</td>\n",
              "      <td>0</td>\n",
              "      <td>0</td>\n",
              "    </tr>\n",
              "    <tr>\n",
              "      <th>Null</th>\n",
              "      <td>0</td>\n",
              "      <td>0</td>\n",
              "      <td>0</td>\n",
              "      <td>0</td>\n",
              "      <td>0</td>\n",
              "      <td>0</td>\n",
              "      <td>0</td>\n",
              "      <td>0</td>\n",
              "      <td>0</td>\n",
              "      <td>0</td>\n",
              "      <td>0</td>\n",
              "      <td>0</td>\n",
              "      <td>0</td>\n",
              "      <td>0</td>\n",
              "      <td>0</td>\n",
              "      <td>0</td>\n",
              "      <td>0</td>\n",
              "      <td>0</td>\n",
              "      <td>0</td>\n",
              "      <td>0</td>\n",
              "      <td>0</td>\n",
              "      <td>0</td>\n",
              "      <td>0</td>\n",
              "      <td>0</td>\n",
              "      <td>0</td>\n",
              "      <td>0</td>\n",
              "      <td>0</td>\n",
              "      <td>0</td>\n",
              "      <td>0</td>\n",
              "      <td>0</td>\n",
              "      <td>0</td>\n",
              "      <td>0</td>\n",
              "      <td>0</td>\n",
              "      <td>0</td>\n",
              "      <td>0</td>\n",
              "      <td>0</td>\n",
              "      <td>0</td>\n",
              "    </tr>\n",
              "  </tbody>\n",
              "</table>\n",
              "</div>"
            ],
            "text/plain": [
              "      dur  proto  service  state  spkts  dpkts  sbytes  dbytes  rate  sttl  \\\n",
              "NA      0      0        0      0      0      0       0       0     0     0   \n",
              "Null    0      0        0      0      0      0       0       0     0     0   \n",
              "\n",
              "      dttl  sload  dload  sloss  dloss  sinpkt  dinpkt  sjit  djit  swin  \\\n",
              "NA       0      0      0      0      0       0       0     0     0     0   \n",
              "Null     0      0      0      0      0       0       0     0     0     0   \n",
              "\n",
              "      dwin  tcprtt  synack  ackdat  smean  dmean  trans_depth  \\\n",
              "NA       0       0       0       0      0      0            0   \n",
              "Null     0       0       0       0      0      0            0   \n",
              "\n",
              "      response_body_len  ct_srv_src  ct_dst_ltm  ct_src_dport_ltm  \\\n",
              "NA                    0           0           0                 0   \n",
              "Null                  0           0           0                 0   \n",
              "\n",
              "      ct_dst_sport_ltm  ct_dst_src_ltm  ct_src_ltm  ct_srv_dst  attack_cat  \\\n",
              "NA                   0               0           0           0           0   \n",
              "Null                 0               0           0           0           0   \n",
              "\n",
              "      label  \n",
              "NA        0  \n",
              "Null      0  "
            ]
          },
          "metadata": {},
          "execution_count": 99
        }
      ]
    },
    {
      "cell_type": "markdown",
      "source": [
        "# **Feature Selection**"
      ],
      "metadata": {
        "id": "qUrBo1mqbYSv"
      }
    },
    {
      "cell_type": "code",
      "source": [
        "#Preprocessing (transformation/scaling)\n",
        "\n",
        "le = LabelEncoder()\n",
        "le1 = LabelEncoder()\n",
        "le2 = LabelEncoder()\n",
        "le3 = LabelEncoder()\n",
        "\n",
        "vector = data['attack_cat']\n",
        "\n",
        "print(\"attack cat:\", set(list(vector))) # use print to make it print on single line \n",
        "\n",
        "data['attack_cat'] = le1.fit_transform(vector)\n",
        "data['proto'] =   le.fit_transform(data['proto'])\n",
        "data['service'] = le1.fit_transform(data['service'])\n",
        "data['state'] =   le2.fit_transform(data['state'])\n",
        "#data['srcip'] = le.fit_transform(data['srcip'])\n",
        "#data['dstip'] = le.fit_transform(data['dstip'])\n",
        "\n",
        "print('\\nDescribing attack_type: ')\n",
        "data['attack_cat'].describe()"
      ],
      "metadata": {
        "id": "DaQ1f4assN2T",
        "outputId": "ff103e82-4a5e-45e7-d2a3-b9a1b1e5f172",
        "execution": {
          "iopub.status.busy": "2021-12-11T01:05:41.747053Z",
          "iopub.execute_input": "2021-12-11T01:05:41.747414Z",
          "iopub.status.idle": "2021-12-11T01:05:42.277789Z",
          "shell.execute_reply.started": "2021-12-11T01:05:41.747375Z",
          "shell.execute_reply": "2021-12-11T01:05:42.276756Z"
        },
        "trusted": true,
        "colab": {
          "base_uri": "https://localhost:8080/"
        }
      },
      "execution_count": null,
      "outputs": [
        {
          "output_type": "stream",
          "name": "stdout",
          "text": [
            "attack cat: {'Shellcode', 'Generic', 'Analysis', 'Worms', 'Normal', 'Reconnaissance', 'DoS', 'Fuzzers', 'Exploits', 'Backdoor'}\n",
            "\n",
            "Describing attack_type: \n"
          ]
        },
        {
          "output_type": "execute_result",
          "data": {
            "text/plain": [
              "count    82332.000000\n",
              "mean         4.987757\n",
              "std          1.431541\n",
              "min          0.000000\n",
              "25%          4.000000\n",
              "50%          5.000000\n",
              "75%          6.000000\n",
              "max          9.000000\n",
              "Name: attack_cat, dtype: float64"
            ]
          },
          "metadata": {},
          "execution_count": 28
        }
      ]
    },
    {
      "cell_type": "code",
      "source": [
        "#To show the headers of the data\n",
        "data.columns"
      ],
      "metadata": {
        "id": "C2qwHtbRsVr6",
        "outputId": "1f1111a3-8e4f-46bc-b42a-88af89ddecc5",
        "execution": {
          "iopub.status.busy": "2021-12-11T01:05:45.477256Z",
          "iopub.execute_input": "2021-12-11T01:05:45.477985Z",
          "iopub.status.idle": "2021-12-11T01:05:45.485500Z",
          "shell.execute_reply.started": "2021-12-11T01:05:45.477942Z",
          "shell.execute_reply": "2021-12-11T01:05:45.484612Z"
        },
        "trusted": true,
        "colab": {
          "base_uri": "https://localhost:8080/"
        }
      },
      "execution_count": null,
      "outputs": [
        {
          "output_type": "execute_result",
          "data": {
            "text/plain": [
              "Index(['id', 'dur', 'proto', 'service', 'state', 'spkts', 'dpkts', 'sbytes',\n",
              "       'dbytes', 'rate', 'sttl', 'dttl', 'sload', 'dload', 'sloss', 'dloss',\n",
              "       'sinpkt', 'dinpkt', 'sjit', 'djit', 'swin', 'stcpb', 'dtcpb', 'dwin',\n",
              "       'tcprtt', 'synack', 'ackdat', 'smean', 'dmean', 'trans_depth',\n",
              "       'response_body_len', 'ct_srv_src', 'ct_state_ttl', 'ct_dst_ltm',\n",
              "       'ct_src_dport_ltm', 'ct_dst_sport_ltm', 'ct_dst_src_ltm',\n",
              "       'is_ftp_login', 'ct_ftp_cmd', 'ct_flw_http_mthd', 'ct_src_ltm',\n",
              "       'ct_srv_dst', 'is_sm_ips_ports', 'attack_cat', 'label'],\n",
              "      dtype='object')"
            ]
          },
          "metadata": {},
          "execution_count": 7
        }
      ]
    },
    {
      "cell_type": "code",
      "source": [
        "#X = data.drop(['id','attack_cat','label', 'stcpb', 'dtcpb', 'is_sm_ips_ports', 'ct_state_ttl', 'ct_flw_http_mthd', 'is_ftp_login', 'ct_ftp_cmd'], axis=1) # droped label\n",
        "#X = data[varr]\n",
        "\n",
        "X = data.drop(['id','attack_cat','label'], axis=1) \n",
        "y = data['attack_cat']\n",
        "X"
      ],
      "metadata": {
        "id": "JsINQEQzseL3",
        "outputId": "33cf4c85-63c6-44eb-bd98-1ee8e23d5e35",
        "execution": {
          "iopub.status.busy": "2021-12-11T01:05:48.048183Z",
          "iopub.execute_input": "2021-12-11T01:05:48.048504Z",
          "iopub.status.idle": "2021-12-11T01:05:48.098146Z",
          "shell.execute_reply.started": "2021-12-11T01:05:48.048467Z",
          "shell.execute_reply": "2021-12-11T01:05:48.097211Z"
        },
        "trusted": true,
        "colab": {
          "base_uri": "https://localhost:8080/",
          "height": 443
        }
      },
      "execution_count": null,
      "outputs": [
        {
          "output_type": "execute_result",
          "data": {
            "text/html": [
              "<div>\n",
              "<style scoped>\n",
              "    .dataframe tbody tr th:only-of-type {\n",
              "        vertical-align: middle;\n",
              "    }\n",
              "\n",
              "    .dataframe tbody tr th {\n",
              "        vertical-align: top;\n",
              "    }\n",
              "\n",
              "    .dataframe thead th {\n",
              "        text-align: right;\n",
              "    }\n",
              "</style>\n",
              "<table border=\"1\" class=\"dataframe\">\n",
              "  <thead>\n",
              "    <tr style=\"text-align: right;\">\n",
              "      <th></th>\n",
              "      <th>dur</th>\n",
              "      <th>proto</th>\n",
              "      <th>service</th>\n",
              "      <th>state</th>\n",
              "      <th>spkts</th>\n",
              "      <th>dpkts</th>\n",
              "      <th>sbytes</th>\n",
              "      <th>dbytes</th>\n",
              "      <th>rate</th>\n",
              "      <th>sttl</th>\n",
              "      <th>dttl</th>\n",
              "      <th>sload</th>\n",
              "      <th>dload</th>\n",
              "      <th>sloss</th>\n",
              "      <th>dloss</th>\n",
              "      <th>sinpkt</th>\n",
              "      <th>dinpkt</th>\n",
              "      <th>sjit</th>\n",
              "      <th>djit</th>\n",
              "      <th>swin</th>\n",
              "      <th>stcpb</th>\n",
              "      <th>dtcpb</th>\n",
              "      <th>dwin</th>\n",
              "      <th>tcprtt</th>\n",
              "      <th>synack</th>\n",
              "      <th>ackdat</th>\n",
              "      <th>smean</th>\n",
              "      <th>dmean</th>\n",
              "      <th>trans_depth</th>\n",
              "      <th>response_body_len</th>\n",
              "      <th>ct_srv_src</th>\n",
              "      <th>ct_state_ttl</th>\n",
              "      <th>ct_dst_ltm</th>\n",
              "      <th>ct_src_dport_ltm</th>\n",
              "      <th>ct_dst_sport_ltm</th>\n",
              "      <th>ct_dst_src_ltm</th>\n",
              "      <th>is_ftp_login</th>\n",
              "      <th>ct_ftp_cmd</th>\n",
              "      <th>ct_flw_http_mthd</th>\n",
              "      <th>ct_src_ltm</th>\n",
              "      <th>ct_srv_dst</th>\n",
              "      <th>is_sm_ips_ports</th>\n",
              "    </tr>\n",
              "  </thead>\n",
              "  <tbody>\n",
              "    <tr>\n",
              "      <th>0</th>\n",
              "      <td>0.000011</td>\n",
              "      <td>117</td>\n",
              "      <td>0</td>\n",
              "      <td>4</td>\n",
              "      <td>2</td>\n",
              "      <td>0</td>\n",
              "      <td>496</td>\n",
              "      <td>0</td>\n",
              "      <td>90909.090200</td>\n",
              "      <td>254</td>\n",
              "      <td>0</td>\n",
              "      <td>1.803636e+08</td>\n",
              "      <td>0.000000</td>\n",
              "      <td>0</td>\n",
              "      <td>0</td>\n",
              "      <td>0.011000</td>\n",
              "      <td>0.0</td>\n",
              "      <td>0.000000</td>\n",
              "      <td>0.000000</td>\n",
              "      <td>0</td>\n",
              "      <td>0</td>\n",
              "      <td>0</td>\n",
              "      <td>0</td>\n",
              "      <td>0.000000</td>\n",
              "      <td>0.000000</td>\n",
              "      <td>0.000000</td>\n",
              "      <td>248</td>\n",
              "      <td>0</td>\n",
              "      <td>0</td>\n",
              "      <td>0</td>\n",
              "      <td>2</td>\n",
              "      <td>2</td>\n",
              "      <td>1</td>\n",
              "      <td>1</td>\n",
              "      <td>1</td>\n",
              "      <td>2</td>\n",
              "      <td>0</td>\n",
              "      <td>0</td>\n",
              "      <td>0</td>\n",
              "      <td>1</td>\n",
              "      <td>2</td>\n",
              "      <td>0</td>\n",
              "    </tr>\n",
              "    <tr>\n",
              "      <th>1</th>\n",
              "      <td>0.000008</td>\n",
              "      <td>117</td>\n",
              "      <td>0</td>\n",
              "      <td>4</td>\n",
              "      <td>2</td>\n",
              "      <td>0</td>\n",
              "      <td>1762</td>\n",
              "      <td>0</td>\n",
              "      <td>125000.000300</td>\n",
              "      <td>254</td>\n",
              "      <td>0</td>\n",
              "      <td>8.810000e+08</td>\n",
              "      <td>0.000000</td>\n",
              "      <td>0</td>\n",
              "      <td>0</td>\n",
              "      <td>0.008000</td>\n",
              "      <td>0.0</td>\n",
              "      <td>0.000000</td>\n",
              "      <td>0.000000</td>\n",
              "      <td>0</td>\n",
              "      <td>0</td>\n",
              "      <td>0</td>\n",
              "      <td>0</td>\n",
              "      <td>0.000000</td>\n",
              "      <td>0.000000</td>\n",
              "      <td>0.000000</td>\n",
              "      <td>881</td>\n",
              "      <td>0</td>\n",
              "      <td>0</td>\n",
              "      <td>0</td>\n",
              "      <td>2</td>\n",
              "      <td>2</td>\n",
              "      <td>1</td>\n",
              "      <td>1</td>\n",
              "      <td>1</td>\n",
              "      <td>2</td>\n",
              "      <td>0</td>\n",
              "      <td>0</td>\n",
              "      <td>0</td>\n",
              "      <td>1</td>\n",
              "      <td>2</td>\n",
              "      <td>0</td>\n",
              "    </tr>\n",
              "    <tr>\n",
              "      <th>2</th>\n",
              "      <td>0.000005</td>\n",
              "      <td>117</td>\n",
              "      <td>0</td>\n",
              "      <td>4</td>\n",
              "      <td>2</td>\n",
              "      <td>0</td>\n",
              "      <td>1068</td>\n",
              "      <td>0</td>\n",
              "      <td>200000.005100</td>\n",
              "      <td>254</td>\n",
              "      <td>0</td>\n",
              "      <td>8.544000e+08</td>\n",
              "      <td>0.000000</td>\n",
              "      <td>0</td>\n",
              "      <td>0</td>\n",
              "      <td>0.005000</td>\n",
              "      <td>0.0</td>\n",
              "      <td>0.000000</td>\n",
              "      <td>0.000000</td>\n",
              "      <td>0</td>\n",
              "      <td>0</td>\n",
              "      <td>0</td>\n",
              "      <td>0</td>\n",
              "      <td>0.000000</td>\n",
              "      <td>0.000000</td>\n",
              "      <td>0.000000</td>\n",
              "      <td>534</td>\n",
              "      <td>0</td>\n",
              "      <td>0</td>\n",
              "      <td>0</td>\n",
              "      <td>3</td>\n",
              "      <td>2</td>\n",
              "      <td>1</td>\n",
              "      <td>1</td>\n",
              "      <td>1</td>\n",
              "      <td>3</td>\n",
              "      <td>0</td>\n",
              "      <td>0</td>\n",
              "      <td>0</td>\n",
              "      <td>1</td>\n",
              "      <td>3</td>\n",
              "      <td>0</td>\n",
              "    </tr>\n",
              "    <tr>\n",
              "      <th>3</th>\n",
              "      <td>0.000006</td>\n",
              "      <td>117</td>\n",
              "      <td>0</td>\n",
              "      <td>4</td>\n",
              "      <td>2</td>\n",
              "      <td>0</td>\n",
              "      <td>900</td>\n",
              "      <td>0</td>\n",
              "      <td>166666.660800</td>\n",
              "      <td>254</td>\n",
              "      <td>0</td>\n",
              "      <td>6.000000e+08</td>\n",
              "      <td>0.000000</td>\n",
              "      <td>0</td>\n",
              "      <td>0</td>\n",
              "      <td>0.006000</td>\n",
              "      <td>0.0</td>\n",
              "      <td>0.000000</td>\n",
              "      <td>0.000000</td>\n",
              "      <td>0</td>\n",
              "      <td>0</td>\n",
              "      <td>0</td>\n",
              "      <td>0</td>\n",
              "      <td>0.000000</td>\n",
              "      <td>0.000000</td>\n",
              "      <td>0.000000</td>\n",
              "      <td>450</td>\n",
              "      <td>0</td>\n",
              "      <td>0</td>\n",
              "      <td>0</td>\n",
              "      <td>3</td>\n",
              "      <td>2</td>\n",
              "      <td>2</td>\n",
              "      <td>2</td>\n",
              "      <td>1</td>\n",
              "      <td>3</td>\n",
              "      <td>0</td>\n",
              "      <td>0</td>\n",
              "      <td>0</td>\n",
              "      <td>2</td>\n",
              "      <td>3</td>\n",
              "      <td>0</td>\n",
              "    </tr>\n",
              "    <tr>\n",
              "      <th>4</th>\n",
              "      <td>0.000010</td>\n",
              "      <td>117</td>\n",
              "      <td>0</td>\n",
              "      <td>4</td>\n",
              "      <td>2</td>\n",
              "      <td>0</td>\n",
              "      <td>2126</td>\n",
              "      <td>0</td>\n",
              "      <td>100000.002500</td>\n",
              "      <td>254</td>\n",
              "      <td>0</td>\n",
              "      <td>8.504000e+08</td>\n",
              "      <td>0.000000</td>\n",
              "      <td>0</td>\n",
              "      <td>0</td>\n",
              "      <td>0.010000</td>\n",
              "      <td>0.0</td>\n",
              "      <td>0.000000</td>\n",
              "      <td>0.000000</td>\n",
              "      <td>0</td>\n",
              "      <td>0</td>\n",
              "      <td>0</td>\n",
              "      <td>0</td>\n",
              "      <td>0.000000</td>\n",
              "      <td>0.000000</td>\n",
              "      <td>0.000000</td>\n",
              "      <td>1063</td>\n",
              "      <td>0</td>\n",
              "      <td>0</td>\n",
              "      <td>0</td>\n",
              "      <td>3</td>\n",
              "      <td>2</td>\n",
              "      <td>2</td>\n",
              "      <td>2</td>\n",
              "      <td>1</td>\n",
              "      <td>3</td>\n",
              "      <td>0</td>\n",
              "      <td>0</td>\n",
              "      <td>0</td>\n",
              "      <td>2</td>\n",
              "      <td>3</td>\n",
              "      <td>0</td>\n",
              "    </tr>\n",
              "    <tr>\n",
              "      <th>...</th>\n",
              "      <td>...</td>\n",
              "      <td>...</td>\n",
              "      <td>...</td>\n",
              "      <td>...</td>\n",
              "      <td>...</td>\n",
              "      <td>...</td>\n",
              "      <td>...</td>\n",
              "      <td>...</td>\n",
              "      <td>...</td>\n",
              "      <td>...</td>\n",
              "      <td>...</td>\n",
              "      <td>...</td>\n",
              "      <td>...</td>\n",
              "      <td>...</td>\n",
              "      <td>...</td>\n",
              "      <td>...</td>\n",
              "      <td>...</td>\n",
              "      <td>...</td>\n",
              "      <td>...</td>\n",
              "      <td>...</td>\n",
              "      <td>...</td>\n",
              "      <td>...</td>\n",
              "      <td>...</td>\n",
              "      <td>...</td>\n",
              "      <td>...</td>\n",
              "      <td>...</td>\n",
              "      <td>...</td>\n",
              "      <td>...</td>\n",
              "      <td>...</td>\n",
              "      <td>...</td>\n",
              "      <td>...</td>\n",
              "      <td>...</td>\n",
              "      <td>...</td>\n",
              "      <td>...</td>\n",
              "      <td>...</td>\n",
              "      <td>...</td>\n",
              "      <td>...</td>\n",
              "      <td>...</td>\n",
              "      <td>...</td>\n",
              "      <td>...</td>\n",
              "      <td>...</td>\n",
              "      <td>...</td>\n",
              "    </tr>\n",
              "    <tr>\n",
              "      <th>82327</th>\n",
              "      <td>0.000005</td>\n",
              "      <td>117</td>\n",
              "      <td>0</td>\n",
              "      <td>4</td>\n",
              "      <td>2</td>\n",
              "      <td>0</td>\n",
              "      <td>104</td>\n",
              "      <td>0</td>\n",
              "      <td>200000.005100</td>\n",
              "      <td>254</td>\n",
              "      <td>0</td>\n",
              "      <td>8.320000e+07</td>\n",
              "      <td>0.000000</td>\n",
              "      <td>0</td>\n",
              "      <td>0</td>\n",
              "      <td>0.005000</td>\n",
              "      <td>0.0</td>\n",
              "      <td>0.000000</td>\n",
              "      <td>0.000000</td>\n",
              "      <td>0</td>\n",
              "      <td>0</td>\n",
              "      <td>0</td>\n",
              "      <td>0</td>\n",
              "      <td>0.000000</td>\n",
              "      <td>0.000000</td>\n",
              "      <td>0.000000</td>\n",
              "      <td>52</td>\n",
              "      <td>0</td>\n",
              "      <td>0</td>\n",
              "      <td>0</td>\n",
              "      <td>1</td>\n",
              "      <td>2</td>\n",
              "      <td>2</td>\n",
              "      <td>1</td>\n",
              "      <td>1</td>\n",
              "      <td>2</td>\n",
              "      <td>0</td>\n",
              "      <td>0</td>\n",
              "      <td>0</td>\n",
              "      <td>2</td>\n",
              "      <td>1</td>\n",
              "      <td>0</td>\n",
              "    </tr>\n",
              "    <tr>\n",
              "      <th>82328</th>\n",
              "      <td>1.106101</td>\n",
              "      <td>111</td>\n",
              "      <td>0</td>\n",
              "      <td>3</td>\n",
              "      <td>20</td>\n",
              "      <td>8</td>\n",
              "      <td>18062</td>\n",
              "      <td>354</td>\n",
              "      <td>24.410067</td>\n",
              "      <td>254</td>\n",
              "      <td>252</td>\n",
              "      <td>1.241044e+05</td>\n",
              "      <td>2242.109863</td>\n",
              "      <td>7</td>\n",
              "      <td>1</td>\n",
              "      <td>55.880051</td>\n",
              "      <td>143.7</td>\n",
              "      <td>4798.130981</td>\n",
              "      <td>190.980813</td>\n",
              "      <td>255</td>\n",
              "      <td>1072535109</td>\n",
              "      <td>3284291478</td>\n",
              "      <td>255</td>\n",
              "      <td>0.173208</td>\n",
              "      <td>0.100191</td>\n",
              "      <td>0.073017</td>\n",
              "      <td>903</td>\n",
              "      <td>44</td>\n",
              "      <td>0</td>\n",
              "      <td>0</td>\n",
              "      <td>1</td>\n",
              "      <td>1</td>\n",
              "      <td>2</td>\n",
              "      <td>1</td>\n",
              "      <td>1</td>\n",
              "      <td>1</td>\n",
              "      <td>0</td>\n",
              "      <td>0</td>\n",
              "      <td>0</td>\n",
              "      <td>3</td>\n",
              "      <td>2</td>\n",
              "      <td>0</td>\n",
              "    </tr>\n",
              "    <tr>\n",
              "      <th>82329</th>\n",
              "      <td>0.000000</td>\n",
              "      <td>6</td>\n",
              "      <td>0</td>\n",
              "      <td>4</td>\n",
              "      <td>1</td>\n",
              "      <td>0</td>\n",
              "      <td>46</td>\n",
              "      <td>0</td>\n",
              "      <td>0.000000</td>\n",
              "      <td>0</td>\n",
              "      <td>0</td>\n",
              "      <td>0.000000e+00</td>\n",
              "      <td>0.000000</td>\n",
              "      <td>0</td>\n",
              "      <td>0</td>\n",
              "      <td>60000.720000</td>\n",
              "      <td>0.0</td>\n",
              "      <td>0.000000</td>\n",
              "      <td>0.000000</td>\n",
              "      <td>0</td>\n",
              "      <td>0</td>\n",
              "      <td>0</td>\n",
              "      <td>0</td>\n",
              "      <td>0.000000</td>\n",
              "      <td>0.000000</td>\n",
              "      <td>0.000000</td>\n",
              "      <td>46</td>\n",
              "      <td>0</td>\n",
              "      <td>0</td>\n",
              "      <td>0</td>\n",
              "      <td>1</td>\n",
              "      <td>2</td>\n",
              "      <td>1</td>\n",
              "      <td>1</td>\n",
              "      <td>1</td>\n",
              "      <td>1</td>\n",
              "      <td>0</td>\n",
              "      <td>0</td>\n",
              "      <td>0</td>\n",
              "      <td>1</td>\n",
              "      <td>1</td>\n",
              "      <td>1</td>\n",
              "    </tr>\n",
              "    <tr>\n",
              "      <th>82330</th>\n",
              "      <td>0.000000</td>\n",
              "      <td>6</td>\n",
              "      <td>0</td>\n",
              "      <td>4</td>\n",
              "      <td>1</td>\n",
              "      <td>0</td>\n",
              "      <td>46</td>\n",
              "      <td>0</td>\n",
              "      <td>0.000000</td>\n",
              "      <td>0</td>\n",
              "      <td>0</td>\n",
              "      <td>0.000000e+00</td>\n",
              "      <td>0.000000</td>\n",
              "      <td>0</td>\n",
              "      <td>0</td>\n",
              "      <td>60000.732000</td>\n",
              "      <td>0.0</td>\n",
              "      <td>10.954518</td>\n",
              "      <td>0.000000</td>\n",
              "      <td>0</td>\n",
              "      <td>0</td>\n",
              "      <td>0</td>\n",
              "      <td>0</td>\n",
              "      <td>0.000000</td>\n",
              "      <td>0.000000</td>\n",
              "      <td>0.000000</td>\n",
              "      <td>46</td>\n",
              "      <td>0</td>\n",
              "      <td>0</td>\n",
              "      <td>0</td>\n",
              "      <td>1</td>\n",
              "      <td>2</td>\n",
              "      <td>1</td>\n",
              "      <td>1</td>\n",
              "      <td>1</td>\n",
              "      <td>1</td>\n",
              "      <td>0</td>\n",
              "      <td>0</td>\n",
              "      <td>0</td>\n",
              "      <td>1</td>\n",
              "      <td>1</td>\n",
              "      <td>1</td>\n",
              "    </tr>\n",
              "    <tr>\n",
              "      <th>82331</th>\n",
              "      <td>0.000009</td>\n",
              "      <td>117</td>\n",
              "      <td>0</td>\n",
              "      <td>4</td>\n",
              "      <td>2</td>\n",
              "      <td>0</td>\n",
              "      <td>104</td>\n",
              "      <td>0</td>\n",
              "      <td>111111.107200</td>\n",
              "      <td>254</td>\n",
              "      <td>0</td>\n",
              "      <td>4.622222e+07</td>\n",
              "      <td>0.000000</td>\n",
              "      <td>0</td>\n",
              "      <td>0</td>\n",
              "      <td>0.009000</td>\n",
              "      <td>0.0</td>\n",
              "      <td>0.000000</td>\n",
              "      <td>0.000000</td>\n",
              "      <td>0</td>\n",
              "      <td>0</td>\n",
              "      <td>0</td>\n",
              "      <td>0</td>\n",
              "      <td>0.000000</td>\n",
              "      <td>0.000000</td>\n",
              "      <td>0.000000</td>\n",
              "      <td>52</td>\n",
              "      <td>0</td>\n",
              "      <td>0</td>\n",
              "      <td>0</td>\n",
              "      <td>1</td>\n",
              "      <td>2</td>\n",
              "      <td>1</td>\n",
              "      <td>1</td>\n",
              "      <td>1</td>\n",
              "      <td>1</td>\n",
              "      <td>0</td>\n",
              "      <td>0</td>\n",
              "      <td>0</td>\n",
              "      <td>1</td>\n",
              "      <td>1</td>\n",
              "      <td>0</td>\n",
              "    </tr>\n",
              "  </tbody>\n",
              "</table>\n",
              "<p>82332 rows × 42 columns</p>\n",
              "</div>"
            ],
            "text/plain": [
              "            dur  proto  service  ...  ct_src_ltm  ct_srv_dst  is_sm_ips_ports\n",
              "0      0.000011    117        0  ...           1           2                0\n",
              "1      0.000008    117        0  ...           1           2                0\n",
              "2      0.000005    117        0  ...           1           3                0\n",
              "3      0.000006    117        0  ...           2           3                0\n",
              "4      0.000010    117        0  ...           2           3                0\n",
              "...         ...    ...      ...  ...         ...         ...              ...\n",
              "82327  0.000005    117        0  ...           2           1                0\n",
              "82328  1.106101    111        0  ...           3           2                0\n",
              "82329  0.000000      6        0  ...           1           1                1\n",
              "82330  0.000000      6        0  ...           1           1                1\n",
              "82331  0.000009    117        0  ...           1           1                0\n",
              "\n",
              "[82332 rows x 42 columns]"
            ]
          },
          "metadata": {},
          "execution_count": 29
        }
      ]
    },
    {
      "cell_type": "code",
      "source": [
        "x_attck = []\n",
        "y_attck = []\n",
        "for i in range(len(y)):\n",
        "  if y[i] == 1 :\n",
        "    y_attck.append(y[i])\n",
        "    x_attck.append(X.iloc[i])"
      ],
      "metadata": {
        "id": "Lv1ribZ8gX-6"
      },
      "execution_count": null,
      "outputs": []
    },
    {
      "cell_type": "markdown",
      "source": [
        "# **Binary Model**"
      ],
      "metadata": {
        "id": "00SscU6Xa-rA"
      }
    },
    {
      "cell_type": "code",
      "source": [
        "#Split the data set to use olny normal data\n",
        "\n",
        "num_col = train_set.select_dtypes(include='number').columns\n",
        "len(num_col)\n",
        "\n",
        "cat_col = train_set.columns.difference(num_col)\n",
        "cat_col = cat_col.drop(['attack_cat'])\n",
        "\n",
        "print(num_col.shape)\n",
        "train_cat = train_set[cat_col].copy()\n",
        "\n",
        "train_cat = pd.get_dummies(train_cat,columns=cat_col)\n",
        "print(train_cat.shape)\n",
        "\n",
        "\n",
        "train_num = train_set[num_col].copy()\n",
        "\n",
        "\n",
        "\n",
        "\n",
        "data = pd.concat([train_set, train_cat],axis=1)\n",
        "print(data.shape)\n",
        "\n",
        "data.drop(columns=cat_col,inplace=True)\n",
        "print(data.shape)\n",
        "\n",
        "\n",
        "# data.info()\n",
        "# num_col\n",
        "# data.shape\n",
        "\n",
        "data = data.drop(['state_RST'], axis=1) \n",
        "\n",
        "print(data.shape)"
      ],
      "metadata": {
        "colab": {
          "base_uri": "https://localhost:8080/"
        },
        "id": "wPfMMkU9JPig",
        "outputId": "0de82d0a-e984-4499-f27f-9fbf9de3f252"
      },
      "execution_count": null,
      "outputs": [
        {
          "output_type": "stream",
          "name": "stdout",
          "text": [
            "(33,)\n",
            "(81173, 19)\n",
            "(81173, 56)\n",
            "(81173, 53)\n",
            "(81173, 52)\n"
          ]
        }
      ]
    },
    {
      "cell_type": "code",
      "source": [
        "# Split the data set\n",
        "Y = train_set.label\n",
        "X = train_set.drop(['label', 'attack_cat'], axis=1)\n",
        "\n",
        "# transfer with label encoding\n",
        "X = X.apply(LabelEncoder().fit_transform)\n",
        "\n",
        "X_train, X_val, y_train, y_val = train_test_split(X,Y, test_size=0.2, shuffle=True,random_state=42)"
      ],
      "metadata": {
        "id": "2WFHlHglhJcT",
        "execution": {
          "iopub.status.busy": "2021-12-11T01:06:18.808432Z",
          "iopub.execute_input": "2021-12-11T01:06:18.809205Z",
          "iopub.status.idle": "2021-12-11T01:06:18.843627Z",
          "shell.execute_reply.started": "2021-12-11T01:06:18.809163Z",
          "shell.execute_reply": "2021-12-11T01:06:18.842533Z"
        },
        "trusted": true
      },
      "execution_count": null,
      "outputs": []
    },
    {
      "cell_type": "code",
      "source": [
        "Y.value_counts()"
      ],
      "metadata": {
        "colab": {
          "base_uri": "https://localhost:8080/"
        },
        "id": "FTo4rJk_HwGD",
        "outputId": "f8c522e1-fc71-4918-8690-bd03d728ab97"
      },
      "execution_count": null,
      "outputs": [
        {
          "output_type": "execute_result",
          "data": {
            "text/plain": [
              "1    61685\n",
              "0    19488\n",
              "Name: label, dtype: int64"
            ]
          },
          "metadata": {},
          "execution_count": 104
        }
      ]
    },
    {
      "cell_type": "code",
      "source": [
        "# Function for plot ROC curve\n",
        "from yellowbrick.classifier import ROCAUC\n",
        "\n",
        "encode_label = le3.fit_transform(Y.unique())\n",
        "dict_code = dict(zip(y.unique(),encode_label))\n",
        "\n",
        "def plot_ROC_curve(model, xtrain, ytrain, xtest, ytest):\n",
        "\n",
        "    # Creating visualization with the readable labels\n",
        "    visualizer = ROCAUC(model)\n",
        "    try:                                    \n",
        "      # Fitting to the training data first then scoring with the test data                                    \n",
        "      visualizer.fit(xtrain, ytrain)\n",
        "      visualizer.score(xtest, ytest)\n",
        "      g= visualizer.show()\n",
        "    except AttributeError:\n",
        "      pass\n",
        "    return "
      ],
      "metadata": {
        "id": "9ErgDlswVcGB"
      },
      "execution_count": null,
      "outputs": []
    },
    {
      "cell_type": "markdown",
      "source": [
        "**Random Forest**"
      ],
      "metadata": {
        "id": "wfodkdtLjBpW"
      }
    },
    {
      "cell_type": "code",
      "source": [
        "#criterion=\"gini\",max_depth=20,min_samples_leaf=4,min_samples_split=5,random_state=42, n_jobs=-1\n",
        "rf = RandomForestClassifier(criterion=\"gini\",max_depth=20,min_samples_leaf=4,min_samples_split=5,random_state=42, n_jobs=-1)\n",
        "rf.fit(X_train,y_train).score(X_val,y_val)"
      ],
      "metadata": {
        "id": "i4HrlNJmeVuA",
        "outputId": "99a21d06-059a-4659-bbc1-cb49ca4e31e1",
        "execution": {
          "iopub.status.busy": "2021-12-11T01:06:55.039436Z",
          "iopub.execute_input": "2021-12-11T01:06:55.040000Z",
          "iopub.status.idle": "2021-12-11T01:07:07.676248Z",
          "shell.execute_reply.started": "2021-12-11T01:06:55.039963Z",
          "shell.execute_reply": "2021-12-11T01:07:07.675408Z"
        },
        "trusted": true,
        "colab": {
          "base_uri": "https://localhost:8080/"
        }
      },
      "execution_count": null,
      "outputs": [
        {
          "output_type": "execute_result",
          "data": {
            "text/plain": [
              "0.9868801971050201"
            ]
          },
          "metadata": {},
          "execution_count": 107
        }
      ]
    },
    {
      "cell_type": "code",
      "source": [
        "plot_ROC_curve(rf, X_train, y_train,X_val,y_val)"
      ],
      "metadata": {
        "colab": {
          "base_uri": "https://localhost:8080/",
          "height": 445
        },
        "id": "-L6nP-owWGwX",
        "outputId": "ccf2f431-f3da-4c65-e1aa-21bfa971b991"
      },
      "execution_count": null,
      "outputs": [
        {
          "output_type": "stream",
          "name": "stderr",
          "text": [
            "/usr/local/lib/python3.7/dist-packages/sklearn/base.py:446: UserWarning:\n",
            "\n",
            "X does not have valid feature names, but RandomForestClassifier was fitted with feature names\n",
            "\n"
          ]
        },
        {
          "output_type": "display_data",
          "data": {
            "image/png": "[encoded data removed]",
            "text/plain": [
              "<Figure size 576x396 with 1 Axes>"
            ]
          },
          "metadata": {}
        }
      ]
    },
    {
      "cell_type": "code",
      "source": [
        "#Results\n",
        "print(classification_report(y_val,rf.predict(X_val)))\n",
        "\n",
        "#plot confusion matrix\n",
        "plot_confusion_matrix(rf, X_val, y_val,xticks_rotation=\"vertical\")\n",
        "plt.show()"
      ],
      "metadata": {
        "colab": {
          "base_uri": "https://localhost:8080/",
          "height": 602
        },
        "id": "XjcrNQ8SJrbI",
        "outputId": "d24c609a-c4c9-41f2-908b-31d3c9b70351"
      },
      "execution_count": null,
      "outputs": [
        {
          "output_type": "stream",
          "name": "stdout",
          "text": [
            "              precision    recall  f1-score   support\n",
            "\n",
            "           0       0.98      0.96      0.97      3865\n",
            "           1       0.99      0.99      0.99     12370\n",
            "\n",
            "    accuracy                           0.99     16235\n",
            "   macro avg       0.99      0.98      0.98     16235\n",
            "weighted avg       0.99      0.99      0.99     16235\n",
            "\n"
          ]
        },
        {
          "output_type": "stream",
          "name": "stderr",
          "text": [
            "/usr/local/lib/python3.7/dist-packages/sklearn/utils/deprecation.py:87: FutureWarning:\n",
            "\n",
            "Function plot_confusion_matrix is deprecated; Function `plot_confusion_matrix` is deprecated in 1.0 and will be removed in 1.2. Use one of the class methods: ConfusionMatrixDisplay.from_predictions or ConfusionMatrixDisplay.from_estimator.\n",
            "\n"
          ]
        },
        {
          "output_type": "display_data",
          "data": {
            "image/png": "[encoded data removed]",
            "text/plain": [
              "<Figure size 576x396 with 2 Axes>"
            ]
          },
          "metadata": {}
        }
      ]
    },
    {
      "cell_type": "code",
      "source": [
        "varr,fet=[],[]\n",
        "for i in range(len(X_train.columns)):\n",
        "  if rf.feature_importances_[i] > 0.04:\n",
        "    fet.append(rf.feature_importances_[i])\n",
        "    varr.append(X_train.columns[i])\n",
        "import_fet=pd.DataFrame({ \"Varname\": varr, \"Imp\": fet}) \n",
        "import_fet.sort_values(by=\"Imp\", ascending=False)"
      ],
      "metadata": {
        "id": "RPZIvOnjc9q6"
      },
      "execution_count": null,
      "outputs": []
    },
    {
      "cell_type": "code",
      "source": [
        ""
      ],
      "metadata": {
        "id": "sD1acznhzm8Q"
      },
      "execution_count": null,
      "outputs": []
    },
    {
      "cell_type": "markdown",
      "source": [
        "**XGB Classifier**"
      ],
      "metadata": {
        "id": "mCvzBmbCjG6N"
      }
    },
    {
      "cell_type": "code",
      "source": [
        "model_xgb = XGBClassifier(learning_rate=,n_estimators=,max_depth=,\n",
        "                          ,n_jobs=-1)\n",
        "model_xgb.fit(X_train, y_train).score(X_val, y_val)"
      ],
      "metadata": {
        "id": "IOTTdtyAicPf",
        "execution": {
          "iopub.status.busy": "2021-12-11T01:07:12.934437Z",
          "iopub.execute_input": "2021-12-11T01:07:12.934760Z",
          "iopub.status.idle": "2021-12-11T01:08:17.234516Z",
          "shell.execute_reply.started": "2021-12-11T01:07:12.934723Z",
          "shell.execute_reply": "2021-12-11T01:08:17.233820Z"
        },
        "trusted": true,
        "colab": {
          "base_uri": "https://localhost:8080/"
        },
        "outputId": "adfd0e94-cee8-4394-a000-b5174dcfa6b1"
      },
      "execution_count": null,
      "outputs": [
        {
          "output_type": "execute_result",
          "data": {
            "text/plain": [
              "0.9844779796735448"
            ]
          },
          "metadata": {},
          "execution_count": 114
        }
      ]
    },
    {
      "cell_type": "code",
      "source": [
        "print(classification_report(y_val,model_xgb.predict(X_val)))\n",
        "plot_confusion_matrix(rf, X_val, y_val,xticks_rotation=\"vertical\")  \n",
        "plt.show()"
      ],
      "metadata": {
        "id": "u01dnhYyJYvi",
        "colab": {
          "base_uri": "https://localhost:8080/",
          "height": 602
        },
        "outputId": "d9e2de95-efa0-45af-b5d9-ef5136991b12"
      },
      "execution_count": null,
      "outputs": [
        {
          "output_type": "stream",
          "name": "stdout",
          "text": [
            "              precision    recall  f1-score   support\n",
            "\n",
            "           0       0.98      0.95      0.97      3865\n",
            "           1       0.99      0.99      0.99     12370\n",
            "\n",
            "    accuracy                           0.98     16235\n",
            "   macro avg       0.98      0.97      0.98     16235\n",
            "weighted avg       0.98      0.98      0.98     16235\n",
            "\n"
          ]
        },
        {
          "output_type": "stream",
          "name": "stderr",
          "text": [
            "/usr/local/lib/python3.7/dist-packages/sklearn/utils/deprecation.py:87: FutureWarning:\n",
            "\n",
            "Function plot_confusion_matrix is deprecated; Function `plot_confusion_matrix` is deprecated in 1.0 and will be removed in 1.2. Use one of the class methods: ConfusionMatrixDisplay.from_predictions or ConfusionMatrixDisplay.from_estimator.\n",
            "\n"
          ]
        },
        {
          "output_type": "display_data",
          "data": {
            "image/png": "[encoded data removed]",
            "text/plain": [
              "<Figure size 576x396 with 2 Axes>"
            ]
          },
          "metadata": {}
        }
      ]
    },
    {
      "cell_type": "markdown",
      "source": [
        "**Decision Tree Classifier**"
      ],
      "metadata": {
        "id": "2qmga3ehjLKY"
      }
    },
    {
      "cell_type": "code",
      "source": [
        "dt = DecisionTreeClassifier(max_depth=12,min_samples_leaf=3,min_samples_split=7,random_state=42)\n",
        "dt.fit(X_train, y_train).score(X_val, y_val)"
      ],
      "metadata": {
        "id": "1KboZlB7hGTU",
        "execution": {
          "iopub.status.busy": "2021-12-11T01:08:17.235904Z",
          "iopub.execute_input": "2021-12-11T01:08:17.236295Z",
          "iopub.status.idle": "2021-12-11T01:08:17.925387Z",
          "shell.execute_reply.started": "2021-12-11T01:08:17.236257Z",
          "shell.execute_reply": "2021-12-11T01:08:17.924525Z"
        },
        "trusted": true,
        "colab": {
          "base_uri": "https://localhost:8080/"
        },
        "outputId": "d6d856e6-b7d4-4207-f87d-4e30eedf3066"
      },
      "execution_count": null,
      "outputs": [
        {
          "output_type": "execute_result",
          "data": {
            "text/plain": [
              "0.983615645210964"
            ]
          },
          "metadata": {},
          "execution_count": 119
        }
      ]
    },
    {
      "cell_type": "code",
      "source": [
        "print(classification_report(y_val,dt.predict(X_val)))\n",
        "plot_confusion_matrix(rf, X_val, y_val,xticks_rotation=\"vertical\")  \n",
        "plt.show()"
      ],
      "metadata": {
        "colab": {
          "base_uri": "https://localhost:8080/",
          "height": 602
        },
        "id": "0oT-CFxhJlHa",
        "outputId": "dd78da34-089f-4fdf-bea6-8d76f1ec856a"
      },
      "execution_count": null,
      "outputs": [
        {
          "output_type": "stream",
          "name": "stdout",
          "text": [
            "              precision    recall  f1-score   support\n",
            "\n",
            "           0       0.97      0.96      0.97      3865\n",
            "           1       0.99      0.99      0.99     12370\n",
            "\n",
            "    accuracy                           0.98     16235\n",
            "   macro avg       0.98      0.98      0.98     16235\n",
            "weighted avg       0.98      0.98      0.98     16235\n",
            "\n"
          ]
        },
        {
          "output_type": "stream",
          "name": "stderr",
          "text": [
            "/usr/local/lib/python3.7/dist-packages/sklearn/utils/deprecation.py:87: FutureWarning:\n",
            "\n",
            "Function plot_confusion_matrix is deprecated; Function `plot_confusion_matrix` is deprecated in 1.0 and will be removed in 1.2. Use one of the class methods: ConfusionMatrixDisplay.from_predictions or ConfusionMatrixDisplay.from_estimator.\n",
            "\n"
          ]
        },
        {
          "output_type": "display_data",
          "data": {
            "image/png": "[encoded data removed]",
            "text/plain": [
              "<Figure size 576x396 with 2 Axes>"
            ]
          },
          "metadata": {}
        }
      ]
    },
    {
      "cell_type": "markdown",
      "source": [
        "**SVM**"
      ],
      "metadata": {
        "id": "stE0YFT0jiv9"
      }
    },
    {
      "cell_type": "code",
      "source": [
        "svm_cls= svm.SVC()\n",
        "svm_cls.fit(X_train,y_train)\n",
        "predicted_svm = svm_cls.predict(X_val)\n",
        "print(\"Accuracy for SVM :-> \",np.mean(predicted_svm == y_val))\n",
        "print(metrics.classification_report(y_val, predicted_svm))"
      ],
      "metadata": {
        "id": "kWzRZoD0jila",
        "execution": {
          "iopub.status.busy": "2021-12-11T01:17:03.046813Z",
          "iopub.execute_input": "2021-12-11T01:17:03.047187Z",
          "iopub.status.idle": "2021-12-11T01:24:28.865956Z",
          "shell.execute_reply.started": "2021-12-11T01:17:03.047148Z",
          "shell.execute_reply": "2021-12-11T01:24:28.864748Z"
        },
        "trusted": true,
        "colab": {
          "base_uri": "https://localhost:8080/"
        },
        "outputId": "914bae63-75fc-444e-9bdb-530281b8dd3a"
      },
      "execution_count": null,
      "outputs": [
        {
          "output_type": "stream",
          "name": "stdout",
          "text": [
            "Accuracy for SVM :->  0.9764705882352941\n",
            "              precision    recall  f1-score   support\n",
            "\n",
            "           0       1.00      0.90      0.95      3865\n",
            "           1       0.97      1.00      0.98     12370\n",
            "\n",
            "    accuracy                           0.98     16235\n",
            "   macro avg       0.98      0.95      0.97     16235\n",
            "weighted avg       0.98      0.98      0.98     16235\n",
            "\n"
          ]
        }
      ]
    },
    {
      "cell_type": "markdown",
      "metadata": {
        "id": "H9xwCQ2lJ6Iy"
      },
      "source": [
        "**Bagging**"
      ]
    },
    {
      "cell_type": "code",
      "metadata": {
        "id": "bdL-jf6P8w5w",
        "colab": {
          "base_uri": "https://localhost:8080/"
        },
        "outputId": "ff366e71-f468-43bb-aa4d-9e85ef9f62f5"
      },
      "source": [
        "bag = BaggingClassifier(svm_cls,random_state=0)\n",
        "bag.fit(X_train, y_train).score(X_val,y_val)"
      ],
      "execution_count": null,
      "outputs": [
        {
          "output_type": "execute_result",
          "data": {
            "text/plain": [
              "0.9764705882352941"
            ]
          },
          "metadata": {},
          "execution_count": 124
        }
      ]
    },
    {
      "cell_type": "code",
      "source": [
        "print(classification_report(y_val,bag.predict(X_val)))\n",
        "plot_confusion_matrix(rf, X_val, y_val,xticks_rotation=\"vertical\")  \n",
        "plt.show()"
      ],
      "metadata": {
        "colab": {
          "base_uri": "https://localhost:8080/",
          "height": 602
        },
        "id": "oPqsVefHJwMh",
        "outputId": "43c2b7f9-77af-4ac5-aa50-50e7e9d47c06"
      },
      "execution_count": null,
      "outputs": [
        {
          "output_type": "stream",
          "name": "stdout",
          "text": [
            "              precision    recall  f1-score   support\n",
            "\n",
            "           0       1.00      0.90      0.95      3865\n",
            "           1       0.97      1.00      0.98     12370\n",
            "\n",
            "    accuracy                           0.98     16235\n",
            "   macro avg       0.98      0.95      0.97     16235\n",
            "weighted avg       0.98      0.98      0.98     16235\n",
            "\n"
          ]
        },
        {
          "output_type": "stream",
          "name": "stderr",
          "text": [
            "/usr/local/lib/python3.7/dist-packages/sklearn/utils/deprecation.py:87: FutureWarning:\n",
            "\n",
            "Function plot_confusion_matrix is deprecated; Function `plot_confusion_matrix` is deprecated in 1.0 and will be removed in 1.2. Use one of the class methods: ConfusionMatrixDisplay.from_predictions or ConfusionMatrixDisplay.from_estimator.\n",
            "\n"
          ]
        },
        {
          "output_type": "display_data",
          "data": {
            "image/png": "[encoded data removed]",
            "text/plain": [
              "<Figure size 576x396 with 2 Axes>"
            ]
          },
          "metadata": {}
        }
      ]
    },
    {
      "cell_type": "markdown",
      "metadata": {
        "id": "zDzPyOI2Xwgt"
      },
      "source": [
        "**Stacking**"
      ]
    },
    {
      "cell_type": "code",
      "metadata": {
        "id": "LfPoIPsRN8Fm",
        "colab": {
          "base_uri": "https://localhost:8080/"
        },
        "outputId": "3201c5e9-193b-4299-8b0c-82d918cd95c2"
      },
      "source": [
        "models = [\n",
        "    (\"bag\", BaggingClassifier(svm_cls, random_state=0)),\n",
        "    (\"xgb\",XGBClassifier()),\n",
        "    (\"dt\", make_pipeline(DecisionTreeClassifier(max_depth=15))),\n",
        "    ('rf', RandomForestClassifier())\n",
        "    ]\n",
        "\n",
        "stacking = StackingClassifier(estimators=models,final_estimator=RandomForestClassifier(),cv=5)\n",
        "stacking.fit(X_train, y_train).score( X_val, y_val)"
      ],
      "execution_count": null,
      "outputs": [
        {
          "output_type": "execute_result",
          "data": {
            "text/plain": [
              "0.9833692639359408"
            ]
          },
          "metadata": {},
          "execution_count": 130
        }
      ]
    },
    {
      "cell_type": "code",
      "source": [
        "print(classification_report(y_val,stacking.predict(X_val)))\n",
        "plot_confusion_matrix(rf, X_val, y_val,xticks_rotation=\"vertical\")  \n",
        "plt.show()"
      ],
      "metadata": {
        "id": "TWTLjt7zJ2Fp",
        "colab": {
          "base_uri": "https://localhost:8080/",
          "height": 602
        },
        "outputId": "0b4d9007-929e-4aaf-d2af-64490316ba4d"
      },
      "execution_count": null,
      "outputs": [
        {
          "output_type": "stream",
          "name": "stdout",
          "text": [
            "              precision    recall  f1-score   support\n",
            "\n",
            "           0       0.97      0.96      0.97      3865\n",
            "           1       0.99      0.99      0.99     12370\n",
            "\n",
            "    accuracy                           0.98     16235\n",
            "   macro avg       0.98      0.98      0.98     16235\n",
            "weighted avg       0.98      0.98      0.98     16235\n",
            "\n"
          ]
        },
        {
          "output_type": "stream",
          "name": "stderr",
          "text": [
            "/usr/local/lib/python3.7/dist-packages/sklearn/utils/deprecation.py:87: FutureWarning:\n",
            "\n",
            "Function plot_confusion_matrix is deprecated; Function `plot_confusion_matrix` is deprecated in 1.0 and will be removed in 1.2. Use one of the class methods: ConfusionMatrixDisplay.from_predictions or ConfusionMatrixDisplay.from_estimator.\n",
            "\n"
          ]
        },
        {
          "output_type": "display_data",
          "data": {
            "image/png": "[encoded data removed]",
            "text/plain": [
              "<Figure size 576x396 with 2 Axes>"
            ]
          },
          "metadata": {}
        }
      ]
    },
    {
      "cell_type": "markdown",
      "source": [
        "# **Multiclass Model**"
      ],
      "metadata": {
        "id": "TqQ6hGQcX-IP"
      }
    },
    {
      "cell_type": "code",
      "source": [
        ""
      ],
      "metadata": {
        "id": "uIGclJz7YDkf"
      },
      "execution_count": null,
      "outputs": []
    },
    {
      "cell_type": "code",
      "source": [
        ""
      ],
      "metadata": {
        "id": "zKBNKlDFYETd"
      },
      "execution_count": null,
      "outputs": []
    },
    {
      "cell_type": "code",
      "source": [
        ""
      ],
      "metadata": {
        "id": "tG1JXO8QYEs0"
      },
      "execution_count": null,
      "outputs": []
    }
  ]
}