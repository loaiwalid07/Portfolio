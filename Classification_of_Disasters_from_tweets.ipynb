{
  "nbformat": 4,
  "nbformat_minor": 0,
  "metadata": {
    "colab": {
      "name": "Classification of Disasters from tweets.ipynb",
      "provenance": [],
      "collapsed_sections": [],
      "authorship_tag": "ABX9TyOOwdF05OKyb+CSJZCtIVHU",
      "include_colab_link": true
    },
    "kernelspec": {
      "name": "python3",
      "display_name": "Python 3"
    },
    "language_info": {
      "name": "python"
    }
  },
  "cells": [
    {
      "cell_type": "markdown",
      "metadata": {
        "id": "view-in-github",
        "colab_type": "text"
      },
      "source": [
        "<a href=\"https://colab.research.google.com/github/loaiwalid07/main/blob/main/Classification_of_Disasters_from_tweets.ipynb\" target=\"_parent\"><img src=\"https://colab.research.google.com/assets/colab-badge.svg\" alt=\"Open In Colab\"/></a>"
      ]
    },
    {
      "cell_type": "markdown",
      "source": [
        "## **Classification of Disasters from tweets**"
      ],
      "metadata": {
        "id": "DGrQAWwDGV4W"
      }
    },
    {
      "cell_type": "code",
      "metadata": {
        "id": "BFHm87Q35nde"
      },
      "source": [
        "import random \n",
        "import pandas as pd\n",
        "import numpy as np\n",
        "import re\n",
        "import string\n",
        "import nltk\n",
        "from nltk.corpus import stopwords,gutenberg\n",
        "from nltk.tokenize import RegexpTokenizer\n",
        "from nltk.probability import FreqDist\n",
        "from collections import Counter\n",
        "from sklearn import datasets\n",
        "from sklearn.model_selection import ShuffleSplit,KFold,cross_val_score,train_test_split\n",
        "from sklearn.feature_extraction.text import CountVectorizer,TfidfTransformer\n",
        "from sklearn import svm\n",
        "from sklearn.decomposition import LatentDirichletAllocation\n",
        "from sklearn.ensemble import RandomForestClassifier\n",
        "from sklearn.naive_bayes import MultinomialNB\n",
        "from sklearn.neighbors import KNeighborsClassifier\n",
        "from sklearn.tree import DecisionTreeClassifier\n",
        "from sklearn.pipeline import Pipeline\n",
        "from sklearn import metrics\n",
        "from sklearn.neural_network import MLPClassifier\n",
        "from sklearn.model_selection import GridSearchCV\n",
        "from sklearn.metrics import plot_confusion_matrix,accuracy_score,f1_score\n",
        "from sklearn.ensemble import StackingClassifier\n",
        "from sklearn.ensemble import AdaBoostClassifier\n",
        "from xgboost import XGBClassifier\n",
        "from sklearn.preprocessing import StandardScaler\n",
        "from sklearn.ensemble import BaggingClassifier\n",
        "import matplotlib.pyplot as plt\n",
        "from sklearn.pipeline import make_pipeline\n",
        "import seaborn as sns\n",
        "import wordcloud\n",
        "#_____________________"
      ],
      "execution_count": null,
      "outputs": []
    },
    {
      "cell_type": "code",
      "metadata": {
        "colab": {
          "base_uri": "https://localhost:8080/"
        },
        "id": "yIllozA16w95",
        "outputId": "35a8d0f9-176b-4280-d245-330335bfc36f"
      },
      "source": [
        "nltk.download('punkt')\n",
        "nltk.download('stopwords')\n",
        "nltk.download('wordnet')\n",
        "print(\"Done\")   "
      ],
      "execution_count": null,
      "outputs": [
        {
          "output_type": "stream",
          "name": "stdout",
          "text": [
            "[nltk_data] Downloading package punkt to /root/nltk_data...\n",
            "[nltk_data]   Unzipping tokenizers/punkt.zip.\n",
            "[nltk_data] Downloading package stopwords to /root/nltk_data...\n",
            "[nltk_data]   Unzipping corpora/stopwords.zip.\n",
            "[nltk_data] Downloading package wordnet to /root/nltk_data...\n",
            "[nltk_data]   Unzipping corpora/wordnet.zip.\n",
            "Done\n"
          ]
        }
      ]
    },
    {
      "cell_type": "markdown",
      "metadata": {
        "id": "smPvBq0QC_y2"
      },
      "source": [
        "**Clean and Preprocessing on Data**\n",
        "\n",
        "* Removing punctuation\n",
        "* Tokenization\n",
        "* Remove stopwords\n",
        "* Lemmatize/ stem\n",
        "\n",
        "\n",
        "\n",
        "\n",
        "\n",
        "\n"
      ]
    },
    {
      "cell_type": "code",
      "metadata": {
        "colab": {
          "base_uri": "https://localhost:8080/",
          "height": 423
        },
        "id": "jx7hgYTV7GMg",
        "outputId": "7f664ed0-8b35-4e78-ed0d-82e5e084d4a3"
      },
      "source": [
        "df=pd.read_csv(\"train.csv\")\n",
        "df[\"text\"]= df[\"text\"].str.replace(\"[^a-zA-Z0-9]\", \" \")\n",
        "df[\"keyword\"]= df[\"keyword\"].str.replace(\"[^a-zA-Z0-9]\", \" \")\n",
        "data=pd.DataFrame( {'Text':df[\"text\"].to_list(), 'Target':df[\"target\"].to_list()})\n",
        "data"
      ],
      "execution_count": null,
      "outputs": [
        {
          "output_type": "execute_result",
          "data": {
            "text/html": [
              "<div>\n",
              "<style scoped>\n",
              "    .dataframe tbody tr th:only-of-type {\n",
              "        vertical-align: middle;\n",
              "    }\n",
              "\n",
              "    .dataframe tbody tr th {\n",
              "        vertical-align: top;\n",
              "    }\n",
              "\n",
              "    .dataframe thead th {\n",
              "        text-align: right;\n",
              "    }\n",
              "</style>\n",
              "<table border=\"1\" class=\"dataframe\">\n",
              "  <thead>\n",
              "    <tr style=\"text-align: right;\">\n",
              "      <th></th>\n",
              "      <th>Text</th>\n",
              "      <th>Target</th>\n",
              "    </tr>\n",
              "  </thead>\n",
              "  <tbody>\n",
              "    <tr>\n",
              "      <th>0</th>\n",
              "      <td>Our Deeds are the Reason of this  earthquake M...</td>\n",
              "      <td>1</td>\n",
              "    </tr>\n",
              "    <tr>\n",
              "      <th>1</th>\n",
              "      <td>Forest fire near La Ronge Sask  Canada</td>\n",
              "      <td>1</td>\n",
              "    </tr>\n",
              "    <tr>\n",
              "      <th>2</th>\n",
              "      <td>All residents asked to  shelter in place  are ...</td>\n",
              "      <td>1</td>\n",
              "    </tr>\n",
              "    <tr>\n",
              "      <th>3</th>\n",
              "      <td>13 000 people receive  wildfires evacuation or...</td>\n",
              "      <td>1</td>\n",
              "    </tr>\n",
              "    <tr>\n",
              "      <th>4</th>\n",
              "      <td>Just got sent this photo from Ruby  Alaska as ...</td>\n",
              "      <td>1</td>\n",
              "    </tr>\n",
              "    <tr>\n",
              "      <th>...</th>\n",
              "      <td>...</td>\n",
              "      <td>...</td>\n",
              "    </tr>\n",
              "    <tr>\n",
              "      <th>7608</th>\n",
              "      <td>Two giant cranes holding a bridge collapse int...</td>\n",
              "      <td>1</td>\n",
              "    </tr>\n",
              "    <tr>\n",
              "      <th>7609</th>\n",
              "      <td>aria ahrary  TheTawniest The out of control w...</td>\n",
              "      <td>1</td>\n",
              "    </tr>\n",
              "    <tr>\n",
              "      <th>7610</th>\n",
              "      <td>M1 94  01 04 UTC  5km S of Volcano Hawaii  htt...</td>\n",
              "      <td>1</td>\n",
              "    </tr>\n",
              "    <tr>\n",
              "      <th>7611</th>\n",
              "      <td>Police investigating after an e bike collided ...</td>\n",
              "      <td>1</td>\n",
              "    </tr>\n",
              "    <tr>\n",
              "      <th>7612</th>\n",
              "      <td>The Latest  More Homes Razed by Northern Calif...</td>\n",
              "      <td>1</td>\n",
              "    </tr>\n",
              "  </tbody>\n",
              "</table>\n",
              "<p>7613 rows × 2 columns</p>\n",
              "</div>"
            ],
            "text/plain": [
              "                                                   Text  Target\n",
              "0     Our Deeds are the Reason of this  earthquake M...       1\n",
              "1                Forest fire near La Ronge Sask  Canada       1\n",
              "2     All residents asked to  shelter in place  are ...       1\n",
              "3     13 000 people receive  wildfires evacuation or...       1\n",
              "4     Just got sent this photo from Ruby  Alaska as ...       1\n",
              "...                                                 ...     ...\n",
              "7608  Two giant cranes holding a bridge collapse int...       1\n",
              "7609   aria ahrary  TheTawniest The out of control w...       1\n",
              "7610  M1 94  01 04 UTC  5km S of Volcano Hawaii  htt...       1\n",
              "7611  Police investigating after an e bike collided ...       1\n",
              "7612  The Latest  More Homes Razed by Northern Calif...       1\n",
              "\n",
              "[7613 rows x 2 columns]"
            ]
          },
          "metadata": {},
          "execution_count": 3
        }
      ]
    },
    {
      "cell_type": "code",
      "metadata": {
        "id": "zkKt8O6V_9-b"
      },
      "source": [
        "# removing short words/ punctuation\n",
        "data[\"Text\"]= data[\"Text\"].apply(lambda x: \" \".join ([w for w in x.split() if len (w)>3]))"
      ],
      "execution_count": null,
      "outputs": []
    },
    {
      "cell_type": "code",
      "metadata": {
        "id": "YK3ItzmFCLj2"
      },
      "source": [
        "# tokenize the data\n",
        "\n",
        "def tokenize(text):\n",
        "    tokens = re.split(\"\\W+\", text)\n",
        "    return tokens\n",
        "data['Text']= data['Text'].apply (lambda x: tokenize(x.lower()))"
      ],
      "execution_count": null,
      "outputs": []
    },
    {
      "cell_type": "code",
      "metadata": {
        "id": "PUxm80VLCXkL"
      },
      "source": [
        "# remove stopwords\n",
        "stop_words=set(stopwords.words(\"english\"))\n",
        "def remove_stopword(text):\n",
        "    text_nostopword= [char for char in text if char not in stop_words]\n",
        "    return text_nostopword\n",
        "\n",
        "data['Text']= data['Text'].apply(lambda x: remove_stopword(x))"
      ],
      "execution_count": null,
      "outputs": []
    },
    {
      "cell_type": "code",
      "metadata": {
        "id": "2sAsWT2PCwaD"
      },
      "source": [
        "# stemming \n",
        "ps = nltk.stem.porter.PorterStemmer()\n",
        "def stem(tweet_no_stopword):\n",
        "   text = [ps.stem ( word) for word in tweet_no_stopword]\n",
        "   return text\n",
        "\n",
        "data[\"Text\"]= data[\"Text\"].apply(lambda x: stem(x))"
      ],
      "execution_count": null,
      "outputs": []
    },
    {
      "cell_type": "code",
      "metadata": {
        "colab": {
          "base_uri": "https://localhost:8080/",
          "height": 423
        },
        "id": "h_OZM_vcC44M",
        "outputId": "b3441b3d-6ed6-4174-c8e8-28bfc7b6d26b"
      },
      "source": [
        "data"
      ],
      "execution_count": null,
      "outputs": [
        {
          "output_type": "execute_result",
          "data": {
            "text/html": [
              "<div>\n",
              "<style scoped>\n",
              "    .dataframe tbody tr th:only-of-type {\n",
              "        vertical-align: middle;\n",
              "    }\n",
              "\n",
              "    .dataframe tbody tr th {\n",
              "        vertical-align: top;\n",
              "    }\n",
              "\n",
              "    .dataframe thead th {\n",
              "        text-align: right;\n",
              "    }\n",
              "</style>\n",
              "<table border=\"1\" class=\"dataframe\">\n",
              "  <thead>\n",
              "    <tr style=\"text-align: right;\">\n",
              "      <th></th>\n",
              "      <th>Text</th>\n",
              "      <th>Target</th>\n",
              "    </tr>\n",
              "  </thead>\n",
              "  <tbody>\n",
              "    <tr>\n",
              "      <th>0</th>\n",
              "      <td>[deed, reason, earthquak, allah, forgiv]</td>\n",
              "      <td>1</td>\n",
              "    </tr>\n",
              "    <tr>\n",
              "      <th>1</th>\n",
              "      <td>[forest, fire, near, rong, sask, canada]</td>\n",
              "      <td>1</td>\n",
              "    </tr>\n",
              "    <tr>\n",
              "      <th>2</th>\n",
              "      <td>[resid, ask, shelter, place, notifi, offic, ev...</td>\n",
              "      <td>1</td>\n",
              "    </tr>\n",
              "    <tr>\n",
              "      <th>3</th>\n",
              "      <td>[peopl, receiv, wildfir, evacu, order, califor...</td>\n",
              "      <td>1</td>\n",
              "    </tr>\n",
              "    <tr>\n",
              "      <th>4</th>\n",
              "      <td>[sent, photo, rubi, alaska, smoke, wildfir, po...</td>\n",
              "      <td>1</td>\n",
              "    </tr>\n",
              "    <tr>\n",
              "      <th>...</th>\n",
              "      <td>...</td>\n",
              "      <td>...</td>\n",
              "    </tr>\n",
              "    <tr>\n",
              "      <th>7608</th>\n",
              "      <td>[giant, crane, hold, bridg, collaps, nearbi, h...</td>\n",
              "      <td>1</td>\n",
              "    </tr>\n",
              "    <tr>\n",
              "      <th>7609</th>\n",
              "      <td>[aria, ahrari, thetawniest, control, wild, fir...</td>\n",
              "      <td>1</td>\n",
              "    </tr>\n",
              "    <tr>\n",
              "      <th>7610</th>\n",
              "      <td>[volcano, hawaii, http, zdtoyd8ebj]</td>\n",
              "      <td>1</td>\n",
              "    </tr>\n",
              "    <tr>\n",
              "      <th>7611</th>\n",
              "      <td>[polic, investig, bike, collid, littl, portug,...</td>\n",
              "      <td>1</td>\n",
              "    </tr>\n",
              "    <tr>\n",
              "      <th>7612</th>\n",
              "      <td>[latest, home, raze, northern, california, wil...</td>\n",
              "      <td>1</td>\n",
              "    </tr>\n",
              "  </tbody>\n",
              "</table>\n",
              "<p>7613 rows × 2 columns</p>\n",
              "</div>"
            ],
            "text/plain": [
              "                                                   Text  Target\n",
              "0              [deed, reason, earthquak, allah, forgiv]       1\n",
              "1              [forest, fire, near, rong, sask, canada]       1\n",
              "2     [resid, ask, shelter, place, notifi, offic, ev...       1\n",
              "3     [peopl, receiv, wildfir, evacu, order, califor...       1\n",
              "4     [sent, photo, rubi, alaska, smoke, wildfir, po...       1\n",
              "...                                                 ...     ...\n",
              "7608  [giant, crane, hold, bridg, collaps, nearbi, h...       1\n",
              "7609  [aria, ahrari, thetawniest, control, wild, fir...       1\n",
              "7610                [volcano, hawaii, http, zdtoyd8ebj]       1\n",
              "7611  [polic, investig, bike, collid, littl, portug,...       1\n",
              "7612  [latest, home, raze, northern, california, wil...       1\n",
              "\n",
              "[7613 rows x 2 columns]"
            ]
          },
          "metadata": {},
          "execution_count": 8
        }
      ]
    },
    {
      "cell_type": "code",
      "metadata": {
        "id": "Pf4IimhhEADd"
      },
      "source": [
        "X, y = data[\"Text\"],data[\"Target\"]\n",
        "X.shape, y.shape\n",
        "\n",
        "x=[]\n",
        "for i in X:\n",
        "  x.append(str(i))\n",
        "\n",
        "X_train, x_test, y_train, y_test = train_test_split(x, y, test_size=0.5, random_state=42)"
      ],
      "execution_count": null,
      "outputs": []
    },
    {
      "cell_type": "markdown",
      "metadata": {
        "id": "upKMdWBCDpcD"
      },
      "source": [
        "**Features Engineering**\n",
        "* TF-IDF\n",
        "* BOW\n",
        "* LDA"
      ]
    },
    {
      "cell_type": "code",
      "metadata": {
        "id": "9pV842lyFZpA"
      },
      "source": [
        "count_vect = CountVectorizer()\n",
        "X_train_counts = count_vect.fit_transform(X_train)\n",
        "X_train_counts.shape\n",
        "vectorizer = TfidfTransformer()\n",
        "x_tf = vectorizer.fit_transform(X_train_counts)"
      ],
      "execution_count": null,
      "outputs": []
    },
    {
      "cell_type": "markdown",
      "metadata": {
        "id": "1HjcfDKkLRDq"
      },
      "source": [
        "**MultinomialNB**"
      ]
    },
    {
      "cell_type": "code",
      "metadata": {
        "colab": {
          "base_uri": "https://localhost:8080/",
          "height": 727
        },
        "id": "RCwjDWR2FS-8",
        "outputId": "16d9de9b-bdf8-4e30-9892-c91f88d32f6e"
      },
      "source": [
        "from sklearn.feature_extraction.text import TfidfVectorizer\n",
        "text_clf_mul = Pipeline([\n",
        "   # ('vect', CountVectorizer()),\n",
        "   ('tfidf', TfidfVectorizer()),\n",
        "  #  (\"tf\",TfidfTransformer()),\n",
        "    \n",
        "    #('LDA',LatentDirichletAllocation(n_components=5,random_state=1234)),    \n",
        "    ('clf', MultinomialNB()),\n",
        "])\n",
        "text_clf_mul.fit(X_train,y_train)\n",
        "docs_test =x_test\n",
        "predicted = text_clf_mul.predict(docs_test)\n",
        "print(\"Accuracy for MultinomialNB :-> \",np.mean(predicted == y_test))\n",
        "print(\"\\nF1 for MultinomialNB :-> \",f1_score(y_test, predicted, average='binary'))\n",
        "print(metrics.classification_report(y_test, predicted ))\n",
        "plot_confusion_matrix(text_clf_mul, x_test, y_test,xticks_rotation=\"vertical\")\n",
        "plt.show()\n",
        "\n",
        "print(\"\\n[The Accuracy by using cross validation]\\n\")\n",
        "cv = ShuffleSplit(n_splits=5, test_size=0.4, random_state=0)\n",
        "kf = KFold(n_splits=10,shuffle=True,random_state=0)\n",
        "scores_mul = cross_val_score(text_clf_mul, x, y, cv=kf)\n",
        "for i in scores_mul:\n",
        "  print(\"Accuracy at Iteration: %r ->\"%(np.where(scores_mul == i)),i)\n",
        "print(\"Total accuracy: %0.2f (+/- %0.2f)\" % (scores_mul.mean(), scores_mul.std() * 2))"
      ],
      "execution_count": null,
      "outputs": [
        {
          "output_type": "stream",
          "name": "stdout",
          "text": [
            "Accuracy for MultinomialNB :->  0.775797373358349\n",
            "\n",
            "F1 for MultinomialNB :->  0.7055925104705593\n",
            "              precision    recall  f1-score   support\n",
            "\n",
            "           0       0.76      0.89      0.82      3052\n",
            "           1       0.80      0.63      0.71      2278\n",
            "\n",
            "    accuracy                           0.78      5330\n",
            "   macro avg       0.78      0.76      0.76      5330\n",
            "weighted avg       0.78      0.78      0.77      5330\n",
            "\n"
          ]
        },
        {
          "output_type": "display_data",
          "data": {
            "image/png": "[encoded data removed]",
            "text/plain": [
              "<Figure size 432x288 with 2 Axes>"
            ]
          },
          "metadata": {
            "needs_background": "light"
          }
        },
        {
          "output_type": "stream",
          "name": "stdout",
          "text": [
            "\n",
            "[The Accuracy by using cross validation]\n",
            "\n",
            "Accuracy at Iteration: array([0]) -> 0.7900262467191601\n",
            "Accuracy at Iteration: array([1]) -> 0.8097112860892388\n",
            "Accuracy at Iteration: array([2]) -> 0.8228346456692913\n",
            "Accuracy at Iteration: array([3]) -> 0.8160315374507228\n",
            "Accuracy at Iteration: array([4]) -> 0.7818659658344284\n",
            "Accuracy at Iteration: array([5]) -> 0.8055190538764783\n",
            "Accuracy at Iteration: array([6]) -> 0.8081471747700394\n",
            "Accuracy at Iteration: array([7]) -> 0.7936925098554534\n",
            "Accuracy at Iteration: array([8]) -> 0.7779237844940867\n",
            "Accuracy at Iteration: array([9]) -> 0.7884362680683311\n",
            "Total accuracy: 0.80 (+/- 0.03)\n"
          ]
        }
      ]
    },
    {
      "cell_type": "markdown",
      "metadata": {
        "id": "JCSduoHGLLi1"
      },
      "source": [
        "**KNN**"
      ]
    },
    {
      "cell_type": "code",
      "metadata": {
        "colab": {
          "base_uri": "https://localhost:8080/",
          "height": 415
        },
        "id": "xu5GuXSHC97T",
        "outputId": "543edeb2-d4f3-42a3-c6ad-87f997f76fa0"
      },
      "source": [
        "text_clf_knn = Pipeline([\n",
        "  ('vect', CountVectorizer()),\n",
        "    ('tfidf', TfidfTransformer()),\n",
        "    ('clf', KNeighborsClassifier(n_neighbors=2),)\n",
        "])\n",
        "text_clf_knn.fit(X_train,y_train)\n",
        "test_knn =X_test\n",
        "predicted_knn = text_clf_knn.predict(test_knn)\n",
        "print(\"Accuracy for KNN : -> \",np.mean(predicted_knn == y_test))\n",
        "print(metrics.classification_report(y_test, predicted_knn))\n",
        "plot_confusion_matrix(text_clf_knn, X_test, y_test,xticks_rotation=\"vertical\")\n",
        "plt.show()\n",
        "\n",
        "print(\"\\n[The Accuracy by using cross validation]\\n\")\n",
        "cv = ShuffleSplit(n_splits=5, test_size=0.4, random_state=0)\n",
        "kf = KFold(n_splits=10,shuffle=True,random_state=0)\n",
        "scores_knn = cross_val_score(text_clf_knn, x, y, cv=kf)\n",
        "for i in scores_knn:\n",
        "  print(\"Accuracy at Iteration: %r ->\"%(np.where(scores_knn == i)),i)\n",
        "print(\"Total accuracy: %0.2f (+/- %0.2f)\" % (scores_knn.mean(), scores_knn.std() * 2))"
      ],
      "execution_count": null,
      "outputs": [
        {
          "output_type": "stream",
          "name": "stderr",
          "text": [
            "/usr/local/lib/python3.7/dist-packages/ipykernel_launcher.py:9: DeprecationWarning: elementwise comparison failed; this will raise an error in the future.\n",
            "  if __name__ == '__main__':\n"
          ]
        },
        {
          "output_type": "error",
          "ename": "ValueError",
          "evalue": "ignored",
          "traceback": [
            "\u001b[0;31m---------------------------------------------------------------------------\u001b[0m",
            "\u001b[0;31mValueError\u001b[0m                                Traceback (most recent call last)",
            "\u001b[0;32m<ipython-input-47-ba61f176d3e7>\u001b[0m in \u001b[0;36m<module>\u001b[0;34m()\u001b[0m\n\u001b[1;32m      7\u001b[0m \u001b[0mtest_knn\u001b[0m \u001b[0;34m=\u001b[0m\u001b[0mX_test\u001b[0m\u001b[0;34m\u001b[0m\u001b[0;34m\u001b[0m\u001b[0m\n\u001b[1;32m      8\u001b[0m \u001b[0mpredicted_knn\u001b[0m \u001b[0;34m=\u001b[0m \u001b[0mtext_clf_knn\u001b[0m\u001b[0;34m.\u001b[0m\u001b[0mpredict\u001b[0m\u001b[0;34m(\u001b[0m\u001b[0mtest_knn\u001b[0m\u001b[0;34m)\u001b[0m\u001b[0;34m\u001b[0m\u001b[0;34m\u001b[0m\u001b[0m\n\u001b[0;32m----> 9\u001b[0;31m \u001b[0mprint\u001b[0m\u001b[0;34m(\u001b[0m\u001b[0;34m\"Accuracy for KNN : -> \"\u001b[0m\u001b[0;34m,\u001b[0m\u001b[0mnp\u001b[0m\u001b[0;34m.\u001b[0m\u001b[0mmean\u001b[0m\u001b[0;34m(\u001b[0m\u001b[0mpredicted_knn\u001b[0m \u001b[0;34m==\u001b[0m \u001b[0my_test\u001b[0m\u001b[0;34m)\u001b[0m\u001b[0;34m)\u001b[0m\u001b[0;34m\u001b[0m\u001b[0;34m\u001b[0m\u001b[0m\n\u001b[0m\u001b[1;32m     10\u001b[0m \u001b[0mprint\u001b[0m\u001b[0;34m(\u001b[0m\u001b[0mmetrics\u001b[0m\u001b[0;34m.\u001b[0m\u001b[0mclassification_report\u001b[0m\u001b[0;34m(\u001b[0m\u001b[0my_test\u001b[0m\u001b[0;34m,\u001b[0m \u001b[0mpredicted_knn\u001b[0m\u001b[0;34m)\u001b[0m\u001b[0;34m)\u001b[0m\u001b[0;34m\u001b[0m\u001b[0;34m\u001b[0m\u001b[0m\n\u001b[1;32m     11\u001b[0m \u001b[0mplot_confusion_matrix\u001b[0m\u001b[0;34m(\u001b[0m\u001b[0mtext_clf_knn\u001b[0m\u001b[0;34m,\u001b[0m \u001b[0mX_test\u001b[0m\u001b[0;34m,\u001b[0m \u001b[0my_test\u001b[0m\u001b[0;34m,\u001b[0m\u001b[0mxticks_rotation\u001b[0m\u001b[0;34m=\u001b[0m\u001b[0;34m\"vertical\"\u001b[0m\u001b[0;34m)\u001b[0m\u001b[0;34m\u001b[0m\u001b[0;34m\u001b[0m\u001b[0m\n",
            "\u001b[0;32m/usr/local/lib/python3.7/dist-packages/pandas/core/ops/common.py\u001b[0m in \u001b[0;36mnew_method\u001b[0;34m(self, other)\u001b[0m\n\u001b[1;32m     63\u001b[0m         \u001b[0mother\u001b[0m \u001b[0;34m=\u001b[0m \u001b[0mitem_from_zerodim\u001b[0m\u001b[0;34m(\u001b[0m\u001b[0mother\u001b[0m\u001b[0;34m)\u001b[0m\u001b[0;34m\u001b[0m\u001b[0;34m\u001b[0m\u001b[0m\n\u001b[1;32m     64\u001b[0m \u001b[0;34m\u001b[0m\u001b[0m\n\u001b[0;32m---> 65\u001b[0;31m         \u001b[0;32mreturn\u001b[0m \u001b[0mmethod\u001b[0m\u001b[0;34m(\u001b[0m\u001b[0mself\u001b[0m\u001b[0;34m,\u001b[0m \u001b[0mother\u001b[0m\u001b[0;34m)\u001b[0m\u001b[0;34m\u001b[0m\u001b[0;34m\u001b[0m\u001b[0m\n\u001b[0m\u001b[1;32m     66\u001b[0m \u001b[0;34m\u001b[0m\u001b[0m\n\u001b[1;32m     67\u001b[0m     \u001b[0;32mreturn\u001b[0m \u001b[0mnew_method\u001b[0m\u001b[0;34m\u001b[0m\u001b[0;34m\u001b[0m\u001b[0m\n",
            "\u001b[0;32m/usr/local/lib/python3.7/dist-packages/pandas/core/ops/__init__.py\u001b[0m in \u001b[0;36mwrapper\u001b[0;34m(self, other)\u001b[0m\n\u001b[1;32m    368\u001b[0m         \u001b[0mrvalues\u001b[0m \u001b[0;34m=\u001b[0m \u001b[0mextract_array\u001b[0m\u001b[0;34m(\u001b[0m\u001b[0mother\u001b[0m\u001b[0;34m,\u001b[0m \u001b[0mextract_numpy\u001b[0m\u001b[0;34m=\u001b[0m\u001b[0;32mTrue\u001b[0m\u001b[0;34m)\u001b[0m\u001b[0;34m\u001b[0m\u001b[0;34m\u001b[0m\u001b[0m\n\u001b[1;32m    369\u001b[0m \u001b[0;34m\u001b[0m\u001b[0m\n\u001b[0;32m--> 370\u001b[0;31m         \u001b[0mres_values\u001b[0m \u001b[0;34m=\u001b[0m \u001b[0mcomparison_op\u001b[0m\u001b[0;34m(\u001b[0m\u001b[0mlvalues\u001b[0m\u001b[0;34m,\u001b[0m \u001b[0mrvalues\u001b[0m\u001b[0;34m,\u001b[0m \u001b[0mop\u001b[0m\u001b[0;34m)\u001b[0m\u001b[0;34m\u001b[0m\u001b[0;34m\u001b[0m\u001b[0m\n\u001b[0m\u001b[1;32m    371\u001b[0m \u001b[0;34m\u001b[0m\u001b[0m\n\u001b[1;32m    372\u001b[0m         \u001b[0;32mreturn\u001b[0m \u001b[0mself\u001b[0m\u001b[0;34m.\u001b[0m\u001b[0m_construct_result\u001b[0m\u001b[0;34m(\u001b[0m\u001b[0mres_values\u001b[0m\u001b[0;34m,\u001b[0m \u001b[0mname\u001b[0m\u001b[0;34m=\u001b[0m\u001b[0mres_name\u001b[0m\u001b[0;34m)\u001b[0m\u001b[0;34m\u001b[0m\u001b[0;34m\u001b[0m\u001b[0m\n",
            "\u001b[0;32m/usr/local/lib/python3.7/dist-packages/pandas/core/ops/array_ops.py\u001b[0m in \u001b[0;36mcomparison_op\u001b[0;34m(left, right, op)\u001b[0m\n\u001b[1;32m    223\u001b[0m         \u001b[0;32mif\u001b[0m \u001b[0mlen\u001b[0m\u001b[0;34m(\u001b[0m\u001b[0mlvalues\u001b[0m\u001b[0;34m)\u001b[0m \u001b[0;34m!=\u001b[0m \u001b[0mlen\u001b[0m\u001b[0;34m(\u001b[0m\u001b[0mrvalues\u001b[0m\u001b[0;34m)\u001b[0m\u001b[0;34m:\u001b[0m\u001b[0;34m\u001b[0m\u001b[0;34m\u001b[0m\u001b[0m\n\u001b[1;32m    224\u001b[0m             raise ValueError(\n\u001b[0;32m--> 225\u001b[0;31m                 \u001b[0;34m\"Lengths must match to compare\"\u001b[0m\u001b[0;34m,\u001b[0m \u001b[0mlvalues\u001b[0m\u001b[0;34m.\u001b[0m\u001b[0mshape\u001b[0m\u001b[0;34m,\u001b[0m \u001b[0mrvalues\u001b[0m\u001b[0;34m.\u001b[0m\u001b[0mshape\u001b[0m\u001b[0;34m\u001b[0m\u001b[0;34m\u001b[0m\u001b[0m\n\u001b[0m\u001b[1;32m    226\u001b[0m             )\n\u001b[1;32m    227\u001b[0m \u001b[0;34m\u001b[0m\u001b[0m\n",
            "\u001b[0;31mValueError\u001b[0m: ('Lengths must match to compare', (5330,), (3263,))"
          ]
        }
      ]
    },
    {
      "cell_type": "markdown",
      "metadata": {
        "id": "XonE34EZ2kpV"
      },
      "source": [
        "#SVM"
      ]
    },
    {
      "cell_type": "code",
      "metadata": {
        "colab": {
          "base_uri": "https://localhost:8080/",
          "height": 453
        },
        "id": "XLm4PlliweOs",
        "outputId": "e98af3de-f7b3-422d-8fa1-182b1f4eb0cd"
      },
      "source": [
        "text_clf_svm = Pipeline([\n",
        "    #('vect', CountVectorizer()),\n",
        "    ('tfidf', TfidfVectorizer()),\n",
        "    ('tfdf', TfidfTransformer()),\n",
        "    #('LDA',LatentDirichletAllocation(n_components=5,random_state=1234)),\n",
        "    ('clf', svm.SVC(),)\n",
        "])\n",
        "text_clf_svm.fit(X_train,y_train)\n",
        "test_svm =x_test\n",
        "predicted_svm = text_clf_svm.predict(test_svm)\n",
        "print(\"Accuracy for SVM :-> \",np.mean(predicted_svm == y_test))\n",
        "print(metrics.classification_report(y_test, predicted_svm))\n",
        "plot_confusion_matrix(text_clf_svm, x_test, y_test,xticks_rotation=\"vertical\")\n",
        "plt.show()\n",
        "\n",
        "# print(\"\\n[The Accuracy by using cross validation]\\n\")\n",
        "# cv = ShuffleSplit(n_splits=5, test_size=0.4, random_state=0)\n",
        "# kf = KFold(n_splits=10,shuffle=True,random_state=0)\n",
        "# scores_svm = cross_val_score(text_clf_svm, x, y, cv=kf)\n",
        "# for i in scores_svm:\n",
        "#   print(\"Accuracy at Iteration: %r ->\"%(np.where(scores_svm == i)),i)\n",
        "# print(\"Total accuracy: %0.2f (+/- %0.2f)\" % (scores_svm.mean(), scores_svm.std() * 2))"
      ],
      "execution_count": null,
      "outputs": [
        {
          "output_type": "stream",
          "name": "stdout",
          "text": [
            "Accuracy for SVM :->  0.7911741528762806\n",
            "              precision    recall  f1-score   support\n",
            "\n",
            "           0       0.77      0.92      0.83      2185\n",
            "           1       0.85      0.62      0.72      1622\n",
            "\n",
            "    accuracy                           0.79      3807\n",
            "   macro avg       0.81      0.77      0.78      3807\n",
            "weighted avg       0.80      0.79      0.78      3807\n",
            "\n"
          ]
        },
        {
          "output_type": "display_data",
          "data": {
            "image/png": "[encoded data removed]",
            "text/plain": [
              "<Figure size 432x288 with 2 Axes>"
            ]
          },
          "metadata": {
            "needs_background": "light"
          }
        }
      ]
    },
    {
      "cell_type": "markdown",
      "metadata": {
        "id": "rlqVjxobX7ww"
      },
      "source": [
        "**tuning Hyperpramter**"
      ]
    },
    {
      "cell_type": "code",
      "metadata": {
        "colab": {
          "base_uri": "https://localhost:8080/"
        },
        "id": "MSgN_Hf4X6ma",
        "outputId": "ea33286d-df3b-4ae0-aecc-068371d9f306"
      },
      "source": [
        "moddel = text_clf_DT[\"clf\"]\n",
        "params = {\n",
        "    'max_depth': [2, 3, 5, 10, 20],\n",
        "    'min_samples_leaf': [5, 10, 20, 50, 100],\n",
        "    'criterion': [\"gini\", \"entropy\"]\n",
        "}\n",
        "\n",
        "# Instantiate the grid search model \n",
        "grid_search = GridSearchCV(estimator=moddel, param_grid=params, cv = 4, n_jobs=-1, verbose=1, scoring=\"accuracy\") \n",
        "grid_search.fit(x_tf, y_train)\n",
        "print(grid_search.best_params_)\n",
        "print(\"Best Accu:->\",grid_search.best_score_)\n",
        "moddel_best = grid_search.best_estimator_ \n",
        "moddel_best\n",
        "# grid_predictions = grid_search.predict(x_test)\n",
        "# print(classification_report(y_test, grid_predictions))"
      ],
      "execution_count": null,
      "outputs": [
        {
          "output_type": "stream",
          "name": "stdout",
          "text": [
            "Fitting 4 folds for each of 50 candidates, totalling 200 fits\n"
          ]
        },
        {
          "output_type": "stream",
          "name": "stderr",
          "text": [
            "[Parallel(n_jobs=-1)]: Using backend LokyBackend with 2 concurrent workers.\n",
            "[Parallel(n_jobs=-1)]: Done  46 tasks      | elapsed:    3.9s\n",
            "[Parallel(n_jobs=-1)]: Done 196 tasks      | elapsed:   15.5s\n"
          ]
        },
        {
          "output_type": "stream",
          "name": "stdout",
          "text": [
            "{'criterion': 'gini', 'max_depth': 20, 'min_samples_leaf': 5}\n",
            "Best Accu:-> 0.6909370923812034\n"
          ]
        },
        {
          "output_type": "stream",
          "name": "stderr",
          "text": [
            "[Parallel(n_jobs=-1)]: Done 200 out of 200 | elapsed:   15.7s finished\n"
          ]
        },
        {
          "output_type": "execute_result",
          "data": {
            "text/plain": [
              "DecisionTreeClassifier(ccp_alpha=0.0, class_weight=None, criterion='gini',\n",
              "                       max_depth=20, max_features=None, max_leaf_nodes=None,\n",
              "                       min_impurity_decrease=0.0, min_impurity_split=None,\n",
              "                       min_samples_leaf=5, min_samples_split=2,\n",
              "                       min_weight_fraction_leaf=0.0, presort='deprecated',\n",
              "                       random_state=None, splitter='best')"
            ]
          },
          "metadata": {},
          "execution_count": 135
        }
      ]
    },
    {
      "cell_type": "markdown",
      "metadata": {
        "id": "L72tw8_53NSM"
      },
      "source": [
        "#Decision Tree"
      ]
    },
    {
      "cell_type": "code",
      "metadata": {
        "colab": {
          "base_uri": "https://localhost:8080/",
          "height": 666
        },
        "id": "aAiIstRD3QAN",
        "outputId": "7ec31eab-e1e2-424e-d33f-2f72840ef598"
      },
      "source": [
        "text_clf_DT = Pipeline([\n",
        "    ('vect', CountVectorizer()),\n",
        "    #('tfidf', TfidfTransformer()),\n",
        "    ('clf', DecisionTreeClassifier(criterion=\"gini\",max_depth=20,min_samples_leaf=5,random_state=1234),)\n",
        "])\n",
        "\n",
        "text_clf_DT.fit(X_train,y_train)\n",
        "test_DT =x_test\n",
        "predicted_DT = text_clf_DT.predict(test_DT)\n",
        "print(\"Accuracy for DecisionTree :-> \",np.mean(predicted_DT == y_test))\n",
        "print(metrics.classification_report(y_test, predicted_DT))\n",
        "plot_confusion_matrix(text_clf_DT, x_test, y_test,xticks_rotation=\"vertical\")\n",
        "plt.show()\n",
        "\n",
        "print(\"\\n[The Accuracy by using cross validation]\\n\")\n",
        "cv = ShuffleSplit(n_splits=5, test_size=0.4, random_state=0)\n",
        "kf = KFold(n_splits=10,shuffle=True,random_state=0)\n",
        "scores_DT = cross_val_score(text_clf_DT, x, y, cv=kf)\n",
        "for i in scores_DT:\n",
        "  print(\"Accuracy at Iteration: %r ->\"%(np.where(scores_DT == i)),i)\n",
        "print(\"Total accuracy: %0.2f (+/- %0.2f)\" % (scores_DT.mean(), scores_DT.std() * 2))"
      ],
      "execution_count": null,
      "outputs": [
        {
          "output_type": "stream",
          "name": "stdout",
          "text": [
            "Accuracy for DecisionTree :->  0.7132224168126094\n",
            "              precision    recall  f1-score   support\n",
            "\n",
            "           0       0.69      0.94      0.79      1338\n",
            "           1       0.81      0.40      0.54       946\n",
            "\n",
            "    accuracy                           0.71      2284\n",
            "   macro avg       0.75      0.67      0.66      2284\n",
            "weighted avg       0.74      0.71      0.69      2284\n",
            "\n"
          ]
        },
        {
          "output_type": "display_data",
          "data": {
            "image/png": "[encoded data removed]",
            "text/plain": [
              "<Figure size 432x288 with 2 Axes>"
            ]
          },
          "metadata": {
            "needs_background": "light"
          }
        },
        {
          "output_type": "stream",
          "name": "stdout",
          "text": [
            "\n",
            "[The Accuracy by using cross validation]\n",
            "\n",
            "Accuracy at Iteration: array([0]) -> 0.7007874015748031\n",
            "Accuracy at Iteration: array([1]) -> 0.7191601049868767\n",
            "Accuracy at Iteration: array([2]) -> 0.7257217847769029\n",
            "Accuracy at Iteration: array([3]) -> 0.6964520367936925\n",
            "Accuracy at Iteration: array([4]) -> 0.668856767411301\n",
            "Accuracy at Iteration: array([5]) -> 0.7174770039421814\n",
            "Accuracy at Iteration: array([6]) -> 0.7201051248357424\n",
            "Accuracy at Iteration: array([7]) -> 0.7109067017082786\n",
            "Accuracy at Iteration: array([8]) -> 0.7056504599211564\n",
            "Accuracy at Iteration: array([9]) -> 0.7148488830486203\n",
            "Total accuracy: 0.71 (+/- 0.03)\n"
          ]
        }
      ]
    },
    {
      "cell_type": "markdown",
      "metadata": {
        "id": "mtiK8A69qwGK"
      },
      "source": [
        "**RandomForestClassifier**"
      ]
    },
    {
      "cell_type": "code",
      "metadata": {
        "colab": {
          "base_uri": "https://localhost:8080/"
        },
        "id": "BIc3Zlou5mXd",
        "outputId": "c564b462-63fb-470d-e275-1af99f792511"
      },
      "source": [
        "text_clf_rf = Pipeline([\n",
        "    ('vect', CountVectorizer()),\n",
        "    #('tfidf', TfidfTransformer()),\n",
        "    (\"classifier_rf\",RandomForestClassifier(oob_score=True))])\n",
        "text_clf_rf.fit(X_train, y_train) \n",
        "print(\"Accu ->:\",text_clf_rf[\"classifier_rf\"].oob_score_)"
      ],
      "execution_count": null,
      "outputs": [
        {
          "output_type": "stream",
          "name": "stdout",
          "text": [
            "Accu ->: 0.7266754270696452\n"
          ]
        }
      ]
    },
    {
      "cell_type": "markdown",
      "metadata": {
        "id": "LxH4Wo96rY3P"
      },
      "source": [
        "**MLP**"
      ]
    },
    {
      "cell_type": "code",
      "metadata": {
        "colab": {
          "base_uri": "https://localhost:8080/",
          "height": 467
        },
        "id": "V3Fcb1narYpZ",
        "outputId": "c2171a5c-b8d1-467f-96f6-382afae034bc"
      },
      "source": [
        "text_clf_mlp = Pipeline([\n",
        "    #('vect', CountVectorizer()),\n",
        "    ('tfidf', TfidfVectorizer()),\n",
        "    #('tfidf', TfidfTransformer()),\n",
        "    ('MLP', MLPClassifier())])\n",
        "text_clf_mlp.fit(X_train, y_train)\n",
        "test_mlp =x_test\n",
        "predicted_mlp = text_clf_mlp.predict(test_mlp)\n",
        "print(\"Accuracy for DecisionTree :-> \",np.mean(predicted_mlp == y_test))\n",
        "print(metrics.classification_report(y_test, predicted_mlp))\n",
        "plot_confusion_matrix(text_clf_mlp, x_test, y_test,xticks_rotation=\"vertical\")"
      ],
      "execution_count": null,
      "outputs": [
        {
          "output_type": "stream",
          "name": "stdout",
          "text": [
            "Accuracy for DecisionTree :->  0.7407129455909943\n",
            "              precision    recall  f1-score   support\n",
            "\n",
            "           0       0.78      0.77      0.77      3052\n",
            "           1       0.69      0.70      0.70      2278\n",
            "\n",
            "    accuracy                           0.74      5330\n",
            "   macro avg       0.74      0.74      0.74      5330\n",
            "weighted avg       0.74      0.74      0.74      5330\n",
            "\n"
          ]
        },
        {
          "output_type": "execute_result",
          "data": {
            "text/plain": [
              "<sklearn.metrics._plot.confusion_matrix.ConfusionMatrixDisplay at 0x7ff4fb890fd0>"
            ]
          },
          "metadata": {},
          "execution_count": 60
        },
        {
          "output_type": "display_data",
          "data": {
            "image/png": "[encoded data removed]",
            "text/plain": [
              "<Figure size 432x288 with 2 Axes>"
            ]
          },
          "metadata": {
            "needs_background": "light"
          }
        }
      ]
    },
    {
      "cell_type": "markdown",
      "metadata": {
        "id": "J_oZhaoJlmOz"
      },
      "source": [
        "**xgbost**"
      ]
    },
    {
      "cell_type": "code",
      "metadata": {
        "colab": {
          "base_uri": "https://localhost:8080/"
        },
        "id": "91sbyji2lmBr",
        "outputId": "533f2798-8a81-4691-83ff-463ffdf39d22"
      },
      "source": [
        "text_clf_xgb = Pipeline([\n",
        "   # ('vect', CountVectorizer()),\n",
        "    ('tfidf', TfidfVectorizer()),\n",
        "   # ('tfidf', TfidfTransformer()),\n",
        "    ('model_xgb' , XGBClassifier(max_depth=10))])\n",
        "text_clf_xgb.fit(X_train, y_train).score(x_test,y_test)"
      ],
      "execution_count": null,
      "outputs": [
        {
          "output_type": "execute_result",
          "data": {
            "text/plain": [
              "0.7371482176360226"
            ]
          },
          "metadata": {},
          "execution_count": 61
        }
      ]
    },
    {
      "cell_type": "markdown",
      "metadata": {
        "id": "kZDHFR0SaQlp"
      },
      "source": [
        "**AdBoost**"
      ]
    },
    {
      "cell_type": "code",
      "metadata": {
        "colab": {
          "base_uri": "https://localhost:8080/"
        },
        "id": "cvKG4m1RaQcA",
        "outputId": "ab2fb796-348b-41cd-bc25-aceb075c0ef1"
      },
      "source": [
        "text_clf_ad = Pipeline([\n",
        "    ('vect', CountVectorizer()),\n",
        "    #('tfidf', TfidfTransformer()),\n",
        "    ('ad_clf'  ,AdaBoostClassifier(n_estimators=100, random_state=1234,learning_rate=0.3))])\n",
        "text_clf_ad.fit(X_train, y_train).score(x_test,y_test)"
      ],
      "execution_count": null,
      "outputs": [
        {
          "output_type": "execute_result",
          "data": {
            "text/plain": [
              "0.6938120256859311"
            ]
          },
          "metadata": {},
          "execution_count": 21
        }
      ]
    },
    {
      "cell_type": "markdown",
      "metadata": {
        "id": "H9xwCQ2lJ6Iy"
      },
      "source": [
        "**Bagging**"
      ]
    },
    {
      "cell_type": "code",
      "metadata": {
        "colab": {
          "base_uri": "https://localhost:8080/"
        },
        "id": "UHwHkX7HJ5CE",
        "outputId": "035c0f9f-54b0-41a5-866d-47e34109bc23"
      },
      "source": [
        "text_clf_bag = Pipeline([\n",
        "    #('vect', CountVectorizer()),\n",
        "    ('tfidf', TfidfVectorizer()),\n",
        "    #('tfidf', TfidfTransformer()),\n",
        "    ('bag' , BaggingClassifier(base_estimator=svm.SVC(),n_estimators=10, random_state=1234))])\n",
        "text_clf_bag.fit(X_train, y_train).score(x_test,y_test)"
      ],
      "execution_count": null,
      "outputs": [
        {
          "output_type": "execute_result",
          "data": {
            "text/plain": [
              "0.7731707317073171"
            ]
          },
          "metadata": {},
          "execution_count": 62
        }
      ]
    },
    {
      "cell_type": "markdown",
      "metadata": {
        "id": "zDzPyOI2Xwgt"
      },
      "source": [
        "**Stacking**"
      ]
    },
    {
      "cell_type": "code",
      "metadata": {
        "id": "LfPoIPsRN8Fm"
      },
      "source": [
        "models = [#('lr',LogisticRegression()),\n",
        "          ('svm', make_pipeline(StandardScaler(),svm.SVC())),\n",
        "     #     ('nb',GaussianNB()),\n",
        "     (\"dt\",DecisionTreeClassifier()),\n",
        "    ('rf', RandomForestClassifier(n_estimators=25, max_depth=10,min_samples_leaf=5, random_state=1234)),\n",
        "    #('svr', make_pipeline(StandardScaler(),svm.LinearSVC(random_state=1234)))\n",
        "    ]\n",
        "\n",
        "text_clf_stack = Pipeline([\n",
        "    ('vect', CountVectorizer()),\n",
        "    ('tfidf', TfidfTransformer()),\n",
        "    ('stacking' , StackingClassifier(estimators=models,final_estimator=svm.SVC()))])\n",
        "text_clf_stack.fit(X_train, y_train).score(x_test, y_test)\n"
      ],
      "execution_count": null,
      "outputs": []
    },
    {
      "cell_type": "markdown",
      "metadata": {
        "id": "PFR1PneQQkSh"
      },
      "source": [
        "**Test on unseen dataset**"
      ]
    },
    {
      "cell_type": "code",
      "metadata": {
        "id": "XnvivLt1OSYg"
      },
      "source": [
        "df_test=pd.read_csv(\"test.csv\")\n",
        "\n",
        "df_test[\"text\"]= df_test[\"text\"].str.replace(\"[^a-zA-Z0-9]\", \" \")\n",
        "data_test=pd.DataFrame( {'Text':df_test[\"text\"].to_list()})\n",
        "\n",
        "# removing short words/ punctuation\n",
        "data_test[\"Text\"]= data_test[\"Text\"].apply(lambda x: \" \".join ([w for w in x.split() if len (w)>3]))\n",
        "# tokenize the data test\n",
        "data_test['Text']= data_test['Text'].apply (lambda x: tokenize(x.lower()))\n",
        "# remove stopwords\n",
        "data_test['Text']= data_test['Text'].apply(lambda x: remove_stopword(x))\n",
        "# stemming \n",
        "data_test[\"Text\"]= data_test[\"Text\"].apply(lambda x: stem(x))\n",
        "\n",
        "X_test=[]\n",
        "for i in data_test[\"Text\"]:\n",
        "  X_test.append(str(i))"
      ],
      "execution_count": null,
      "outputs": []
    },
    {
      "cell_type": "code",
      "metadata": {
        "id": "4scCZi_PLE1K"
      },
      "source": [
        "text_clf_svm = Pipeline([\n",
        "    ('vect', CountVectorizer()),\n",
        "    #('tfidf', TfidfTransformer()),\n",
        "    ('clf', svm.SVC(),)\n",
        "])\n",
        "text_clf_svm.fit(x,y)\n",
        "test_svm =X_test\n",
        "predicted_svm = text_clf_svm.predict(test_svm)\n"
      ],
      "execution_count": null,
      "outputs": []
    },
    {
      "cell_type": "code",
      "metadata": {
        "id": "GZkwOjDfSfZO"
      },
      "source": [
        "pred_df=pd.DataFrame({'id':df_test[\"id\"],'target':text_clf_svm.predict(X_test)})\n",
        "pred_df.to_csv(\"result.csv\",index=False)"
      ],
      "execution_count": null,
      "outputs": []
    }
  ]
}