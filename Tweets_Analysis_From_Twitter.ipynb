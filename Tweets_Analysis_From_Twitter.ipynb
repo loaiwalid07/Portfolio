{
  "nbformat": 4,
  "nbformat_minor": 0,
  "metadata": {
    "colab": {
      "name": "Tweets Analysis From Twitter.ipynb",
      "provenance": [],
      "collapsed_sections": [],
      "authorship_tag": "ABX9TyOhsxYX10OaLdLqESnOnrnR",
      "include_colab_link": true
    },
    "kernelspec": {
      "name": "python3",
      "display_name": "Python 3"
    },
    "language_info": {
      "name": "python"
    }
  },
  "cells": [
    {
      "cell_type": "markdown",
      "metadata": {
        "id": "view-in-github",
        "colab_type": "text"
      },
      "source": [
        "<a href=\"https://colab.research.google.com/github/loaiwalid07/main/blob/main/Tweets_Analysis_From_Twitter.ipynb\" target=\"_parent\"><img src=\"https://colab.research.google.com/assets/colab-badge.svg\" alt=\"Open In Colab\"/></a>"
      ]
    },
    {
      "cell_type": "markdown",
      "source": [
        "## **Tweets Analysis From Twitter**"
      ],
      "metadata": {
        "id": "_QwJmfEbHWtn"
      }
    },
    {
      "cell_type": "code",
      "metadata": {
        "colab": {
          "base_uri": "https://localhost:8080/"
        },
        "id": "KMfx0aeqTU1L",
        "outputId": "1ae7998f-3de6-4522-ac89-f26245ca8a6c"
      },
      "source": [
        "!pip install -q contextily"
      ],
      "execution_count": null,
      "outputs": [
        {
          "output_type": "stream",
          "name": "stdout",
          "text": [
            "\u001b[K     |████████████████████████████████| 19.3 MB 1.3 MB/s \n",
            "\u001b[?25h"
          ]
        }
      ]
    },
    {
      "cell_type": "code",
      "metadata": {
        "id": "BnqC-gkjMTmI"
      },
      "source": [
        "import pandas as pd\n",
        "import numpy as np\n",
        "import matplotlib.pyplot as plt\n",
        "import plotly.express as px\n",
        "import re\n",
        "import string\n",
        "import nltk\n",
        "from nltk.corpus import stopwords\n",
        "#import contextily as cx"
      ],
      "execution_count": null,
      "outputs": []
    },
    {
      "cell_type": "code",
      "metadata": {
        "colab": {
          "base_uri": "https://localhost:8080/"
        },
        "id": "RypDOWuERE5A",
        "outputId": "4c963114-4a64-4a3b-ebab-64241727b97b"
      },
      "source": [
        "nltk.download('punkt')\n",
        "nltk.download('stopwords')"
      ],
      "execution_count": null,
      "outputs": [
        {
          "output_type": "stream",
          "name": "stdout",
          "text": [
            "[nltk_data] Downloading package punkt to /root/nltk_data...\n",
            "[nltk_data]   Package punkt is already up-to-date!\n",
            "[nltk_data] Downloading package stopwords to /root/nltk_data...\n",
            "[nltk_data]   Package stopwords is already up-to-date!\n"
          ]
        },
        {
          "output_type": "execute_result",
          "data": {
            "text/plain": [
              "True"
            ]
          },
          "metadata": {},
          "execution_count": 148
        }
      ]
    },
    {
      "cell_type": "code",
      "metadata": {
        "id": "6617SpiQMdnR"
      },
      "source": [
        "data=pd.read_csv(\"Final_Kia.csv\")"
      ],
      "execution_count": null,
      "outputs": []
    },
    {
      "cell_type": "code",
      "metadata": {
        "colab": {
          "base_uri": "https://localhost:8080/",
          "height": 1000
        },
        "id": "ercjVpE_M7Wc",
        "outputId": "494d7d48-7b61-4c9a-d401-d89bffa9df0c"
      },
      "source": [
        "data"
      ],
      "execution_count": null,
      "outputs": [
        {
          "output_type": "execute_result",
          "data": {
            "text/html": [
              "<div>\n",
              "<style scoped>\n",
              "    .dataframe tbody tr th:only-of-type {\n",
              "        vertical-align: middle;\n",
              "    }\n",
              "\n",
              "    .dataframe tbody tr th {\n",
              "        vertical-align: top;\n",
              "    }\n",
              "\n",
              "    .dataframe thead th {\n",
              "        text-align: right;\n",
              "    }\n",
              "</style>\n",
              "<table border=\"1\" class=\"dataframe\">\n",
              "  <thead>\n",
              "    <tr style=\"text-align: right;\">\n",
              "      <th></th>\n",
              "      <th>Unnamed: 0</th>\n",
              "      <th>id</th>\n",
              "      <th>conversation_id</th>\n",
              "      <th>created_at</th>\n",
              "      <th>date</th>\n",
              "      <th>time</th>\n",
              "      <th>timezone</th>\n",
              "      <th>user_id</th>\n",
              "      <th>username</th>\n",
              "      <th>name</th>\n",
              "      <th>place</th>\n",
              "      <th>tweet</th>\n",
              "      <th>language</th>\n",
              "      <th>mentions</th>\n",
              "      <th>urls</th>\n",
              "      <th>photos</th>\n",
              "      <th>replies_count</th>\n",
              "      <th>retweets_count</th>\n",
              "      <th>likes_count</th>\n",
              "      <th>hashtags</th>\n",
              "      <th>cashtags</th>\n",
              "      <th>link</th>\n",
              "      <th>retweet</th>\n",
              "      <th>quote_url</th>\n",
              "      <th>video</th>\n",
              "      <th>thumbnail</th>\n",
              "      <th>near</th>\n",
              "      <th>geo</th>\n",
              "      <th>source</th>\n",
              "      <th>user_rt_id</th>\n",
              "      <th>user_rt</th>\n",
              "      <th>retweet_id</th>\n",
              "      <th>reply_to</th>\n",
              "      <th>retweet_date</th>\n",
              "      <th>translate</th>\n",
              "      <th>trans_src</th>\n",
              "      <th>trans_dest</th>\n",
              "      <th>Age</th>\n",
              "      <th>Gender</th>\n",
              "      <th>Org</th>\n",
              "    </tr>\n",
              "  </thead>\n",
              "  <tbody>\n",
              "    <tr>\n",
              "      <th>0</th>\n",
              "      <td>0</td>\n",
              "      <td>1233904773616656385</td>\n",
              "      <td>1233902822522884096</td>\n",
              "      <td>2020-03-01 01:59:57 Egypt Standard Time</td>\n",
              "      <td>2020-03-01</td>\n",
              "      <td>01:59:57</td>\n",
              "      <td>200</td>\n",
              "      <td>1142486779133485056</td>\n",
              "      <td>an1ndyarr</td>\n",
              "      <td>Anin.</td>\n",
              "      <td>NaN</td>\n",
              "      <td>@kia_ehhkia nih urang baiq, 💜😅</td>\n",
              "      <td>in</td>\n",
              "      <td>[]</td>\n",
              "      <td>[]</td>\n",
              "      <td>[]</td>\n",
              "      <td>0</td>\n",
              "      <td>0</td>\n",
              "      <td>0</td>\n",
              "      <td>[]</td>\n",
              "      <td>[]</td>\n",
              "      <td>https://twitter.com/an1ndyarr/status/123390477...</td>\n",
              "      <td>False</td>\n",
              "      <td>NaN</td>\n",
              "      <td>0</td>\n",
              "      <td>NaN</td>\n",
              "      <td>NaN</td>\n",
              "      <td>NaN</td>\n",
              "      <td>NaN</td>\n",
              "      <td>NaN</td>\n",
              "      <td>NaN</td>\n",
              "      <td>NaN</td>\n",
              "      <td>[]</td>\n",
              "      <td>NaN</td>\n",
              "      <td>NaN</td>\n",
              "      <td>NaN</td>\n",
              "      <td>NaN</td>\n",
              "      <td>&lt;=18</td>\n",
              "      <td>male</td>\n",
              "      <td>non-org</td>\n",
              "    </tr>\n",
              "    <tr>\n",
              "      <th>1</th>\n",
              "      <td>1</td>\n",
              "      <td>1233904745070419970</td>\n",
              "      <td>1233690769594224644</td>\n",
              "      <td>2020-03-01 01:59:50 Egypt Standard Time</td>\n",
              "      <td>2020-03-01</td>\n",
              "      <td>01:59:50</td>\n",
              "      <td>200</td>\n",
              "      <td>1087745586642763776</td>\n",
              "      <td>koondharmehmood</td>\n",
              "      <td>Mehmood Koondhar</td>\n",
              "      <td>NaN</td>\n",
              "      <td>@NasirShahOffice @BBhuttoZardari @SyedNasirHSh...</td>\n",
              "      <td>hi</td>\n",
              "      <td>[]</td>\n",
              "      <td>[]</td>\n",
              "      <td>[]</td>\n",
              "      <td>0</td>\n",
              "      <td>0</td>\n",
              "      <td>0</td>\n",
              "      <td>[]</td>\n",
              "      <td>[]</td>\n",
              "      <td>https://twitter.com/KoondharMehmood/status/123...</td>\n",
              "      <td>False</td>\n",
              "      <td>NaN</td>\n",
              "      <td>0</td>\n",
              "      <td>NaN</td>\n",
              "      <td>NaN</td>\n",
              "      <td>NaN</td>\n",
              "      <td>NaN</td>\n",
              "      <td>NaN</td>\n",
              "      <td>NaN</td>\n",
              "      <td>NaN</td>\n",
              "      <td>[{'screen_name': 'NasirShahOffice', 'name': \"S...</td>\n",
              "      <td>NaN</td>\n",
              "      <td>NaN</td>\n",
              "      <td>NaN</td>\n",
              "      <td>NaN</td>\n",
              "      <td>&gt;=40</td>\n",
              "      <td>male</td>\n",
              "      <td>non-org</td>\n",
              "    </tr>\n",
              "    <tr>\n",
              "      <th>2</th>\n",
              "      <td>2</td>\n",
              "      <td>1233904563419144192</td>\n",
              "      <td>1233777413907087360</td>\n",
              "      <td>2020-03-01 01:59:07 Egypt Standard Time</td>\n",
              "      <td>2020-03-01</td>\n",
              "      <td>01:59:07</td>\n",
              "      <td>200</td>\n",
              "      <td>1128126416409640960</td>\n",
              "      <td>rrj1705</td>\n",
              "      <td>🌻RRJ🌏🕊</td>\n",
              "      <td>NaN</td>\n",
              "      <td>@_kiatakahashi Gudluck Kia gudmorning😘 #KiaraT...</td>\n",
              "      <td>tl</td>\n",
              "      <td>[]</td>\n",
              "      <td>[]</td>\n",
              "      <td>[]</td>\n",
              "      <td>0</td>\n",
              "      <td>0</td>\n",
              "      <td>0</td>\n",
              "      <td>['kiaratakahashi']</td>\n",
              "      <td>[]</td>\n",
              "      <td>https://twitter.com/RRJ1705/status/12339045634...</td>\n",
              "      <td>False</td>\n",
              "      <td>NaN</td>\n",
              "      <td>0</td>\n",
              "      <td>NaN</td>\n",
              "      <td>NaN</td>\n",
              "      <td>NaN</td>\n",
              "      <td>NaN</td>\n",
              "      <td>NaN</td>\n",
              "      <td>NaN</td>\n",
              "      <td>NaN</td>\n",
              "      <td>[{'screen_name': '_kiatakahashi', 'name': 'Kia...</td>\n",
              "      <td>NaN</td>\n",
              "      <td>NaN</td>\n",
              "      <td>NaN</td>\n",
              "      <td>NaN</td>\n",
              "      <td>19-29</td>\n",
              "      <td>male</td>\n",
              "      <td>non-org</td>\n",
              "    </tr>\n",
              "    <tr>\n",
              "      <th>3</th>\n",
              "      <td>3</td>\n",
              "      <td>1233904513070878722</td>\n",
              "      <td>1233837573967089665</td>\n",
              "      <td>2020-03-01 01:58:55 Egypt Standard Time</td>\n",
              "      <td>2020-03-01</td>\n",
              "      <td>01:58:55</td>\n",
              "      <td>200</td>\n",
              "      <td>708093688086286336</td>\n",
              "      <td>boatbaggybagg</td>\n",
              "      <td>jafek</td>\n",
              "      <td>NaN</td>\n",
              "      <td>@kia_lynee My fav villagers are scoot, bob, an...</td>\n",
              "      <td>en</td>\n",
              "      <td>[]</td>\n",
              "      <td>[]</td>\n",
              "      <td>[]</td>\n",
              "      <td>0</td>\n",
              "      <td>0</td>\n",
              "      <td>0</td>\n",
              "      <td>[]</td>\n",
              "      <td>[]</td>\n",
              "      <td>https://twitter.com/boatbaggybagg/status/12339...</td>\n",
              "      <td>False</td>\n",
              "      <td>NaN</td>\n",
              "      <td>0</td>\n",
              "      <td>NaN</td>\n",
              "      <td>NaN</td>\n",
              "      <td>NaN</td>\n",
              "      <td>NaN</td>\n",
              "      <td>NaN</td>\n",
              "      <td>NaN</td>\n",
              "      <td>NaN</td>\n",
              "      <td>[{'screen_name': 'kia_lynee', 'name': 'kia 🖤',...</td>\n",
              "      <td>NaN</td>\n",
              "      <td>NaN</td>\n",
              "      <td>NaN</td>\n",
              "      <td>NaN</td>\n",
              "      <td>&lt;=18</td>\n",
              "      <td>male</td>\n",
              "      <td>non-org</td>\n",
              "    </tr>\n",
              "    <tr>\n",
              "      <th>4</th>\n",
              "      <td>4</td>\n",
              "      <td>1233904512911409156</td>\n",
              "      <td>1233894167434190849</td>\n",
              "      <td>2020-03-01 01:58:55 Egypt Standard Time</td>\n",
              "      <td>2020-03-01</td>\n",
              "      <td>01:58:55</td>\n",
              "      <td>200</td>\n",
              "      <td>1231234703006556163</td>\n",
              "      <td>arzurajput12</td>\n",
              "      <td>(shehnazian)❤💙💜</td>\n",
              "      <td>NaN</td>\n",
              "      <td>@yaman_parmar Hahaha kia nhi tmhy n bol rhi me...</td>\n",
              "      <td>tl</td>\n",
              "      <td>[]</td>\n",
              "      <td>[]</td>\n",
              "      <td>[]</td>\n",
              "      <td>0</td>\n",
              "      <td>0</td>\n",
              "      <td>0</td>\n",
              "      <td>[]</td>\n",
              "      <td>[]</td>\n",
              "      <td>https://twitter.com/ArzuRajput12/status/123390...</td>\n",
              "      <td>False</td>\n",
              "      <td>NaN</td>\n",
              "      <td>0</td>\n",
              "      <td>NaN</td>\n",
              "      <td>NaN</td>\n",
              "      <td>NaN</td>\n",
              "      <td>NaN</td>\n",
              "      <td>NaN</td>\n",
              "      <td>NaN</td>\n",
              "      <td>NaN</td>\n",
              "      <td>[{'screen_name': 'yaman_parmar', 'name': 'Neha...</td>\n",
              "      <td>NaN</td>\n",
              "      <td>NaN</td>\n",
              "      <td>NaN</td>\n",
              "      <td>NaN</td>\n",
              "      <td>&lt;=18</td>\n",
              "      <td>female</td>\n",
              "      <td>non-org</td>\n",
              "    </tr>\n",
              "    <tr>\n",
              "      <th>...</th>\n",
              "      <td>...</td>\n",
              "      <td>...</td>\n",
              "      <td>...</td>\n",
              "      <td>...</td>\n",
              "      <td>...</td>\n",
              "      <td>...</td>\n",
              "      <td>...</td>\n",
              "      <td>...</td>\n",
              "      <td>...</td>\n",
              "      <td>...</td>\n",
              "      <td>...</td>\n",
              "      <td>...</td>\n",
              "      <td>...</td>\n",
              "      <td>...</td>\n",
              "      <td>...</td>\n",
              "      <td>...</td>\n",
              "      <td>...</td>\n",
              "      <td>...</td>\n",
              "      <td>...</td>\n",
              "      <td>...</td>\n",
              "      <td>...</td>\n",
              "      <td>...</td>\n",
              "      <td>...</td>\n",
              "      <td>...</td>\n",
              "      <td>...</td>\n",
              "      <td>...</td>\n",
              "      <td>...</td>\n",
              "      <td>...</td>\n",
              "      <td>...</td>\n",
              "      <td>...</td>\n",
              "      <td>...</td>\n",
              "      <td>...</td>\n",
              "      <td>...</td>\n",
              "      <td>...</td>\n",
              "      <td>...</td>\n",
              "      <td>...</td>\n",
              "      <td>...</td>\n",
              "      <td>...</td>\n",
              "      <td>...</td>\n",
              "      <td>...</td>\n",
              "    </tr>\n",
              "    <tr>\n",
              "      <th>5012</th>\n",
              "      <td>5012</td>\n",
              "      <td>1233759718998446081</td>\n",
              "      <td>1233746617485885440</td>\n",
              "      <td>2020-02-29 16:23:33 Egypt Standard Time</td>\n",
              "      <td>2020-02-29</td>\n",
              "      <td>16:23:33</td>\n",
              "      <td>200</td>\n",
              "      <td>340377094</td>\n",
              "      <td>drimtiaz86</td>\n",
              "      <td>Dr. Imtiaz Ahmad</td>\n",
              "      <td>NaN</td>\n",
              "      <td>@AhmadShaheen Kio corona nahe ha Kia</td>\n",
              "      <td>in</td>\n",
              "      <td>[]</td>\n",
              "      <td>[]</td>\n",
              "      <td>[]</td>\n",
              "      <td>1</td>\n",
              "      <td>0</td>\n",
              "      <td>1</td>\n",
              "      <td>[]</td>\n",
              "      <td>[]</td>\n",
              "      <td>https://twitter.com/drimtiaz86/status/12337597...</td>\n",
              "      <td>False</td>\n",
              "      <td>NaN</td>\n",
              "      <td>0</td>\n",
              "      <td>NaN</td>\n",
              "      <td>NaN</td>\n",
              "      <td>NaN</td>\n",
              "      <td>NaN</td>\n",
              "      <td>NaN</td>\n",
              "      <td>NaN</td>\n",
              "      <td>NaN</td>\n",
              "      <td>[{'screen_name': 'AhmadShaheen', 'name': 'Ahma...</td>\n",
              "      <td>NaN</td>\n",
              "      <td>NaN</td>\n",
              "      <td>NaN</td>\n",
              "      <td>NaN</td>\n",
              "      <td>30-39</td>\n",
              "      <td>male</td>\n",
              "      <td>non-org</td>\n",
              "    </tr>\n",
              "    <tr>\n",
              "      <th>5013</th>\n",
              "      <td>5013</td>\n",
              "      <td>1233759710936891392</td>\n",
              "      <td>1233731997366833152</td>\n",
              "      <td>2020-02-29 16:23:31 Egypt Standard Time</td>\n",
              "      <td>2020-02-29</td>\n",
              "      <td>16:23:31</td>\n",
              "      <td>200</td>\n",
              "      <td>1153164362502119425</td>\n",
              "      <td>autumnjewel116</td>\n",
              "      <td>Autumnjewel¹⁹⁹⁶</td>\n",
              "      <td>NaN</td>\n",
              "      <td>@likeabird191 @Mochi985 @YGlacondixaolol Chắc ...</td>\n",
              "      <td>vi</td>\n",
              "      <td>[]</td>\n",
              "      <td>[]</td>\n",
              "      <td>[]</td>\n",
              "      <td>0</td>\n",
              "      <td>0</td>\n",
              "      <td>0</td>\n",
              "      <td>[]</td>\n",
              "      <td>[]</td>\n",
              "      <td>https://twitter.com/autumnjewel116/status/1233...</td>\n",
              "      <td>False</td>\n",
              "      <td>NaN</td>\n",
              "      <td>0</td>\n",
              "      <td>NaN</td>\n",
              "      <td>NaN</td>\n",
              "      <td>NaN</td>\n",
              "      <td>NaN</td>\n",
              "      <td>NaN</td>\n",
              "      <td>NaN</td>\n",
              "      <td>NaN</td>\n",
              "      <td>[{'screen_name': 'likeabird191', 'name': 'Cỏ B...</td>\n",
              "      <td>NaN</td>\n",
              "      <td>NaN</td>\n",
              "      <td>NaN</td>\n",
              "      <td>NaN</td>\n",
              "      <td>&lt;=18</td>\n",
              "      <td>female</td>\n",
              "      <td>non-org</td>\n",
              "    </tr>\n",
              "    <tr>\n",
              "      <th>5014</th>\n",
              "      <td>5014</td>\n",
              "      <td>1233759695942438912</td>\n",
              "      <td>1233733935798083584</td>\n",
              "      <td>2020-02-29 16:23:28 Egypt Standard Time</td>\n",
              "      <td>2020-02-29</td>\n",
              "      <td>16:23:28</td>\n",
              "      <td>200</td>\n",
              "      <td>912249110048202752</td>\n",
              "      <td>itx_diya</td>\n",
              "      <td>Dania🇵🇰</td>\n",
              "      <td>NaN</td>\n",
              "      <td>@GoSleepBilal @50shadesofzooya @Gosleepmemo @U...</td>\n",
              "      <td>in</td>\n",
              "      <td>[]</td>\n",
              "      <td>[]</td>\n",
              "      <td>[]</td>\n",
              "      <td>2</td>\n",
              "      <td>0</td>\n",
              "      <td>1</td>\n",
              "      <td>[]</td>\n",
              "      <td>[]</td>\n",
              "      <td>https://twitter.com/itx_Diya/status/1233759695...</td>\n",
              "      <td>False</td>\n",
              "      <td>NaN</td>\n",
              "      <td>0</td>\n",
              "      <td>NaN</td>\n",
              "      <td>NaN</td>\n",
              "      <td>NaN</td>\n",
              "      <td>NaN</td>\n",
              "      <td>NaN</td>\n",
              "      <td>NaN</td>\n",
              "      <td>NaN</td>\n",
              "      <td>[{'screen_name': '50shadesofzooya', 'name': 'Z...</td>\n",
              "      <td>NaN</td>\n",
              "      <td>NaN</td>\n",
              "      <td>NaN</td>\n",
              "      <td>NaN</td>\n",
              "      <td>&lt;=18</td>\n",
              "      <td>female</td>\n",
              "      <td>non-org</td>\n",
              "    </tr>\n",
              "    <tr>\n",
              "      <th>5015</th>\n",
              "      <td>5015</td>\n",
              "      <td>1233759686001713153</td>\n",
              "      <td>1233757795943452675</td>\n",
              "      <td>2020-02-29 16:23:25 Egypt Standard Time</td>\n",
              "      <td>2020-02-29</td>\n",
              "      <td>16:23:25</td>\n",
              "      <td>200</td>\n",
              "      <td>1102077191091761152</td>\n",
              "      <td>lostmyseok</td>\n",
              "      <td>kia, close</td>\n",
              "      <td>NaN</td>\n",
              "      <td>@kim_liaaaa aku kia unch</td>\n",
              "      <td>in</td>\n",
              "      <td>[]</td>\n",
              "      <td>[]</td>\n",
              "      <td>[]</td>\n",
              "      <td>1</td>\n",
              "      <td>0</td>\n",
              "      <td>0</td>\n",
              "      <td>[]</td>\n",
              "      <td>[]</td>\n",
              "      <td>https://twitter.com/lostmyseok/status/12337596...</td>\n",
              "      <td>False</td>\n",
              "      <td>NaN</td>\n",
              "      <td>0</td>\n",
              "      <td>NaN</td>\n",
              "      <td>NaN</td>\n",
              "      <td>NaN</td>\n",
              "      <td>NaN</td>\n",
              "      <td>NaN</td>\n",
              "      <td>NaN</td>\n",
              "      <td>NaN</td>\n",
              "      <td>[{'screen_name': 'kim_liaaaa', 'name': 'auliaa...</td>\n",
              "      <td>NaN</td>\n",
              "      <td>NaN</td>\n",
              "      <td>NaN</td>\n",
              "      <td>NaN</td>\n",
              "      <td>&lt;=18</td>\n",
              "      <td>female</td>\n",
              "      <td>non-org</td>\n",
              "    </tr>\n",
              "    <tr>\n",
              "      <th>5016</th>\n",
              "      <td>5016</td>\n",
              "      <td>1233759672823427072</td>\n",
              "      <td>1233721628904783872</td>\n",
              "      <td>2020-02-29 16:23:22 Egypt Standard Time</td>\n",
              "      <td>2020-02-29</td>\n",
              "      <td>16:23:22</td>\n",
              "      <td>200</td>\n",
              "      <td>1106324685132886017</td>\n",
              "      <td>atiqkhanpti1</td>\n",
              "      <td>ATIQ KHAN PTI</td>\n",
              "      <td>NaN</td>\n",
              "      <td>@KainatFaisal8 MashaAllah kia stail ha</td>\n",
              "      <td>in</td>\n",
              "      <td>[]</td>\n",
              "      <td>[]</td>\n",
              "      <td>[]</td>\n",
              "      <td>0</td>\n",
              "      <td>0</td>\n",
              "      <td>0</td>\n",
              "      <td>[]</td>\n",
              "      <td>[]</td>\n",
              "      <td>https://twitter.com/ATIQKHANPTI1/status/123375...</td>\n",
              "      <td>False</td>\n",
              "      <td>NaN</td>\n",
              "      <td>0</td>\n",
              "      <td>NaN</td>\n",
              "      <td>NaN</td>\n",
              "      <td>NaN</td>\n",
              "      <td>NaN</td>\n",
              "      <td>NaN</td>\n",
              "      <td>NaN</td>\n",
              "      <td>NaN</td>\n",
              "      <td>[{'screen_name': 'KainatFaisal8', 'name': 'Kai...</td>\n",
              "      <td>NaN</td>\n",
              "      <td>NaN</td>\n",
              "      <td>NaN</td>\n",
              "      <td>NaN</td>\n",
              "      <td>30-39</td>\n",
              "      <td>male</td>\n",
              "      <td>non-org</td>\n",
              "    </tr>\n",
              "  </tbody>\n",
              "</table>\n",
              "<p>5017 rows × 40 columns</p>\n",
              "</div>"
            ],
            "text/plain": [
              "      Unnamed: 0                   id  ...  Gender      Org\n",
              "0              0  1233904773616656385  ...    male  non-org\n",
              "1              1  1233904745070419970  ...    male  non-org\n",
              "2              2  1233904563419144192  ...    male  non-org\n",
              "3              3  1233904513070878722  ...    male  non-org\n",
              "4              4  1233904512911409156  ...  female  non-org\n",
              "...          ...                  ...  ...     ...      ...\n",
              "5012        5012  1233759718998446081  ...    male  non-org\n",
              "5013        5013  1233759710936891392  ...  female  non-org\n",
              "5014        5014  1233759695942438912  ...  female  non-org\n",
              "5015        5015  1233759686001713153  ...  female  non-org\n",
              "5016        5016  1233759672823427072  ...    male  non-org\n",
              "\n",
              "[5017 rows x 40 columns]"
            ]
          },
          "metadata": {},
          "execution_count": 150
        }
      ]
    },
    {
      "cell_type": "markdown",
      "metadata": {
        "id": "SbWwCIkE5dBD"
      },
      "source": [
        "**Extract retweet and likes**"
      ]
    },
    {
      "cell_type": "code",
      "metadata": {
        "colab": {
          "base_uri": "https://localhost:8080/"
        },
        "id": "3uu8d2G11d7y",
        "outputId": "7d00b16e-58d7-4ad9-b16b-303db95a63eb"
      },
      "source": [
        "max(data[\"likes_count\"])\n",
        "max(data[\"retweets_count\"])"
      ],
      "execution_count": null,
      "outputs": [
        {
          "output_type": "execute_result",
          "data": {
            "text/plain": [
              "276"
            ]
          },
          "metadata": {},
          "execution_count": 151
        }
      ]
    },
    {
      "cell_type": "code",
      "metadata": {
        "colab": {
          "base_uri": "https://localhost:8080/"
        },
        "id": "36zCvtrA88oK",
        "outputId": "0ed7d519-0a60-412a-8a34-d45297754ee8"
      },
      "source": [
        "hash=[]\n",
        "final_ha=[]\n",
        "symbols = ['.', '£', '-', '!', '(', ')', ':',\"'\",']','[']\n",
        "for i in range(len(data[\"hashtags\"])):\n",
        "  if data[\"hashtags\"][i] != '[]':\n",
        "    for j in symbols:\n",
        "      data[\"hashtags\"][i]=data[\"hashtags\"][i].replace(j,'')    \n",
        "    hash.append(data[\"hashtags\"][i].split(\",\"))\n",
        "for i in range(len(hash)):\n",
        "  for j in range(len(hash[i])):\n",
        "    final_ha.append(hash[i][j])\n",
        "len(np.unique(np.array(final_ha)))"
      ],
      "execution_count": null,
      "outputs": [
        {
          "output_type": "stream",
          "name": "stderr",
          "text": [
            "/usr/local/lib/python3.7/dist-packages/ipykernel_launcher.py:7: SettingWithCopyWarning:\n",
            "\n",
            "\n",
            "A value is trying to be set on a copy of a slice from a DataFrame\n",
            "\n",
            "See the caveats in the documentation: https://pandas.pydata.org/pandas-docs/stable/user_guide/indexing.html#returning-a-view-versus-a-copy\n",
            "\n"
          ]
        },
        {
          "output_type": "execute_result",
          "data": {
            "text/plain": [
              "707"
            ]
          },
          "metadata": {},
          "execution_count": 152
        }
      ]
    },
    {
      "cell_type": "code",
      "metadata": {
        "id": "zkKt8O6V_9-b",
        "colab": {
          "base_uri": "https://localhost:8080/"
        },
        "outputId": "e2c79c91-70ce-47e8-945c-3c238fe28d00"
      },
      "source": [
        "# removing short words/ punctuation\n",
        "data[\"tweet\"]= data[\"tweet\"].apply(lambda x: \" \".join ([w for w in x.split() if len (w)>3]))\n",
        "for i in range (len(data[\"tweet\"])):\n",
        "  data[\"tweet\"][i] = re.sub(r\"(@[A-Za-z0–9_]+)|[^\\w\\s]|#|http\\S+\", \"\", data[\"tweet\"][i])"
      ],
      "execution_count": null,
      "outputs": [
        {
          "output_type": "stream",
          "name": "stderr",
          "text": [
            "/usr/local/lib/python3.7/dist-packages/ipykernel_launcher.py:4: SettingWithCopyWarning:\n",
            "\n",
            "\n",
            "A value is trying to be set on a copy of a slice from a DataFrame\n",
            "\n",
            "See the caveats in the documentation: https://pandas.pydata.org/pandas-docs/stable/user_guide/indexing.html#returning-a-view-versus-a-copy\n",
            "\n"
          ]
        }
      ]
    },
    {
      "cell_type": "code",
      "metadata": {
        "colab": {
          "base_uri": "https://localhost:8080/"
        },
        "id": "5F6Nhc79aL3D",
        "outputId": "e474e3cf-3157-4c73-cb06-c57bca076146"
      },
      "source": [
        "data[\"tweet\"]"
      ],
      "execution_count": null,
      "outputs": [
        {
          "output_type": "execute_result",
          "data": {
            "text/plain": [
              "0                                              urang baiq\n",
              "1          SAEINShaheed ZABhutto sbkehty BHUTTO HONaur...\n",
              "2                       Gudluck gudmorning KiaraTakahashi\n",
              "3           villagers scoot bob cherry Cant wait Horizons\n",
              "4        Hahaha tmhy song continue tmhy faltu khush hogay\n",
              "                              ...                        \n",
              "5012                                          corona nahe\n",
              "5013                           191 85  Chắc vậy thối thật\n",
              "5014                     50shadesofzooya   Insta krti abi\n",
              "5015                                                 unch\n",
              "5016                                   8 MashaAllah stail\n",
              "Name: tweet, Length: 5017, dtype: object"
            ]
          },
          "metadata": {},
          "execution_count": 154
        }
      ]
    },
    {
      "cell_type": "code",
      "metadata": {
        "id": "YK3ItzmFCLj2"
      },
      "source": [
        "# tokenize the data\n",
        "\n",
        "def tokenize(text):\n",
        "    tokens = re.split(\"\\W+\", text)\n",
        "    return tokens\n",
        "data[\"tweet\"]= data[\"tweet\"].apply (lambda x: tokenize(x.lower()))"
      ],
      "execution_count": null,
      "outputs": []
    },
    {
      "cell_type": "code",
      "metadata": {
        "colab": {
          "base_uri": "https://localhost:8080/"
        },
        "id": "gHXCkE2NaOiy",
        "outputId": "0811f016-9c05-495b-8e4b-802ba97f2e99"
      },
      "source": [
        "data[\"tweet\"]"
      ],
      "execution_count": null,
      "outputs": [
        {
          "output_type": "execute_result",
          "data": {
            "text/plain": [
              "0                                         [, urang, baiq]\n",
              "1       [, saeinshaheed, zabhutto, sbkehty, bhutto, ho...\n",
              "2                 [, gudluck, gudmorning, kiaratakahashi]\n",
              "3       [, villagers, scoot, bob, cherry, cant, wait, ...\n",
              "4       [, hahaha, tmhy, song, continue, tmhy, faltu, ...\n",
              "                              ...                        \n",
              "5012                                     [, corona, nahe]\n",
              "5013                     [191, 85, chắc, vậy, thối, thật]\n",
              "5014                [, 50shadesofzooya, insta, krti, abi]\n",
              "5015                                             [, unch]\n",
              "5016                               [8, mashaallah, stail]\n",
              "Name: tweet, Length: 5017, dtype: object"
            ]
          },
          "metadata": {},
          "execution_count": 156
        }
      ]
    },
    {
      "cell_type": "code",
      "metadata": {
        "id": "PUxm80VLCXkL"
      },
      "source": [
        "# remove stopwords\n",
        "stop_words=set(stopwords.words(\"english\"))\n",
        "def remove_stopword(text):\n",
        "    text_nostopword= [char for char in text if char not in stop_words]\n",
        "    return text_nostopword\n",
        "\n",
        "data[\"tweet\"]= data[\"tweet\"].apply(lambda x: remove_stopword(x))"
      ],
      "execution_count": null,
      "outputs": []
    },
    {
      "cell_type": "code",
      "metadata": {
        "id": "2sAsWT2PCwaD"
      },
      "source": [
        "# stemming \n",
        "ps = nltk.stem.porter.PorterStemmer()\n",
        "def stem(tweet_no_stopword):\n",
        "   text = [ps.stem ( word) for word in tweet_no_stopword]\n",
        "   return text\n",
        "\n",
        "data[\"tweet\"]= data[\"tweet\"].apply(lambda x: stem(x))"
      ],
      "execution_count": null,
      "outputs": []
    },
    {
      "cell_type": "code",
      "metadata": {
        "colab": {
          "base_uri": "https://localhost:8080/"
        },
        "id": "PLStmqsQRYAH",
        "outputId": "8e86eb36-978a-40db-c54a-3a9d8d409a81"
      },
      "source": [
        "data.tweet"
      ],
      "execution_count": null,
      "outputs": [
        {
          "output_type": "execute_result",
          "data": {
            "text/plain": [
              "0                                         [, urang, baiq]\n",
              "1       [, saeinshahe, zabhutto, sbkehti, bhutto, hona...\n",
              "2                    [, gudluck, gudmorn, kiaratakahashi]\n",
              "3       [, villag, scoot, bob, cherri, cant, wait, hor...\n",
              "4       [, hahaha, tmhi, song, continu, tmhi, faltu, k...\n",
              "                              ...                        \n",
              "5012                                     [, corona, nahe]\n",
              "5013                     [191, 85, chắc, vậi, thối, thật]\n",
              "5014                [, 50shadesofzooya, insta, krti, abi]\n",
              "5015                                             [, unch]\n",
              "5016                               [8, mashaallah, stail]\n",
              "Name: tweet, Length: 5017, dtype: object"
            ]
          },
          "metadata": {},
          "execution_count": 159
        }
      ]
    },
    {
      "cell_type": "code",
      "metadata": {
        "colab": {
          "base_uri": "https://localhost:8080/",
          "height": 387
        },
        "id": "qAGAIyG4NEeM",
        "outputId": "79caa768-59fa-43c2-d1d5-4329aee57730"
      },
      "source": [
        "from collections import Counter\n",
        "symbols = ['.', '£', '-', '!', '(', ')', ':', ',',\"'\",']','[']\n",
        "data_set=data[\"tweet\"]\n",
        "# split() returns list of all the words in the string\n",
        "l=\"\"\n",
        "for i in range(len(data_set)):\n",
        "  l= l + str(data_set[i])\n",
        "for i in symbols:\n",
        "  l=l.replace(i,'')\n",
        "\n",
        "split_it = l.split()\n",
        "\n",
        "# Pass the split_it list to instance of Counter class.\n",
        "Counter = Counter(split_it)\n",
        "  \n",
        "# most_common() produces k frequently encountered\n",
        "# input values and their respective counts.\n",
        "most_occur = Counter.most_common(20)\n",
        "  \n",
        "print(most_occur)\n",
        "item = []\n",
        "values = []\n",
        "for i,j in most_occur:\n",
        "  item.append(i)\n",
        "  values.append(j)\n",
        "fig = plt.figure(figsize = (10, 5))\n",
        "\n",
        "# creating the bar plot\n",
        "plt.barh(item, values, color ='maroon',)\n",
        "\n",
        "plt.xlabel(\"Items\")\n",
        "plt.ylabel(\"Frequnecy\")\n",
        "plt.title(\" Top 10 of Items\")\n",
        "plt.show()"
      ],
      "execution_count": null,
      "outputs": [
        {
          "output_type": "stream",
          "name": "stdout",
          "text": [
            "[('kia', 352), ('nahi', 241), ('hai', 186), ('main', 182), ('sana', 158), ('villag', 155), ('hain', 148), ('love', 141), ('kuch', 140), ('favorit', 134), ('bhai', 129), ('tweet', 123), ('like', 109), ('baat', 102), ('raha', 99), ('kisi', 95), ('mein', 92), ('1', 92), ('hota', 91), ('sath', 88)]\n"
          ]
        },
        {
          "output_type": "display_data",
          "data": {
            "image/png": "[encoded data removed]",
            "text/plain": [
              "<Figure size 720x360 with 1 Axes>"
            ]
          },
          "metadata": {
            "needs_background": "light"
          }
        }
      ]
    },
    {
      "cell_type": "code",
      "metadata": {
        "colab": {
          "base_uri": "https://localhost:8080/"
        },
        "id": "XTByzFscqcYM",
        "outputId": "b644dad5-1e6e-4df7-a0de-17d422b6d078"
      },
      "source": [
        "from nltk import FreqDist\n",
        "\n",
        "freq_dist_pos = FreqDist(split_it).most_common(10)\n",
        "#print(freq_dist_pos.most_common(10))\n",
        "freq_dist_pos"
      ],
      "execution_count": null,
      "outputs": [
        {
          "output_type": "execute_result",
          "data": {
            "text/plain": [
              "[('kia', 352),\n",
              " ('nahi', 241),\n",
              " ('hai', 186),\n",
              " ('main', 182),\n",
              " ('sana', 158),\n",
              " ('villag', 155),\n",
              " ('hain', 148),\n",
              " ('love', 141),\n",
              " ('kuch', 140),\n",
              " ('favorit', 134)]"
            ]
          },
          "metadata": {},
          "execution_count": 161
        }
      ]
    },
    {
      "cell_type": "code",
      "metadata": {
        "colab": {
          "base_uri": "https://localhost:8080/",
          "height": 542
        },
        "id": "cdfbeXbMOsXH",
        "outputId": "e918a67c-43b9-4394-c14f-8a7ae6b8f704"
      },
      "source": [
        "fig = px.bar(x=item,y= values,text=values,color=item,width=700,title=\"most words\")\n",
        "fig.show()"
      ],
      "execution_count": null,
      "outputs": [
        {
          "output_type": "display_data",
          "data": {
            "text/html": [
              "<html>\n",
              "<head><meta charset=\"utf-8\" /></head>\n",
              "<body>\n",
              "    <div>\n",
              "            <script src=\"https://cdnjs.cloudflare.com/ajax/libs/mathjax/2.7.5/MathJax.js?config=TeX-AMS-MML_SVG\"></script><script type=\"text/javascript\">if (window.MathJax) {MathJax.Hub.Config({SVG: {font: \"STIX-Web\"}});}</script>\n",
              "                <script type=\"text/javascript\">window.PlotlyConfig = {MathJaxConfig: 'local'};</script>\n",
              "        <script src=\"https://cdn.plot.ly/plotly-latest.min.js\"></script>    \n",
              "            <div id=\"a9565e23-cb08-4c37-a962-db4071bace63\" class=\"plotly-graph-div\" style=\"height:525px; width:700px;\"></div>\n",
              "            <script type=\"text/javascript\">\n",
              "                \n",
              "                    window.PLOTLYENV=window.PLOTLYENV || {};\n",
              "                    \n",
              "                if (document.getElementById(\"a9565e23-cb08-4c37-a962-db4071bace63\")) {\n",
              "                    Plotly.newPlot(\n",
              "                        'a9565e23-cb08-4c37-a962-db4071bace63',\n",
              "                        [{\"alignmentgroup\": \"True\", \"hoverlabel\": {\"namelength\": 0}, \"hovertemplate\": \"color=kia<br>x=%{x}<br>y=%{y}<br>text=%{text}\", \"legendgroup\": \"color=kia\", \"marker\": {\"color\": \"#636efa\"}, \"name\": \"color=kia\", \"offsetgroup\": \"color=kia\", \"orientation\": \"v\", \"showlegend\": true, \"text\": [352.0], \"textposition\": \"auto\", \"type\": \"bar\", \"x\": [\"kia\"], \"xaxis\": \"x\", \"y\": [352], \"yaxis\": \"y\"}, {\"alignmentgroup\": \"True\", \"hoverlabel\": {\"namelength\": 0}, \"hovertemplate\": \"color=nahi<br>x=%{x}<br>y=%{y}<br>text=%{text}\", \"legendgroup\": \"color=nahi\", \"marker\": {\"color\": \"#EF553B\"}, \"name\": \"color=nahi\", \"offsetgroup\": \"color=nahi\", \"orientation\": \"v\", \"showlegend\": true, \"text\": [241.0], \"textposition\": \"auto\", \"type\": \"bar\", \"x\": [\"nahi\"], \"xaxis\": \"x\", \"y\": [241], \"yaxis\": \"y\"}, {\"alignmentgroup\": \"True\", \"hoverlabel\": {\"namelength\": 0}, \"hovertemplate\": \"color=hai<br>x=%{x}<br>y=%{y}<br>text=%{text}\", \"legendgroup\": \"color=hai\", \"marker\": {\"color\": \"#00cc96\"}, \"name\": \"color=hai\", \"offsetgroup\": \"color=hai\", \"orientation\": \"v\", \"showlegend\": true, \"text\": [186.0], \"textposition\": \"auto\", \"type\": \"bar\", \"x\": [\"hai\"], \"xaxis\": \"x\", \"y\": [186], \"yaxis\": \"y\"}, {\"alignmentgroup\": \"True\", \"hoverlabel\": {\"namelength\": 0}, \"hovertemplate\": \"color=main<br>x=%{x}<br>y=%{y}<br>text=%{text}\", \"legendgroup\": \"color=main\", \"marker\": {\"color\": \"#ab63fa\"}, \"name\": \"color=main\", \"offsetgroup\": \"color=main\", \"orientation\": \"v\", \"showlegend\": true, \"text\": [182.0], \"textposition\": \"auto\", \"type\": \"bar\", \"x\": [\"main\"], \"xaxis\": \"x\", \"y\": [182], \"yaxis\": \"y\"}, {\"alignmentgroup\": \"True\", \"hoverlabel\": {\"namelength\": 0}, \"hovertemplate\": \"color=sana<br>x=%{x}<br>y=%{y}<br>text=%{text}\", \"legendgroup\": \"color=sana\", \"marker\": {\"color\": \"#FFA15A\"}, \"name\": \"color=sana\", \"offsetgroup\": \"color=sana\", \"orientation\": \"v\", \"showlegend\": true, \"text\": [158.0], \"textposition\": \"auto\", \"type\": \"bar\", \"x\": [\"sana\"], \"xaxis\": \"x\", \"y\": [158], \"yaxis\": \"y\"}, {\"alignmentgroup\": \"True\", \"hoverlabel\": {\"namelength\": 0}, \"hovertemplate\": \"color=villag<br>x=%{x}<br>y=%{y}<br>text=%{text}\", \"legendgroup\": \"color=villag\", \"marker\": {\"color\": \"#19d3f3\"}, \"name\": \"color=villag\", \"offsetgroup\": \"color=villag\", \"orientation\": \"v\", \"showlegend\": true, \"text\": [155.0], \"textposition\": \"auto\", \"type\": \"bar\", \"x\": [\"villag\"], \"xaxis\": \"x\", \"y\": [155], \"yaxis\": \"y\"}, {\"alignmentgroup\": \"True\", \"hoverlabel\": {\"namelength\": 0}, \"hovertemplate\": \"color=hain<br>x=%{x}<br>y=%{y}<br>text=%{text}\", \"legendgroup\": \"color=hain\", \"marker\": {\"color\": \"#FF6692\"}, \"name\": \"color=hain\", \"offsetgroup\": \"color=hain\", \"orientation\": \"v\", \"showlegend\": true, \"text\": [148.0], \"textposition\": \"auto\", \"type\": \"bar\", \"x\": [\"hain\"], \"xaxis\": \"x\", \"y\": [148], \"yaxis\": \"y\"}, {\"alignmentgroup\": \"True\", \"hoverlabel\": {\"namelength\": 0}, \"hovertemplate\": \"color=love<br>x=%{x}<br>y=%{y}<br>text=%{text}\", \"legendgroup\": \"color=love\", \"marker\": {\"color\": \"#B6E880\"}, \"name\": \"color=love\", \"offsetgroup\": \"color=love\", \"orientation\": \"v\", \"showlegend\": true, \"text\": [141.0], \"textposition\": \"auto\", \"type\": \"bar\", \"x\": [\"love\"], \"xaxis\": \"x\", \"y\": [141], \"yaxis\": \"y\"}, {\"alignmentgroup\": \"True\", \"hoverlabel\": {\"namelength\": 0}, \"hovertemplate\": \"color=kuch<br>x=%{x}<br>y=%{y}<br>text=%{text}\", \"legendgroup\": \"color=kuch\", \"marker\": {\"color\": \"#FF97FF\"}, \"name\": \"color=kuch\", \"offsetgroup\": \"color=kuch\", \"orientation\": \"v\", \"showlegend\": true, \"text\": [140.0], \"textposition\": \"auto\", \"type\": \"bar\", \"x\": [\"kuch\"], \"xaxis\": \"x\", \"y\": [140], \"yaxis\": \"y\"}, {\"alignmentgroup\": \"True\", \"hoverlabel\": {\"namelength\": 0}, \"hovertemplate\": \"color=favorit<br>x=%{x}<br>y=%{y}<br>text=%{text}\", \"legendgroup\": \"color=favorit\", \"marker\": {\"color\": \"#FECB52\"}, \"name\": \"color=favorit\", \"offsetgroup\": \"color=favorit\", \"orientation\": \"v\", \"showlegend\": true, \"text\": [134.0], \"textposition\": \"auto\", \"type\": \"bar\", \"x\": [\"favorit\"], \"xaxis\": \"x\", \"y\": [134], \"yaxis\": \"y\"}, {\"alignmentgroup\": \"True\", \"hoverlabel\": {\"namelength\": 0}, \"hovertemplate\": \"color=bhai<br>x=%{x}<br>y=%{y}<br>text=%{text}\", \"legendgroup\": \"color=bhai\", \"marker\": {\"color\": \"#636efa\"}, \"name\": \"color=bhai\", \"offsetgroup\": \"color=bhai\", \"orientation\": \"v\", \"showlegend\": true, \"text\": [129.0], \"textposition\": \"auto\", \"type\": \"bar\", \"x\": [\"bhai\"], \"xaxis\": \"x\", \"y\": [129], \"yaxis\": \"y\"}, {\"alignmentgroup\": \"True\", \"hoverlabel\": {\"namelength\": 0}, \"hovertemplate\": \"color=tweet<br>x=%{x}<br>y=%{y}<br>text=%{text}\", \"legendgroup\": \"color=tweet\", \"marker\": {\"color\": \"#EF553B\"}, \"name\": \"color=tweet\", \"offsetgroup\": \"color=tweet\", \"orientation\": \"v\", \"showlegend\": true, \"text\": [123.0], \"textposition\": \"auto\", \"type\": \"bar\", \"x\": [\"tweet\"], \"xaxis\": \"x\", \"y\": [123], \"yaxis\": \"y\"}, {\"alignmentgroup\": \"True\", \"hoverlabel\": {\"namelength\": 0}, \"hovertemplate\": \"color=like<br>x=%{x}<br>y=%{y}<br>text=%{text}\", \"legendgroup\": \"color=like\", \"marker\": {\"color\": \"#00cc96\"}, \"name\": \"color=like\", \"offsetgroup\": \"color=like\", \"orientation\": \"v\", \"showlegend\": true, \"text\": [109.0], \"textposition\": \"auto\", \"type\": \"bar\", \"x\": [\"like\"], \"xaxis\": \"x\", \"y\": [109], \"yaxis\": \"y\"}, {\"alignmentgroup\": \"True\", \"hoverlabel\": {\"namelength\": 0}, \"hovertemplate\": \"color=baat<br>x=%{x}<br>y=%{y}<br>text=%{text}\", \"legendgroup\": \"color=baat\", \"marker\": {\"color\": \"#ab63fa\"}, \"name\": \"color=baat\", \"offsetgroup\": \"color=baat\", \"orientation\": \"v\", \"showlegend\": true, \"text\": [102.0], \"textposition\": \"auto\", \"type\": \"bar\", \"x\": [\"baat\"], \"xaxis\": \"x\", \"y\": [102], \"yaxis\": \"y\"}, {\"alignmentgroup\": \"True\", \"hoverlabel\": {\"namelength\": 0}, \"hovertemplate\": \"color=raha<br>x=%{x}<br>y=%{y}<br>text=%{text}\", \"legendgroup\": \"color=raha\", \"marker\": {\"color\": \"#FFA15A\"}, \"name\": \"color=raha\", \"offsetgroup\": \"color=raha\", \"orientation\": \"v\", \"showlegend\": true, \"text\": [99.0], \"textposition\": \"auto\", \"type\": \"bar\", \"x\": [\"raha\"], \"xaxis\": \"x\", \"y\": [99], \"yaxis\": \"y\"}, {\"alignmentgroup\": \"True\", \"hoverlabel\": {\"namelength\": 0}, \"hovertemplate\": \"color=kisi<br>x=%{x}<br>y=%{y}<br>text=%{text}\", \"legendgroup\": \"color=kisi\", \"marker\": {\"color\": \"#19d3f3\"}, \"name\": \"color=kisi\", \"offsetgroup\": \"color=kisi\", \"orientation\": \"v\", \"showlegend\": true, \"text\": [95.0], \"textposition\": \"auto\", \"type\": \"bar\", \"x\": [\"kisi\"], \"xaxis\": \"x\", \"y\": [95], \"yaxis\": \"y\"}, {\"alignmentgroup\": \"True\", \"hoverlabel\": {\"namelength\": 0}, \"hovertemplate\": \"color=mein<br>x=%{x}<br>y=%{y}<br>text=%{text}\", \"legendgroup\": \"color=mein\", \"marker\": {\"color\": \"#FF6692\"}, \"name\": \"color=mein\", \"offsetgroup\": \"color=mein\", \"orientation\": \"v\", \"showlegend\": true, \"text\": [92.0], \"textposition\": \"auto\", \"type\": \"bar\", \"x\": [\"mein\"], \"xaxis\": \"x\", \"y\": [92], \"yaxis\": \"y\"}, {\"alignmentgroup\": \"True\", \"hoverlabel\": {\"namelength\": 0}, \"hovertemplate\": \"color=1<br>x=%{x}<br>y=%{y}<br>text=%{text}\", \"legendgroup\": \"color=1\", \"marker\": {\"color\": \"#B6E880\"}, \"name\": \"color=1\", \"offsetgroup\": \"color=1\", \"orientation\": \"v\", \"showlegend\": true, \"text\": [92.0], \"textposition\": \"auto\", \"type\": \"bar\", \"x\": [\"1\"], \"xaxis\": \"x\", \"y\": [92], \"yaxis\": \"y\"}, {\"alignmentgroup\": \"True\", \"hoverlabel\": {\"namelength\": 0}, \"hovertemplate\": \"color=hota<br>x=%{x}<br>y=%{y}<br>text=%{text}\", \"legendgroup\": \"color=hota\", \"marker\": {\"color\": \"#FF97FF\"}, \"name\": \"color=hota\", \"offsetgroup\": \"color=hota\", \"orientation\": \"v\", \"showlegend\": true, \"text\": [91.0], \"textposition\": \"auto\", \"type\": \"bar\", \"x\": [\"hota\"], \"xaxis\": \"x\", \"y\": [91], \"yaxis\": \"y\"}, {\"alignmentgroup\": \"True\", \"hoverlabel\": {\"namelength\": 0}, \"hovertemplate\": \"color=sath<br>x=%{x}<br>y=%{y}<br>text=%{text}\", \"legendgroup\": \"color=sath\", \"marker\": {\"color\": \"#FECB52\"}, \"name\": \"color=sath\", \"offsetgroup\": \"color=sath\", \"orientation\": \"v\", \"showlegend\": true, \"text\": [88.0], \"textposition\": \"auto\", \"type\": \"bar\", \"x\": [\"sath\"], \"xaxis\": \"x\", \"y\": [88], \"yaxis\": \"y\"}],\n",
              "                        {\"barmode\": \"relative\", \"legend\": {\"tracegroupgap\": 0}, \"template\": {\"data\": {\"bar\": [{\"error_x\": {\"color\": \"#2a3f5f\"}, \"error_y\": {\"color\": \"#2a3f5f\"}, \"marker\": {\"line\": {\"color\": \"#E5ECF6\", \"width\": 0.5}}, \"type\": \"bar\"}], \"barpolar\": [{\"marker\": {\"line\": {\"color\": \"#E5ECF6\", \"width\": 0.5}}, \"type\": \"barpolar\"}], \"carpet\": [{\"aaxis\": {\"endlinecolor\": \"#2a3f5f\", \"gridcolor\": \"white\", \"linecolor\": \"white\", \"minorgridcolor\": \"white\", \"startlinecolor\": \"#2a3f5f\"}, \"baxis\": {\"endlinecolor\": \"#2a3f5f\", \"gridcolor\": \"white\", \"linecolor\": \"white\", \"minorgridcolor\": \"white\", \"startlinecolor\": \"#2a3f5f\"}, \"type\": \"carpet\"}], \"choropleth\": [{\"colorbar\": {\"outlinewidth\": 0, \"ticks\": \"\"}, \"type\": \"choropleth\"}], \"contour\": [{\"colorbar\": {\"outlinewidth\": 0, \"ticks\": \"\"}, \"colorscale\": [[0.0, \"#0d0887\"], [0.1111111111111111, \"#46039f\"], [0.2222222222222222, \"#7201a8\"], [0.3333333333333333, \"#9c179e\"], [0.4444444444444444, \"#bd3786\"], [0.5555555555555556, \"#d8576b\"], [0.6666666666666666, \"#ed7953\"], [0.7777777777777778, \"#fb9f3a\"], [0.8888888888888888, \"#fdca26\"], [1.0, \"#f0f921\"]], \"type\": \"contour\"}], \"contourcarpet\": [{\"colorbar\": {\"outlinewidth\": 0, \"ticks\": \"\"}, \"type\": \"contourcarpet\"}], \"heatmap\": [{\"colorbar\": {\"outlinewidth\": 0, \"ticks\": \"\"}, \"colorscale\": [[0.0, \"#0d0887\"], [0.1111111111111111, \"#46039f\"], [0.2222222222222222, \"#7201a8\"], [0.3333333333333333, \"#9c179e\"], [0.4444444444444444, \"#bd3786\"], [0.5555555555555556, \"#d8576b\"], [0.6666666666666666, \"#ed7953\"], [0.7777777777777778, \"#fb9f3a\"], [0.8888888888888888, \"#fdca26\"], [1.0, \"#f0f921\"]], \"type\": \"heatmap\"}], \"heatmapgl\": [{\"colorbar\": {\"outlinewidth\": 0, \"ticks\": \"\"}, \"colorscale\": [[0.0, \"#0d0887\"], [0.1111111111111111, \"#46039f\"], [0.2222222222222222, \"#7201a8\"], [0.3333333333333333, \"#9c179e\"], [0.4444444444444444, \"#bd3786\"], [0.5555555555555556, \"#d8576b\"], [0.6666666666666666, \"#ed7953\"], [0.7777777777777778, \"#fb9f3a\"], [0.8888888888888888, \"#fdca26\"], [1.0, \"#f0f921\"]], \"type\": \"heatmapgl\"}], \"histogram\": [{\"marker\": {\"colorbar\": {\"outlinewidth\": 0, \"ticks\": \"\"}}, \"type\": \"histogram\"}], \"histogram2d\": [{\"colorbar\": {\"outlinewidth\": 0, \"ticks\": \"\"}, \"colorscale\": [[0.0, \"#0d0887\"], [0.1111111111111111, \"#46039f\"], [0.2222222222222222, \"#7201a8\"], [0.3333333333333333, \"#9c179e\"], [0.4444444444444444, \"#bd3786\"], [0.5555555555555556, \"#d8576b\"], [0.6666666666666666, \"#ed7953\"], [0.7777777777777778, \"#fb9f3a\"], [0.8888888888888888, \"#fdca26\"], [1.0, \"#f0f921\"]], \"type\": \"histogram2d\"}], \"histogram2dcontour\": [{\"colorbar\": {\"outlinewidth\": 0, \"ticks\": \"\"}, \"colorscale\": [[0.0, \"#0d0887\"], [0.1111111111111111, \"#46039f\"], [0.2222222222222222, \"#7201a8\"], [0.3333333333333333, \"#9c179e\"], [0.4444444444444444, \"#bd3786\"], [0.5555555555555556, \"#d8576b\"], [0.6666666666666666, \"#ed7953\"], [0.7777777777777778, \"#fb9f3a\"], [0.8888888888888888, \"#fdca26\"], [1.0, \"#f0f921\"]], \"type\": \"histogram2dcontour\"}], \"mesh3d\": [{\"colorbar\": {\"outlinewidth\": 0, \"ticks\": \"\"}, \"type\": \"mesh3d\"}], \"parcoords\": [{\"line\": {\"colorbar\": {\"outlinewidth\": 0, \"ticks\": \"\"}}, \"type\": \"parcoords\"}], \"pie\": [{\"automargin\": true, \"type\": \"pie\"}], \"scatter\": [{\"marker\": {\"colorbar\": {\"outlinewidth\": 0, \"ticks\": \"\"}}, \"type\": \"scatter\"}], \"scatter3d\": [{\"line\": {\"colorbar\": {\"outlinewidth\": 0, \"ticks\": \"\"}}, \"marker\": {\"colorbar\": {\"outlinewidth\": 0, \"ticks\": \"\"}}, \"type\": \"scatter3d\"}], \"scattercarpet\": [{\"marker\": {\"colorbar\": {\"outlinewidth\": 0, \"ticks\": \"\"}}, \"type\": \"scattercarpet\"}], \"scattergeo\": [{\"marker\": {\"colorbar\": {\"outlinewidth\": 0, \"ticks\": \"\"}}, \"type\": \"scattergeo\"}], \"scattergl\": [{\"marker\": {\"colorbar\": {\"outlinewidth\": 0, \"ticks\": \"\"}}, \"type\": \"scattergl\"}], \"scattermapbox\": [{\"marker\": {\"colorbar\": {\"outlinewidth\": 0, \"ticks\": \"\"}}, \"type\": \"scattermapbox\"}], \"scatterpolar\": [{\"marker\": {\"colorbar\": {\"outlinewidth\": 0, \"ticks\": \"\"}}, \"type\": \"scatterpolar\"}], \"scatterpolargl\": [{\"marker\": {\"colorbar\": {\"outlinewidth\": 0, \"ticks\": \"\"}}, \"type\": \"scatterpolargl\"}], \"scatterternary\": [{\"marker\": {\"colorbar\": {\"outlinewidth\": 0, \"ticks\": \"\"}}, \"type\": \"scatterternary\"}], \"surface\": [{\"colorbar\": {\"outlinewidth\": 0, \"ticks\": \"\"}, \"colorscale\": [[0.0, \"#0d0887\"], [0.1111111111111111, \"#46039f\"], [0.2222222222222222, \"#7201a8\"], [0.3333333333333333, \"#9c179e\"], [0.4444444444444444, \"#bd3786\"], [0.5555555555555556, \"#d8576b\"], [0.6666666666666666, \"#ed7953\"], [0.7777777777777778, \"#fb9f3a\"], [0.8888888888888888, \"#fdca26\"], [1.0, \"#f0f921\"]], \"type\": \"surface\"}], \"table\": [{\"cells\": {\"fill\": {\"color\": \"#EBF0F8\"}, \"line\": {\"color\": \"white\"}}, \"header\": {\"fill\": {\"color\": \"#C8D4E3\"}, \"line\": {\"color\": \"white\"}}, \"type\": \"table\"}]}, \"layout\": {\"annotationdefaults\": {\"arrowcolor\": \"#2a3f5f\", \"arrowhead\": 0, \"arrowwidth\": 1}, \"coloraxis\": {\"colorbar\": {\"outlinewidth\": 0, \"ticks\": \"\"}}, \"colorscale\": {\"diverging\": [[0, \"#8e0152\"], [0.1, \"#c51b7d\"], [0.2, \"#de77ae\"], [0.3, \"#f1b6da\"], [0.4, \"#fde0ef\"], [0.5, \"#f7f7f7\"], [0.6, \"#e6f5d0\"], [0.7, \"#b8e186\"], [0.8, \"#7fbc41\"], [0.9, \"#4d9221\"], [1, \"#276419\"]], \"sequential\": [[0.0, \"#0d0887\"], [0.1111111111111111, \"#46039f\"], [0.2222222222222222, \"#7201a8\"], [0.3333333333333333, \"#9c179e\"], [0.4444444444444444, \"#bd3786\"], [0.5555555555555556, \"#d8576b\"], [0.6666666666666666, \"#ed7953\"], [0.7777777777777778, \"#fb9f3a\"], [0.8888888888888888, \"#fdca26\"], [1.0, \"#f0f921\"]], \"sequentialminus\": [[0.0, \"#0d0887\"], [0.1111111111111111, \"#46039f\"], [0.2222222222222222, \"#7201a8\"], [0.3333333333333333, \"#9c179e\"], [0.4444444444444444, \"#bd3786\"], [0.5555555555555556, \"#d8576b\"], [0.6666666666666666, \"#ed7953\"], [0.7777777777777778, \"#fb9f3a\"], [0.8888888888888888, \"#fdca26\"], [1.0, \"#f0f921\"]]}, \"colorway\": [\"#636efa\", \"#EF553B\", \"#00cc96\", \"#ab63fa\", \"#FFA15A\", \"#19d3f3\", \"#FF6692\", \"#B6E880\", \"#FF97FF\", \"#FECB52\"], \"font\": {\"color\": \"#2a3f5f\"}, \"geo\": {\"bgcolor\": \"white\", \"lakecolor\": \"white\", \"landcolor\": \"#E5ECF6\", \"showlakes\": true, \"showland\": true, \"subunitcolor\": \"white\"}, \"hoverlabel\": {\"align\": \"left\"}, \"hovermode\": \"closest\", \"mapbox\": {\"style\": \"light\"}, \"paper_bgcolor\": \"white\", \"plot_bgcolor\": \"#E5ECF6\", \"polar\": {\"angularaxis\": {\"gridcolor\": \"white\", \"linecolor\": \"white\", \"ticks\": \"\"}, \"bgcolor\": \"#E5ECF6\", \"radialaxis\": {\"gridcolor\": \"white\", \"linecolor\": \"white\", \"ticks\": \"\"}}, \"scene\": {\"xaxis\": {\"backgroundcolor\": \"#E5ECF6\", \"gridcolor\": \"white\", \"gridwidth\": 2, \"linecolor\": \"white\", \"showbackground\": true, \"ticks\": \"\", \"zerolinecolor\": \"white\"}, \"yaxis\": {\"backgroundcolor\": \"#E5ECF6\", \"gridcolor\": \"white\", \"gridwidth\": 2, \"linecolor\": \"white\", \"showbackground\": true, \"ticks\": \"\", \"zerolinecolor\": \"white\"}, \"zaxis\": {\"backgroundcolor\": \"#E5ECF6\", \"gridcolor\": \"white\", \"gridwidth\": 2, \"linecolor\": \"white\", \"showbackground\": true, \"ticks\": \"\", \"zerolinecolor\": \"white\"}}, \"shapedefaults\": {\"line\": {\"color\": \"#2a3f5f\"}}, \"ternary\": {\"aaxis\": {\"gridcolor\": \"white\", \"linecolor\": \"white\", \"ticks\": \"\"}, \"baxis\": {\"gridcolor\": \"white\", \"linecolor\": \"white\", \"ticks\": \"\"}, \"bgcolor\": \"#E5ECF6\", \"caxis\": {\"gridcolor\": \"white\", \"linecolor\": \"white\", \"ticks\": \"\"}}, \"title\": {\"x\": 0.05}, \"xaxis\": {\"automargin\": true, \"gridcolor\": \"white\", \"linecolor\": \"white\", \"ticks\": \"\", \"title\": {\"standoff\": 15}, \"zerolinecolor\": \"white\", \"zerolinewidth\": 2}, \"yaxis\": {\"automargin\": true, \"gridcolor\": \"white\", \"linecolor\": \"white\", \"ticks\": \"\", \"title\": {\"standoff\": 15}, \"zerolinecolor\": \"white\", \"zerolinewidth\": 2}}}, \"title\": {\"text\": \"most words\"}, \"width\": 700, \"xaxis\": {\"anchor\": \"y\", \"domain\": [0.0, 1.0], \"title\": {\"text\": \"x\"}}, \"yaxis\": {\"anchor\": \"x\", \"domain\": [0.0, 1.0], \"title\": {\"text\": \"y\"}}},\n",
              "                        {\"responsive\": true}\n",
              "                    ).then(function(){\n",
              "                            \n",
              "var gd = document.getElementById('a9565e23-cb08-4c37-a962-db4071bace63');\n",
              "var x = new MutationObserver(function (mutations, observer) {{\n",
              "        var display = window.getComputedStyle(gd).display;\n",
              "        if (!display || display === 'none') {{\n",
              "            console.log([gd, 'removed!']);\n",
              "            Plotly.purge(gd);\n",
              "            observer.disconnect();\n",
              "        }}\n",
              "}});\n",
              "\n",
              "// Listen for the removal of the full notebook cells\n",
              "var notebookContainer = gd.closest('#notebook-container');\n",
              "if (notebookContainer) {{\n",
              "    x.observe(notebookContainer, {childList: true});\n",
              "}}\n",
              "\n",
              "// Listen for the clearing of the current output cell\n",
              "var outputEl = gd.closest('.output');\n",
              "if (outputEl) {{\n",
              "    x.observe(outputEl, {childList: true});\n",
              "}}\n",
              "\n",
              "                        })\n",
              "                };\n",
              "                \n",
              "            </script>\n",
              "        </div>\n",
              "</body>\n",
              "</html>"
            ]
          },
          "metadata": {}
        }
      ]
    },
    {
      "cell_type": "markdown",
      "metadata": {
        "id": "R4k_PCuuwrZN"
      },
      "source": [
        "**Sentiment analysis**"
      ]
    },
    {
      "cell_type": "code",
      "metadata": {
        "colab": {
          "base_uri": "https://localhost:8080/"
        },
        "id": "7_Wl1JSFUlPN",
        "outputId": "f1d0ab95-b8a1-4ea7-eb44-3409a5f2cf6e"
      },
      "source": [
        "!python -m textblob.download_corpora\n",
        "from textblob import TextBlob"
      ],
      "execution_count": null,
      "outputs": [
        {
          "output_type": "stream",
          "name": "stdout",
          "text": [
            "[nltk_data] Downloading package brown to /root/nltk_data...\n",
            "[nltk_data]   Package brown is already up-to-date!\n",
            "[nltk_data] Downloading package punkt to /root/nltk_data...\n",
            "[nltk_data]   Package punkt is already up-to-date!\n",
            "[nltk_data] Downloading package wordnet to /root/nltk_data...\n",
            "[nltk_data]   Package wordnet is already up-to-date!\n",
            "[nltk_data] Downloading package averaged_perceptron_tagger to\n",
            "[nltk_data]     /root/nltk_data...\n",
            "[nltk_data]   Package averaged_perceptron_tagger is already up-to-\n",
            "[nltk_data]       date!\n",
            "[nltk_data] Downloading package conll2000 to /root/nltk_data...\n",
            "[nltk_data]   Package conll2000 is already up-to-date!\n",
            "[nltk_data] Downloading package movie_reviews to /root/nltk_data...\n",
            "[nltk_data]   Package movie_reviews is already up-to-date!\n",
            "Finished.\n"
          ]
        }
      ]
    },
    {
      "cell_type": "code",
      "metadata": {
        "id": "tHpEIMUysg7-"
      },
      "source": [
        "def get_tweet_sentiment(tweet):\n",
        "        '''\n",
        "        Utility function to classify sentiment of passed tweet\n",
        "        using textblob's sentiment method\n",
        "        '''\n",
        "        # create TextBlob object of passed tweet text\n",
        "        analysis = TextBlob(tweet)\n",
        "        # set sentiment\n",
        "        if analysis.sentiment.polarity > 0:\n",
        "            return 'positive'\n",
        "        elif analysis.sentiment.polarity == 0:\n",
        "            return 'neutral'\n",
        "        else:\n",
        "            return 'negative'\n",
        "  "
      ],
      "execution_count": null,
      "outputs": []
    },
    {
      "cell_type": "code",
      "metadata": {
        "id": "NN4Lz4uptVSJ"
      },
      "source": [
        "ss=[]\n",
        "for i in range(len(data_set)):\n",
        "  ss.append(get_tweet_sentiment(str(data_set.iloc[i])))"
      ],
      "execution_count": null,
      "outputs": []
    },
    {
      "cell_type": "code",
      "metadata": {
        "colab": {
          "base_uri": "https://localhost:8080/",
          "height": 337
        },
        "id": "CaZ7k2N5ui8r",
        "outputId": "d686c386-bb22-468d-a763-0c72a617490f"
      },
      "source": [
        "Counter_sen = FreqDist(ss)\n",
        "most_sen = Counter_sen.most_common(10)\n",
        "  \n",
        "print(most_sen)\n",
        "item_s = []\n",
        "values_s = []\n",
        "for i,j in most_sen:\n",
        "  item_s.append(i)\n",
        "  values_s.append(j)\n",
        "fig = plt.figure(figsize = (10, 5))\n",
        "\n",
        "# creating the bar plot\n",
        "plt.barh(item_s, values_s, color ='orange',)\n",
        "plt.show()"
      ],
      "execution_count": null,
      "outputs": [
        {
          "output_type": "stream",
          "name": "stdout",
          "text": [
            "[('neutral', 3979), ('positive', 769), ('negative', 269)]\n"
          ]
        },
        {
          "output_type": "display_data",
          "data": {
            "image/png": "[encoded data removed]",
            "text/plain": [
              "<Figure size 720x360 with 1 Axes>"
            ]
          },
          "metadata": {
            "needs_background": "light"
          }
        }
      ]
    },
    {
      "cell_type": "markdown",
      "metadata": {
        "id": "0ox-7nkCtuwq"
      },
      "source": [
        "**Geo Plot**"
      ]
    },
    {
      "cell_type": "code",
      "metadata": {
        "id": "vIRozf-TtupJ"
      },
      "source": [
        "# Required packages\n",
        "import pandas as pd\n",
        "#import chart_studio.plotly as py\n",
        "import plotly.offline as po\n",
        "import plotly.graph_objs as pg\n",
        "import matplotlib.pyplot as plt\n",
        "%matplotlib inline"
      ],
      "execution_count": null,
      "outputs": []
    },
    {
      "cell_type": "code",
      "metadata": {
        "id": "hDSoiGwIuCuO"
      },
      "source": [
        "\n",
        "data = dict(type = 'choropleth', \n",
        "            locations = ['AL', 'AK', 'AR', 'CA'], \n",
        "            locationmode = 'USA-states', \n",
        "            z = [1,2,30,40,50], \n",
        "            text = ['alabama', 'alaska', 'arizona', 'pugger', 'california'])"
      ],
      "execution_count": null,
      "outputs": []
    },
    {
      "cell_type": "code",
      "metadata": {
        "id": "gcZaaKxmxipv"
      },
      "source": [
        "\n",
        "layout = dict(geo = {'scope':'usa'})"
      ],
      "execution_count": null,
      "outputs": []
    },
    {
      "cell_type": "code",
      "metadata": {
        "colab": {
          "base_uri": "https://localhost:8080/",
          "height": 542
        },
        "id": "ICUEm9lXucCI",
        "outputId": "4daa93ba-64b8-40c9-b6f7-d1fd87c95671"
      },
      "source": [
        "x = pg.Figure(data = [data] , \n",
        "              layout = layout)\n",
        "po.iplot(x)"
      ],
      "execution_count": null,
      "outputs": [
        {
          "output_type": "display_data",
          "data": {
            "text/html": [
              "<html>\n",
              "<head><meta charset=\"utf-8\" /></head>\n",
              "<body>\n",
              "    <div>\n",
              "            <script src=\"https://cdnjs.cloudflare.com/ajax/libs/mathjax/2.7.5/MathJax.js?config=TeX-AMS-MML_SVG\"></script><script type=\"text/javascript\">if (window.MathJax) {MathJax.Hub.Config({SVG: {font: \"STIX-Web\"}});}</script>\n",
              "                <script type=\"text/javascript\">window.PlotlyConfig = {MathJaxConfig: 'local'};</script>\n",
              "        <script src=\"https://cdn.plot.ly/plotly-latest.min.js\"></script>    \n",
              "            <div id=\"65cfd7ab-74b2-45a1-ac6d-594d94596fe5\" class=\"plotly-graph-div\" style=\"height:525px; width:100%;\"></div>\n",
              "            <script type=\"text/javascript\">\n",
              "                \n",
              "                    window.PLOTLYENV=window.PLOTLYENV || {};\n",
              "                    \n",
              "                if (document.getElementById(\"65cfd7ab-74b2-45a1-ac6d-594d94596fe5\")) {\n",
              "                    Plotly.newPlot(\n",
              "                        '65cfd7ab-74b2-45a1-ac6d-594d94596fe5',\n",
              "                        [{\"locationmode\": \"USA-states\", \"locations\": [\"AL\", \"AK\", \"AR\", \"CA\"], \"text\": [\"alabama\", \"alaska\", \"arizona\", \"pugger\", \"california\"], \"type\": \"choropleth\", \"z\": [1, 2, 30, 40, 50]}],\n",
              "                        {\"geo\": {\"scope\": \"usa\"}, \"template\": {\"data\": {\"bar\": [{\"error_x\": {\"color\": \"#2a3f5f\"}, \"error_y\": {\"color\": \"#2a3f5f\"}, \"marker\": {\"line\": {\"color\": \"#E5ECF6\", \"width\": 0.5}}, \"type\": \"bar\"}], \"barpolar\": [{\"marker\": {\"line\": {\"color\": \"#E5ECF6\", \"width\": 0.5}}, \"type\": \"barpolar\"}], \"carpet\": [{\"aaxis\": {\"endlinecolor\": \"#2a3f5f\", \"gridcolor\": \"white\", \"linecolor\": \"white\", \"minorgridcolor\": \"white\", \"startlinecolor\": \"#2a3f5f\"}, \"baxis\": {\"endlinecolor\": \"#2a3f5f\", \"gridcolor\": \"white\", \"linecolor\": \"white\", \"minorgridcolor\": \"white\", \"startlinecolor\": \"#2a3f5f\"}, \"type\": \"carpet\"}], \"choropleth\": [{\"colorbar\": {\"outlinewidth\": 0, \"ticks\": \"\"}, \"type\": \"choropleth\"}], \"contour\": [{\"colorbar\": {\"outlinewidth\": 0, \"ticks\": \"\"}, \"colorscale\": [[0.0, \"#0d0887\"], [0.1111111111111111, \"#46039f\"], [0.2222222222222222, \"#7201a8\"], [0.3333333333333333, \"#9c179e\"], [0.4444444444444444, \"#bd3786\"], [0.5555555555555556, \"#d8576b\"], [0.6666666666666666, \"#ed7953\"], [0.7777777777777778, \"#fb9f3a\"], [0.8888888888888888, \"#fdca26\"], [1.0, \"#f0f921\"]], \"type\": \"contour\"}], \"contourcarpet\": [{\"colorbar\": {\"outlinewidth\": 0, \"ticks\": \"\"}, \"type\": \"contourcarpet\"}], \"heatmap\": [{\"colorbar\": {\"outlinewidth\": 0, \"ticks\": \"\"}, \"colorscale\": [[0.0, \"#0d0887\"], [0.1111111111111111, \"#46039f\"], [0.2222222222222222, \"#7201a8\"], [0.3333333333333333, \"#9c179e\"], [0.4444444444444444, \"#bd3786\"], [0.5555555555555556, \"#d8576b\"], [0.6666666666666666, \"#ed7953\"], [0.7777777777777778, \"#fb9f3a\"], [0.8888888888888888, \"#fdca26\"], [1.0, \"#f0f921\"]], \"type\": \"heatmap\"}], \"heatmapgl\": [{\"colorbar\": {\"outlinewidth\": 0, \"ticks\": \"\"}, \"colorscale\": [[0.0, \"#0d0887\"], [0.1111111111111111, \"#46039f\"], [0.2222222222222222, \"#7201a8\"], [0.3333333333333333, \"#9c179e\"], [0.4444444444444444, \"#bd3786\"], [0.5555555555555556, \"#d8576b\"], [0.6666666666666666, \"#ed7953\"], [0.7777777777777778, \"#fb9f3a\"], [0.8888888888888888, \"#fdca26\"], [1.0, \"#f0f921\"]], \"type\": \"heatmapgl\"}], \"histogram\": [{\"marker\": {\"colorbar\": {\"outlinewidth\": 0, \"ticks\": \"\"}}, \"type\": \"histogram\"}], \"histogram2d\": [{\"colorbar\": {\"outlinewidth\": 0, \"ticks\": \"\"}, \"colorscale\": [[0.0, \"#0d0887\"], [0.1111111111111111, \"#46039f\"], [0.2222222222222222, \"#7201a8\"], [0.3333333333333333, \"#9c179e\"], [0.4444444444444444, \"#bd3786\"], [0.5555555555555556, \"#d8576b\"], [0.6666666666666666, \"#ed7953\"], [0.7777777777777778, \"#fb9f3a\"], [0.8888888888888888, \"#fdca26\"], [1.0, \"#f0f921\"]], \"type\": \"histogram2d\"}], \"histogram2dcontour\": [{\"colorbar\": {\"outlinewidth\": 0, \"ticks\": \"\"}, \"colorscale\": [[0.0, \"#0d0887\"], [0.1111111111111111, \"#46039f\"], [0.2222222222222222, \"#7201a8\"], [0.3333333333333333, \"#9c179e\"], [0.4444444444444444, \"#bd3786\"], [0.5555555555555556, \"#d8576b\"], [0.6666666666666666, \"#ed7953\"], [0.7777777777777778, \"#fb9f3a\"], [0.8888888888888888, \"#fdca26\"], [1.0, \"#f0f921\"]], \"type\": \"histogram2dcontour\"}], \"mesh3d\": [{\"colorbar\": {\"outlinewidth\": 0, \"ticks\": \"\"}, \"type\": \"mesh3d\"}], \"parcoords\": [{\"line\": {\"colorbar\": {\"outlinewidth\": 0, \"ticks\": \"\"}}, \"type\": \"parcoords\"}], \"pie\": [{\"automargin\": true, \"type\": \"pie\"}], \"scatter\": [{\"marker\": {\"colorbar\": {\"outlinewidth\": 0, \"ticks\": \"\"}}, \"type\": \"scatter\"}], \"scatter3d\": [{\"line\": {\"colorbar\": {\"outlinewidth\": 0, \"ticks\": \"\"}}, \"marker\": {\"colorbar\": {\"outlinewidth\": 0, \"ticks\": \"\"}}, \"type\": \"scatter3d\"}], \"scattercarpet\": [{\"marker\": {\"colorbar\": {\"outlinewidth\": 0, \"ticks\": \"\"}}, \"type\": \"scattercarpet\"}], \"scattergeo\": [{\"marker\": {\"colorbar\": {\"outlinewidth\": 0, \"ticks\": \"\"}}, \"type\": \"scattergeo\"}], \"scattergl\": [{\"marker\": {\"colorbar\": {\"outlinewidth\": 0, \"ticks\": \"\"}}, \"type\": \"scattergl\"}], \"scattermapbox\": [{\"marker\": {\"colorbar\": {\"outlinewidth\": 0, \"ticks\": \"\"}}, \"type\": \"scattermapbox\"}], \"scatterpolar\": [{\"marker\": {\"colorbar\": {\"outlinewidth\": 0, \"ticks\": \"\"}}, \"type\": \"scatterpolar\"}], \"scatterpolargl\": [{\"marker\": {\"colorbar\": {\"outlinewidth\": 0, \"ticks\": \"\"}}, \"type\": \"scatterpolargl\"}], \"scatterternary\": [{\"marker\": {\"colorbar\": {\"outlinewidth\": 0, \"ticks\": \"\"}}, \"type\": \"scatterternary\"}], \"surface\": [{\"colorbar\": {\"outlinewidth\": 0, \"ticks\": \"\"}, \"colorscale\": [[0.0, \"#0d0887\"], [0.1111111111111111, \"#46039f\"], [0.2222222222222222, \"#7201a8\"], [0.3333333333333333, \"#9c179e\"], [0.4444444444444444, \"#bd3786\"], [0.5555555555555556, \"#d8576b\"], [0.6666666666666666, \"#ed7953\"], [0.7777777777777778, \"#fb9f3a\"], [0.8888888888888888, \"#fdca26\"], [1.0, \"#f0f921\"]], \"type\": \"surface\"}], \"table\": [{\"cells\": {\"fill\": {\"color\": \"#EBF0F8\"}, \"line\": {\"color\": \"white\"}}, \"header\": {\"fill\": {\"color\": \"#C8D4E3\"}, \"line\": {\"color\": \"white\"}}, \"type\": \"table\"}]}, \"layout\": {\"annotationdefaults\": {\"arrowcolor\": \"#2a3f5f\", \"arrowhead\": 0, \"arrowwidth\": 1}, \"coloraxis\": {\"colorbar\": {\"outlinewidth\": 0, \"ticks\": \"\"}}, \"colorscale\": {\"diverging\": [[0, \"#8e0152\"], [0.1, \"#c51b7d\"], [0.2, \"#de77ae\"], [0.3, \"#f1b6da\"], [0.4, \"#fde0ef\"], [0.5, \"#f7f7f7\"], [0.6, \"#e6f5d0\"], [0.7, \"#b8e186\"], [0.8, \"#7fbc41\"], [0.9, \"#4d9221\"], [1, \"#276419\"]], \"sequential\": [[0.0, \"#0d0887\"], [0.1111111111111111, \"#46039f\"], [0.2222222222222222, \"#7201a8\"], [0.3333333333333333, \"#9c179e\"], [0.4444444444444444, \"#bd3786\"], [0.5555555555555556, \"#d8576b\"], [0.6666666666666666, \"#ed7953\"], [0.7777777777777778, \"#fb9f3a\"], [0.8888888888888888, \"#fdca26\"], [1.0, \"#f0f921\"]], \"sequentialminus\": [[0.0, \"#0d0887\"], [0.1111111111111111, \"#46039f\"], [0.2222222222222222, \"#7201a8\"], [0.3333333333333333, \"#9c179e\"], [0.4444444444444444, \"#bd3786\"], [0.5555555555555556, \"#d8576b\"], [0.6666666666666666, \"#ed7953\"], [0.7777777777777778, \"#fb9f3a\"], [0.8888888888888888, \"#fdca26\"], [1.0, \"#f0f921\"]]}, \"colorway\": [\"#636efa\", \"#EF553B\", \"#00cc96\", \"#ab63fa\", \"#FFA15A\", \"#19d3f3\", \"#FF6692\", \"#B6E880\", \"#FF97FF\", \"#FECB52\"], \"font\": {\"color\": \"#2a3f5f\"}, \"geo\": {\"bgcolor\": \"white\", \"lakecolor\": \"white\", \"landcolor\": \"#E5ECF6\", \"showlakes\": true, \"showland\": true, \"subunitcolor\": \"white\"}, \"hoverlabel\": {\"align\": \"left\"}, \"hovermode\": \"closest\", \"mapbox\": {\"style\": \"light\"}, \"paper_bgcolor\": \"white\", \"plot_bgcolor\": \"#E5ECF6\", \"polar\": {\"angularaxis\": {\"gridcolor\": \"white\", \"linecolor\": \"white\", \"ticks\": \"\"}, \"bgcolor\": \"#E5ECF6\", \"radialaxis\": {\"gridcolor\": \"white\", \"linecolor\": \"white\", \"ticks\": \"\"}}, \"scene\": {\"xaxis\": {\"backgroundcolor\": \"#E5ECF6\", \"gridcolor\": \"white\", \"gridwidth\": 2, \"linecolor\": \"white\", \"showbackground\": true, \"ticks\": \"\", \"zerolinecolor\": \"white\"}, \"yaxis\": {\"backgroundcolor\": \"#E5ECF6\", \"gridcolor\": \"white\", \"gridwidth\": 2, \"linecolor\": \"white\", \"showbackground\": true, \"ticks\": \"\", \"zerolinecolor\": \"white\"}, \"zaxis\": {\"backgroundcolor\": \"#E5ECF6\", \"gridcolor\": \"white\", \"gridwidth\": 2, \"linecolor\": \"white\", \"showbackground\": true, \"ticks\": \"\", \"zerolinecolor\": \"white\"}}, \"shapedefaults\": {\"line\": {\"color\": \"#2a3f5f\"}}, \"ternary\": {\"aaxis\": {\"gridcolor\": \"white\", \"linecolor\": \"white\", \"ticks\": \"\"}, \"baxis\": {\"gridcolor\": \"white\", \"linecolor\": \"white\", \"ticks\": \"\"}, \"bgcolor\": \"#E5ECF6\", \"caxis\": {\"gridcolor\": \"white\", \"linecolor\": \"white\", \"ticks\": \"\"}}, \"title\": {\"x\": 0.05}, \"xaxis\": {\"automargin\": true, \"gridcolor\": \"white\", \"linecolor\": \"white\", \"ticks\": \"\", \"title\": {\"standoff\": 15}, \"zerolinecolor\": \"white\", \"zerolinewidth\": 2}, \"yaxis\": {\"automargin\": true, \"gridcolor\": \"white\", \"linecolor\": \"white\", \"ticks\": \"\", \"title\": {\"standoff\": 15}, \"zerolinecolor\": \"white\", \"zerolinewidth\": 2}}}},\n",
              "                        {\"responsive\": true}\n",
              "                    ).then(function(){\n",
              "                            \n",
              "var gd = document.getElementById('65cfd7ab-74b2-45a1-ac6d-594d94596fe5');\n",
              "var x = new MutationObserver(function (mutations, observer) {{\n",
              "        var display = window.getComputedStyle(gd).display;\n",
              "        if (!display || display === 'none') {{\n",
              "            console.log([gd, 'removed!']);\n",
              "            Plotly.purge(gd);\n",
              "            observer.disconnect();\n",
              "        }}\n",
              "}});\n",
              "\n",
              "// Listen for the removal of the full notebook cells\n",
              "var notebookContainer = gd.closest('#notebook-container');\n",
              "if (notebookContainer) {{\n",
              "    x.observe(notebookContainer, {childList: true});\n",
              "}}\n",
              "\n",
              "// Listen for the clearing of the current output cell\n",
              "var outputEl = gd.closest('.output');\n",
              "if (outputEl) {{\n",
              "    x.observe(outputEl, {childList: true});\n",
              "}}\n",
              "\n",
              "                        })\n",
              "                };\n",
              "                \n",
              "            </script>\n",
              "        </div>\n",
              "</body>\n",
              "</html>"
            ]
          },
          "metadata": {}
        }
      ]
    }
  ]
}