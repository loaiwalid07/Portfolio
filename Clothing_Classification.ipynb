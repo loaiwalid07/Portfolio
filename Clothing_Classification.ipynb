{
  "nbformat": 4,
  "nbformat_minor": 0,
  "metadata": {
    "colab": {
      "name": "Clothing Classification.ipynb",
      "provenance": [],
      "collapsed_sections": [],
      "authorship_tag": "ABX9TyM3EbtB3z2sgx2OzuXSC5kY",
      "include_colab_link": true
    },
    "kernelspec": {
      "name": "python3",
      "display_name": "Python 3"
    },
    "language_info": {
      "name": "python"
    },
    "accelerator": "GPU",
    "gpuClass": "standard"
  },
  "cells": [
    {
      "cell_type": "markdown",
      "metadata": {
        "id": "view-in-github",
        "colab_type": "text"
      },
      "source": [
        "<a href=\"https://colab.research.google.com/github/loaiwalid07/main/blob/main/Clothing_Classification.ipynb\" target=\"_parent\"><img src=\"https://colab.research.google.com/assets/colab-badge.svg\" alt=\"Open In Colab\"/></a>"
      ]
    },
    {
      "cell_type": "markdown",
      "source": [
        "# **Clothing Classification**\n",
        "\n",
        "**By: Loai Nazeer**"
      ],
      "metadata": {
        "id": "ONkGFmnvNrxX"
      }
    },
    {
      "cell_type": "markdown",
      "source": [
        "**Import dependenicies**"
      ],
      "metadata": {
        "id": "noROcDMLOCd5"
      }
    },
    {
      "cell_type": "code",
      "source": [
        "!pip -q install tensorflow_datasets\n",
        "print(\"Done Installing\")"
      ],
      "metadata": {
        "colab": {
          "base_uri": "https://localhost:8080/"
        },
        "id": "jzRpishiOZoQ",
        "outputId": "bacc0674-478e-4932-f196-d561d1976c33"
      },
      "execution_count": 2,
      "outputs": [
        {
          "output_type": "stream",
          "name": "stdout",
          "text": [
            "Done Installing\n"
          ]
        }
      ]
    },
    {
      "cell_type": "code",
      "execution_count": 3,
      "metadata": {
        "id": "oJpv1oO7FJ03"
      },
      "outputs": [],
      "source": [
        "#Import dependenicies\n",
        "import tensorflow as tf\n",
        "import tensorflow_datasets as tfds\n",
        "import math\n",
        "import pandas as pd\n",
        "import numpy as np\n",
        "import matplotlib.pyplot as plt\n",
        "import logging"
      ]
    },
    {
      "cell_type": "markdown",
      "source": [
        "# Donwload the dataset (Fashion MNIST)"
      ],
      "metadata": {
        "id": "ClhUvKALQ4ZQ"
      }
    },
    {
      "cell_type": "code",
      "source": [
        "#import the dataset which is Fashion MNIST\n",
        "\n",
        "dataset,metadata = tfds.load('fashion_mnist',as_supervised=True,with_info=True)\n",
        "train_data , test_data = dataset['train'],dataset['test']"
      ],
      "metadata": {
        "id": "TTRB6VciO73e"
      },
      "execution_count": 4,
      "outputs": []
    },
    {
      "cell_type": "markdown",
      "source": [
        "The images are 28  28 arrays, with pixel values in the range [0, 255]. The labels are an array of integers, in the range [0, 9]. These correspond to the class of clothing the image represents:\n",
        "_______________\n",
        "| Label |\tClass |\n",
        "| --- | --- |\n",
        "| 0 |\tT-shirt/top |\n",
        "|  |  |\n",
        "| 1\t| Trouser |\n",
        "|  |  |\n",
        "| 2 |\tPullover |\n",
        "|  |  |\n",
        "| 3\t| Dress |\n",
        "|  |  |\n",
        "| 4\t| Coat |\n",
        "|  |  |\n",
        "| 5\t| Sandal |\n",
        "|  |  |\n",
        "| 6\t| Shirt |\n",
        "|  |  |\n",
        "| 7\t| Sneaker |\n",
        "|  |  |\n",
        "| 8\t| Bag |\n",
        "|  |  |\n",
        "| 9\t| Ankle boot |"
      ],
      "metadata": {
        "id": "5V4J49kpRAcQ"
      }
    },
    {
      "cell_type": "code",
      "source": [
        "class_name = metadata.features['label'].names\n",
        "print(\"Class names : \",class_name)"
      ],
      "metadata": {
        "colab": {
          "base_uri": "https://localhost:8080/"
        },
        "id": "qdZhKDv5Q05y",
        "outputId": "8c102f27-8458-4110-d9d7-f2a92da806d9"
      },
      "execution_count": 5,
      "outputs": [
        {
          "output_type": "stream",
          "name": "stdout",
          "text": [
            "Class names :  ['T-shirt/top', 'Trouser', 'Pullover', 'Dress', 'Coat', 'Sandal', 'Shirt', 'Sneaker', 'Bag', 'Ankle boot']\n"
          ]
        }
      ]
    },
    {
      "cell_type": "markdown",
      "source": [
        "# Explore the data"
      ],
      "metadata": {
        "id": "jJygZEzlToCV"
      }
    },
    {
      "cell_type": "code",
      "source": [
        "num_train =  metadata.splits['train'].num_examples\n",
        "num_test =  metadata.splits['test'].num_examples\n",
        "print(\"Count of the train dataset is : \",num_train)\n",
        "print(\"Count of the test dataset is : \",num_test)"
      ],
      "metadata": {
        "colab": {
          "base_uri": "https://localhost:8080/"
        },
        "id": "8PEnrAUlTk1p",
        "outputId": "1c10b880-3e90-4c80-b591-964a1301595b"
      },
      "execution_count": 6,
      "outputs": [
        {
          "output_type": "stream",
          "name": "stdout",
          "text": [
            "Count of the train dataset is :  60000\n",
            "Count of the test dataset is :  10000\n"
          ]
        }
      ]
    },
    {
      "cell_type": "markdown",
      "source": [
        "# Preprocessing the data"
      ],
      "metadata": {
        "id": "C3hO-yNJUP9v"
      }
    },
    {
      "cell_type": "code",
      "source": [
        "#Normlize the data\n",
        "def norm (images,labels):\n",
        "  images = tf.cast(images,tf.float32)\n",
        "  images /= 255\n",
        "  return images,labels"
      ],
      "metadata": {
        "id": "EVqjBfxlUVOU"
      },
      "execution_count": 7,
      "outputs": []
    },
    {
      "cell_type": "code",
      "source": [
        "from re import T\n",
        "#Apply the norm function on tarin and test data\n",
        "\n",
        "train_data = train_data.map(norm)\n",
        "test_data = test_data.map(norm)\n",
        "\n",
        "#cash the dataset\n",
        "train_data = train_data.cache()\n",
        "test_data = test_data.cache()"
      ],
      "metadata": {
        "id": "HU-8BSzGUxOO"
      },
      "execution_count": 8,
      "outputs": []
    },
    {
      "cell_type": "code",
      "source": [
        "train_data.element_spec[0]"
      ],
      "metadata": {
        "colab": {
          "base_uri": "https://localhost:8080/"
        },
        "id": "KmRb7RXQV2lW",
        "outputId": "0ca2fa80-1835-4e96-a57f-55e3e911648f"
      },
      "execution_count": 9,
      "outputs": [
        {
          "output_type": "execute_result",
          "data": {
            "text/plain": [
              "TensorSpec(shape=(28, 28, 1), dtype=tf.float32, name=None)"
            ]
          },
          "metadata": {},
          "execution_count": 9
        }
      ]
    },
    {
      "cell_type": "code",
      "source": [
        "#plot one image of the data\n",
        "for image, label in train_data.take(1):\n",
        "  break\n",
        "image = image.numpy().reshape((28,28))\n",
        "\n",
        "# Plot the image\n",
        "plt.figure()\n",
        "plt.imshow(image, cmap=plt.cm.binary)\n",
        "plt.colorbar()\n",
        "plt.grid(False)\n",
        "plt.show()"
      ],
      "metadata": {
        "colab": {
          "base_uri": "https://localhost:8080/",
          "height": 269
        },
        "id": "JGpqgF28WNqU",
        "outputId": "8bd26a08-fc3f-479d-dd18-842fc5bfa963"
      },
      "execution_count": 10,
      "outputs": [
        {
          "output_type": "display_data",
          "data": {
            "text/plain": [
              "<Figure size 432x288 with 2 Axes>"
            ],
            "image/png": "[encoded data removed]"
          },
          "metadata": {
            "needs_background": "light"
          }
        }
      ]
    },
    {
      "cell_type": "markdown",
      "source": [
        "# Bulid the Model"
      ],
      "metadata": {
        "id": "54lOg-MZXXAU"
      }
    },
    {
      "cell_type": "code",
      "source": [
        "l0 = tf.keras.layers.Flatten(input_shape=(28,28,1))\n",
        "l1 = tf.keras.layers.Dense(128,activation=tf.nn.relu)\n",
        "l11 = tf.keras.layers.Dense(256,activation=tf.nn.relu)\n",
        "l2 = tf.keras.layers.Dense(10,activation=tf.nn.softmax)\n",
        "model = tf.keras.Sequential([l0,l1,l11,l2])"
      ],
      "metadata": {
        "id": "c3xtet3AXX2n"
      },
      "execution_count": 11,
      "outputs": []
    },
    {
      "cell_type": "markdown",
      "source": [
        "# Compile the model"
      ],
      "metadata": {
        "id": "e5OWj-BRY2Ov"
      }
    },
    {
      "cell_type": "code",
      "source": [
        "from tensorflow.python.eager.monitoring import Metric\n",
        "from tensorflow.python.ops.nn_impl import log_poisson_loss\n",
        "model.compile(optimizer='adam',\n",
        "              loss = tf.keras.losses.SparseCategoricalCrossentropy(),\n",
        "              metrics = ['accuracy'])"
      ],
      "metadata": {
        "id": "3nSZn1M2XULf"
      },
      "execution_count": 12,
      "outputs": []
    },
    {
      "cell_type": "markdown",
      "source": [
        "# Train the model\n",
        "First, we define the iteration behavior for the train dataset:\n",
        "\n",
        "Repeat forever by specifying dataset.repeat() (the epochs parameter described below limits how long we perform training).\n",
        "The dataset.shuffle(60000) randomizes the order so our model cannot learn anything from the order of the examples.\n",
        "And dataset.batch(32) tells model.fit to use batches of 32 images and labels when updating the model variables.\n",
        "Training is performed by calling the model.fit method:\n",
        "\n",
        "Feed the training data to the model using train_dataset.\n",
        "The model learns to associate images and labels.\n",
        "The epochs=5 parameter limits training to 5 full iterations of the training dataset, so a total of 5 * 60000 = 300000 examples."
      ],
      "metadata": {
        "id": "GoZ9pC_sZz8d"
      }
    },
    {
      "cell_type": "code",
      "source": [
        "BATCH_SIZE = 20\n",
        "train_data = train_data.cache().repeat().shuffle(num_train).batch(BATCH_SIZE)\n",
        "test_data = test_data.cache().batch(BATCH_SIZE)"
      ],
      "metadata": {
        "id": "kuOv9oArZ0dc"
      },
      "execution_count": 13,
      "outputs": []
    },
    {
      "cell_type": "code",
      "source": [
        "model.fit(train_data, epochs=5, steps_per_epoch=math.ceil(num_train/BATCH_SIZE))"
      ],
      "metadata": {
        "colab": {
          "base_uri": "https://localhost:8080/"
        },
        "id": "JlBFqYr7aHGq",
        "outputId": "6ad26eda-af4f-4b38-f748-9dc8153f6b0b"
      },
      "execution_count": 14,
      "outputs": [
        {
          "output_type": "stream",
          "name": "stdout",
          "text": [
            "Epoch 1/5\n",
            "3000/3000 [==============================] - 22s 3ms/step - loss: 0.4720 - accuracy: 0.8285\n",
            "Epoch 2/5\n",
            "3000/3000 [==============================] - 7s 2ms/step - loss: 0.3615 - accuracy: 0.8668\n",
            "Epoch 3/5\n",
            "3000/3000 [==============================] - 7s 2ms/step - loss: 0.3210 - accuracy: 0.8815\n",
            "Epoch 4/5\n",
            "3000/3000 [==============================] - 7s 2ms/step - loss: 0.2994 - accuracy: 0.8892\n",
            "Epoch 5/5\n",
            "3000/3000 [==============================] - 7s 2ms/step - loss: 0.2797 - accuracy: 0.8936\n"
          ]
        },
        {
          "output_type": "execute_result",
          "data": {
            "text/plain": [
              "<keras.callbacks.History at 0x7f50e21af550>"
            ]
          },
          "metadata": {},
          "execution_count": 14
        }
      ]
    },
    {
      "cell_type": "markdown",
      "source": [
        "# Evaluate the model"
      ],
      "metadata": {
        "id": "1-jHNaQ5bUc3"
      }
    },
    {
      "cell_type": "code",
      "source": [
        "test_loss , test_acuracy = model.evaluate(test_data,steps=math.ceil(num_test/32))\n",
        "print('Accuracy on test dataset : ',test_acuracy)"
      ],
      "metadata": {
        "colab": {
          "base_uri": "https://localhost:8080/"
        },
        "id": "MtOJmwQKbUQs",
        "outputId": "f09a409a-d34f-46ee-c93e-88232d635626"
      },
      "execution_count": 15,
      "outputs": [
        {
          "output_type": "stream",
          "name": "stdout",
          "text": [
            "313/313 [==============================] - 1s 4ms/step - loss: 0.3476 - accuracy: 0.8780\n",
            "Accuracy on test dataset :  0.8779552578926086\n"
          ]
        }
      ]
    },
    {
      "cell_type": "markdown",
      "source": [
        "# Make a predictions"
      ],
      "metadata": {
        "id": "Mt2y1NWYn4bI"
      }
    },
    {
      "cell_type": "code",
      "source": [
        "for test_image,test_label in test_data.take(1):\n",
        "  test_image = test_image.numpy()\n",
        "  test_label = test_label.numpy()\n",
        "  predicates = model.predict(test_image)"
      ],
      "metadata": {
        "id": "c7wBt_7bnmdW"
      },
      "execution_count": 16,
      "outputs": []
    },
    {
      "cell_type": "code",
      "source": [
        "predicates.shape"
      ],
      "metadata": {
        "colab": {
          "base_uri": "https://localhost:8080/"
        },
        "id": "t07At_1TocCs",
        "outputId": "84cec5f0-be99-460b-ac9a-d64790ff7d4a"
      },
      "execution_count": 17,
      "outputs": [
        {
          "output_type": "execute_result",
          "data": {
            "text/plain": [
              "(20, 10)"
            ]
          },
          "metadata": {},
          "execution_count": 17
        }
      ]
    },
    {
      "cell_type": "code",
      "source": [
        "predicates[0]"
      ],
      "metadata": {
        "colab": {
          "base_uri": "https://localhost:8080/"
        },
        "id": "JgxBVv3HoguV",
        "outputId": "1c2025e5-8184-442f-969f-592651938b12"
      },
      "execution_count": 18,
      "outputs": [
        {
          "output_type": "execute_result",
          "data": {
            "text/plain": [
              "array([7.7151717e-06, 3.1846410e-09, 2.7928555e-03, 1.7559782e-06,\n",
              "       9.5058429e-01, 9.3618668e-11, 4.6612415e-02, 3.3214112e-11,\n",
              "       8.5381049e-07, 7.5333046e-09], dtype=float32)"
            ]
          },
          "metadata": {},
          "execution_count": 18
        }
      ]
    },
    {
      "cell_type": "code",
      "source": [
        "np.argmax(predicates[0])"
      ],
      "metadata": {
        "colab": {
          "base_uri": "https://localhost:8080/"
        },
        "id": "lMQyaL64ol_E",
        "outputId": "6a596eb8-e741-42ac-ad06-74d53f2c5955"
      },
      "execution_count": 19,
      "outputs": [
        {
          "output_type": "execute_result",
          "data": {
            "text/plain": [
              "4"
            ]
          },
          "metadata": {},
          "execution_count": 19
        }
      ]
    },
    {
      "cell_type": "code",
      "source": [
        "test_label[0]"
      ],
      "metadata": {
        "colab": {
          "base_uri": "https://localhost:8080/"
        },
        "id": "yeYu-oRjovHL",
        "outputId": "2752d3c2-f0c4-480a-d868-6bda6872f81c"
      },
      "execution_count": 20,
      "outputs": [
        {
          "output_type": "execute_result",
          "data": {
            "text/plain": [
              "4"
            ]
          },
          "metadata": {},
          "execution_count": 20
        }
      ]
    },
    {
      "cell_type": "code",
      "source": [
        "def plot_image(i, predictions_array, true_labels, images):\n",
        "  predictions_array, true_label, img = predictions_array[i], true_labels[i], images[i]\n",
        "  plt.grid(False)\n",
        "  plt.xticks([])\n",
        "  plt.yticks([])\n",
        "  \n",
        "  plt.imshow(img[...,0], cmap=plt.cm.binary)\n",
        "\n",
        "  predicted_label = np.argmax(predictions_array)\n",
        "  if predicted_label == true_label:\n",
        "    color = 'blue'\n",
        "  else:\n",
        "    color = 'red'\n",
        "  \n",
        "  plt.xlabel(\"{} {:2.0f}% ({})\".format(class_name[predicted_label],\n",
        "                                100*np.max(predictions_array),\n",
        "                                class_name[true_label]),\n",
        "                                color=color)\n",
        "\n",
        "def plot_value_array(i, predictions_array, true_label):\n",
        "  predictions_array, true_label = predictions_array[i], true_label[i]\n",
        "  plt.grid(False)\n",
        "  plt.xticks([])\n",
        "  plt.yticks([])\n",
        "  thisplot = plt.bar(range(10), predictions_array, color=\"#777777\")\n",
        "  plt.ylim([0, 1]) \n",
        "  predicted_label = np.argmax(predictions_array)\n",
        "  \n",
        "  thisplot[predicted_label].set_color('red')\n",
        "  thisplot[true_label].set_color('blue')"
      ],
      "metadata": {
        "id": "oIdqQW6Ioyid"
      },
      "execution_count": 21,
      "outputs": []
    },
    {
      "cell_type": "code",
      "source": [
        "i = 10\n",
        "plt.figure(figsize=(6,3))\n",
        "plt.subplot(1,2,1)\n",
        "plot_image(i, predicates, test_label, test_image)\n",
        "plt.subplot(1,2,2)\n",
        "plot_value_array(i, predicates, test_label)"
      ],
      "metadata": {
        "colab": {
          "base_uri": "https://localhost:8080/",
          "height": 203
        },
        "id": "ZMJkmL55o5qf",
        "outputId": "8afb7066-a277-41f7-f5e4-2529ae070147"
      },
      "execution_count": 22,
      "outputs": [
        {
          "output_type": "display_data",
          "data": {
            "text/plain": [
              "<Figure size 432x216 with 2 Axes>"
            ],
            "image/png": "[encoded data removed]"
          },
          "metadata": {}
        }
      ]
    },
    {
      "cell_type": "code",
      "source": [
        "img = test_image[0]\n",
        "print(img.shape)"
      ],
      "metadata": {
        "colab": {
          "base_uri": "https://localhost:8080/"
        },
        "id": "CWFRBh0zphVx",
        "outputId": "81fa4875-95f4-48d6-c53f-8c9e611c061e"
      },
      "execution_count": 23,
      "outputs": [
        {
          "output_type": "stream",
          "name": "stdout",
          "text": [
            "(28, 28, 1)\n"
          ]
        }
      ]
    },
    {
      "cell_type": "code",
      "source": [
        "# make a predication for one image so we need to put it ii a list \n",
        "img = np.array([img])\n",
        "print(img.shape)"
      ],
      "metadata": {
        "colab": {
          "base_uri": "https://localhost:8080/"
        },
        "id": "YI_vJp8Lp3PH",
        "outputId": "82bef00c-036f-462b-cda1-32bc5cd739e0"
      },
      "execution_count": 24,
      "outputs": [
        {
          "output_type": "stream",
          "name": "stdout",
          "text": [
            "(1, 28, 28, 1)\n"
          ]
        }
      ]
    },
    {
      "cell_type": "code",
      "source": [
        "pred_one = model.predict(img)\n",
        "print(pred_one)"
      ],
      "metadata": {
        "colab": {
          "base_uri": "https://localhost:8080/"
        },
        "id": "6kX8GU7kqMfC",
        "outputId": "86e31729-86f0-495c-aa90-c0fea81fe57f"
      },
      "execution_count": 25,
      "outputs": [
        {
          "output_type": "stream",
          "name": "stdout",
          "text": [
            "[[7.7151717e-06 3.1846410e-09 2.7928555e-03 1.7559798e-06 9.5058429e-01\n",
            "  9.3618849e-11 4.6612393e-02 3.3214112e-11 8.5381049e-07 7.5333046e-09]]\n"
          ]
        }
      ]
    },
    {
      "cell_type": "code",
      "source": [
        "plot_value_array(0, pred_one, test_label)\n",
        "_ = plt.xticks(range(10), class_name, rotation=45)"
      ],
      "metadata": {
        "colab": {
          "base_uri": "https://localhost:8080/",
          "height": 300
        },
        "id": "E3jbEHchqcNF",
        "outputId": "61710a67-cfa4-4a98-e01a-1ac4dcfc0435"
      },
      "execution_count": 26,
      "outputs": [
        {
          "output_type": "display_data",
          "data": {
            "text/plain": [
              "<Figure size 432x288 with 1 Axes>"
            ],
            "image/png": "[encoded data removed]"
          },
          "metadata": {
            "needs_background": "light"
          }
        }
      ]
    },
    {
      "cell_type": "code",
      "source": [
        "np.argmax(pred_one[0])"
      ],
      "metadata": {
        "colab": {
          "base_uri": "https://localhost:8080/"
        },
        "id": "gnU6fmpLqjrt",
        "outputId": "1acd6179-af27-40b4-b56a-cb2f018d7dc5"
      },
      "execution_count": 27,
      "outputs": [
        {
          "output_type": "execute_result",
          "data": {
            "text/plain": [
              "4"
            ]
          },
          "metadata": {},
          "execution_count": 27
        }
      ]
    }
  ]
}